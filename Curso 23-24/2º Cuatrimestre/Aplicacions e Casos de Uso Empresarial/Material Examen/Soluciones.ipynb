{
 "cells": [
  {
   "cell_type": "markdown",
   "metadata": {},
   "source": [
    "# Código creado para resolver el examen"
   ]
  },
  {
   "cell_type": "code",
   "execution_count": 24,
   "metadata": {},
   "outputs": [],
   "source": [
    "import pandas as pd"
   ]
  },
  {
   "cell_type": "markdown",
   "metadata": {},
   "source": [
    "# Ejercicio Taxis\n",
    "Aqui creo una funcion la cual dado una lista de colores, sus probabilidades, la tasa de acierto del testigo y la declaración del testigo, te proporciona las probabilidad calculada de que cada taxi pertenezca a cada color en base al testimonio del testigo."
   ]
  },
  {
   "cell_type": "code",
   "execution_count": 25,
   "metadata": {},
   "outputs": [
    {
     "name": "stdout",
     "output_type": "stream",
     "text": [
      "La probabilidad de que el taxi sea Verde dado que el testigo dijo que es Azul es: 0.29\n",
      "La probabilidad de que el taxi sea Azul dado que el testigo dijo que es Azul es: 0.67\n",
      "La probabilidad de que el taxi sea Rojo dado que el testigo dijo que es Azul es: 0.04\n"
     ]
    }
   ],
   "source": [
    "def calcular_probabilidades_colores(prob_colores, prob_acierto, color_identificado):\n",
    "    prob_fallo = 1 - prob_acierto  # La probabilidad de fallo del testigo\n",
    "\n",
    "    # Inicializamos un diccionario para las probabilidades condicionales\n",
    "    prob_testigo = {}\n",
    "    for color in prob_colores:\n",
    "        if color == color_identificado:\n",
    "            prob_testigo[color] = prob_acierto\n",
    "        else:\n",
    "            prob_testigo[color] = prob_fallo / (len(prob_colores) - 1)\n",
    "\n",
    "    # Calculamos la probabilidad total de que el testigo diga que el taxi es del color identificado\n",
    "    P_T = sum(prob_testigo[color] * prob_colores[color] for color in prob_colores)\n",
    "\n",
    "    # Calculamos las probabilidades condicionales usando el teorema de Bayes\n",
    "    prob_condicionales = {}\n",
    "    for color in prob_colores:\n",
    "        P_T_given_C = prob_testigo[color]\n",
    "        P_C = prob_colores[color]\n",
    "        prob_condicionales[color] = (P_T_given_C * P_C) / P_T\n",
    "\n",
    "    return prob_condicionales\n",
    "\n",
    "# Definimos las probabilidades de los colores de los taxis\n",
    "prob_colores = {\n",
    "    'Verde': 0.70,\n",
    "    'Azul': 0.20,\n",
    "    'Rojo': 0.10\n",
    "}\n",
    "\n",
    "# Definimos la probabilidad de acierto del testigo\n",
    "prob_acierto = 0.80\n",
    "# Color identificado por el testigo\n",
    "color_identificado = 'Azul'\n",
    "\n",
    "probabilidades_colores = calcular_probabilidades_colores(prob_colores, prob_acierto, color_identificado)\n",
    "for color, probabilidad in probabilidades_colores.items():\n",
    "    print(f\"La probabilidad de que el taxi sea {color} dado que el testigo dijo que es {color_identificado} es: {probabilidad:.2f}\")"
   ]
  },
  {
   "cell_type": "markdown",
   "metadata": {},
   "source": [
    "# Ejercicio 3\n",
    "Para estimar las preferencias del usuario en un sistema de recomendación basado en contenido, podemos calcular la frecuencia de compra de cada artículo por el usuario.\n",
    "\n",
    "*He modificado el excel para que la primera celda (transaction ID) esté en A1. No consigo que funcione el código sin esta modificación*\n"
   ]
  },
  {
   "cell_type": "code",
   "execution_count": 26,
   "metadata": {},
   "outputs": [
    {
     "name": "stdout",
     "output_type": "stream",
     "text": [
      "milk       0.222222\n",
      "bread      0.333333\n",
      "butter     0.222222\n",
      "beer       0.111111\n",
      "diapers    0.111111\n",
      "dtype: float64\n"
     ]
    }
   ],
   "source": [
    "# Ruta al archivo XLSX\n",
    "file_path = './TT_dataset_compras.xlsx'\n",
    "\n",
    "# Cargamos los datos\n",
    "df = pd.read_excel(file_path)\n",
    "\n",
    "# Indicamos cual de las columnas es el indice\n",
    "df.set_index('transaction ID', inplace=True)\n",
    "\n",
    "# Esta función es la encargada de calcular las preferencias del usuario\n",
    "def calcular_preferencias_usuario(df):\n",
    "    # Sumamos todas las transacciones para obtener el total de compras de cada producto\n",
    "    total_compras = df.sum()\n",
    "    \n",
    "    # Calculamos la proporción de cada producto en relación al total de compras del usuario\n",
    "    preferencias_usuario = total_compras / total_compras.sum()\n",
    "    \n",
    "    return preferencias_usuario\n",
    "\n",
    "preferencias_usuario = calcular_preferencias_usuario(df)\n",
    "print(preferencias_usuario)"
   ]
  },
  {
   "cell_type": "markdown",
   "metadata": {},
   "source": [
    "# Predecir la valoración"
   ]
  },
  {
   "cell_type": "code",
   "execution_count": 27,
   "metadata": {},
   "outputs": [
    {
     "name": "stdout",
     "output_type": "stream",
     "text": [
      "Predicción de la valoracion del usuario u31 a la tapa t1: 4.43\n"
     ]
    }
   ],
   "source": [
    "# Ruta al archivo CSV\n",
    "file_path = './acue_examen_dataset_sincomillas.csv'\n",
    "\n",
    "# Cargamos los datos desde el archivo CSV\n",
    "data = pd.read_csv(file_path, delimiter=',')\n",
    "\n",
    "# Dividir los datos en dos dataframes: uno para las valoraciones de la tapa 't1' y otro para las valoraciones del usuario 'u31'\n",
    "ratings_t1_df = data[data['tapaID'] == 't1']\n",
    "u31_ratings_df = data[data['userID'] == 'u31']\n",
    "\n",
    "# Recomendador Colaborativo basado en el promedio de Valoraciones de Otros Usuarios\n",
    "def recomendador_colaborativo(ratings_df):\n",
    "    average_rating = ratings_df['tapaRating'].mean()\n",
    "    return average_rating\n",
    "\n",
    "# Aplicar los métodos y obtener las predicciones\n",
    "valoracion = recomendador_colaborativo(ratings_t1_df)\n",
    "\n",
    "# Mostrar las predicciones\n",
    "print(f\"Predicción de la valoracion del usuario u31 a la tapa t1: {valoracion:.2f}\")\n"
   ]
  }
 ],
 "metadata": {
  "kernelspec": {
   "display_name": "Python 3",
   "language": "python",
   "name": "python3"
  },
  "language_info": {
   "codemirror_mode": {
    "name": "ipython",
    "version": 3
   },
   "file_extension": ".py",
   "mimetype": "text/x-python",
   "name": "python",
   "nbconvert_exporter": "python",
   "pygments_lexer": "ipython3",
   "version": "3.12.0"
  }
 },
 "nbformat": 4,
 "nbformat_minor": 2
}
