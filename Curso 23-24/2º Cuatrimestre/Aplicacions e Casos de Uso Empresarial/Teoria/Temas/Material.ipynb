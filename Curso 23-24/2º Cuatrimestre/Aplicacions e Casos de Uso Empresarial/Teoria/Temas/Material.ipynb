{
 "cells": [
  {
   "cell_type": "markdown",
   "metadata": {},
   "source": [
    "## APUNTES EXAME ACUE"
   ]
  },
  {
   "cell_type": "markdown",
   "metadata": {},
   "source": [
    "Ejercicio Taxis"
   ]
  },
  {
   "cell_type": "code",
   "execution_count": 1,
   "metadata": {},
   "outputs": [
    {
     "name": "stdout",
     "output_type": "stream",
     "text": [
      "La probabilidad de que el taxi sea Verde dado que el testigo dijo que es Rojo es: 0.41\n",
      "La probabilidad de que el taxi sea Azul dado que el testigo dijo que es Rojo es: 0.12\n",
      "La probabilidad de que el taxi sea Rojo dado que el testigo dijo que es Rojo es: 0.47\n"
     ]
    }
   ],
   "source": [
    "def calcular_probabilidades_colores(prob_colores, prob_acierto, color_identificado):\n",
    "    \"\"\"\n",
    "    Calcula las probabilidades de que el taxi sea de cada color dado que el testigo identificó un color específico.\n",
    "\n",
    "    :param prob_colores: Diccionario con la probabilidad de cada color de taxi.\n",
    "    :param prob_acierto: Probabilidad de acierto del testigo.\n",
    "    :param color_identificado: Color que el testigo identificó.\n",
    "    :return: Diccionario con las probabilidades de que el taxi sea de cada color.\n",
    "    \"\"\"\n",
    "    prob_fallo = 1 - prob_acierto  # La probabilidad de fallo del testigo\n",
    "\n",
    "    # Inicializamos un diccionario para las probabilidades condicionales\n",
    "    prob_testigo = {}\n",
    "    for color in prob_colores:\n",
    "        if color == color_identificado:\n",
    "            prob_testigo[color] = prob_acierto\n",
    "        else:\n",
    "            prob_testigo[color] = prob_fallo / (len(prob_colores) - 1)\n",
    "\n",
    "    # Calculamos la probabilidad total de que el testigo diga que el taxi es del color identificado\n",
    "    P_T = sum(prob_testigo[color] * prob_colores[color] for color in prob_colores)\n",
    "\n",
    "    # Calculamos las probabilidades condicionales usando el teorema de Bayes\n",
    "    prob_condicionales = {}\n",
    "    for color in prob_colores:\n",
    "        P_T_given_C = prob_testigo[color]\n",
    "        P_C = prob_colores[color]\n",
    "        prob_condicionales[color] = (P_T_given_C * P_C) / P_T\n",
    "\n",
    "    return prob_condicionales\n",
    "\n",
    "# Definimos las probabilidades de los colores de los taxis\n",
    "prob_colores = {\n",
    "    'Verde': 0.70,\n",
    "    'Azul': 0.20,\n",
    "    'Rojo': 0.10\n",
    "}\n",
    "\n",
    "# Definimos la probabilidad de acierto del testigo\n",
    "prob_acierto = 0.80\n",
    "\n",
    "# Color identificado por el testigo\n",
    "color_identificado = 'Rojo'\n",
    "\n",
    "# Calculamos las probabilidades de que el taxi sea de cada color\n",
    "probabilidades_colores = calcular_probabilidades_colores(prob_colores, prob_acierto, color_identificado)\n",
    "\n",
    "# Imprimimos los resultados\n",
    "for color, probabilidad in probabilidades_colores.items():\n",
    "    print(f\"La probabilidad de que el taxi sea {color} dado que el testigo dijo que es {color_identificado} es: {probabilidad:.2f}\")"
   ]
  },
  {
   "cell_type": "markdown",
   "metadata": {},
   "source": [
    "# Sistemas de recomendacion:\n",
    "\n",
    "Basado en contenido: “Muestrame másde lo que he escogido o me ha gustado\"\n",
    "\n",
    "Colaborativo: “Dime lo que está gustandoen la comunidad de usuarios\"\n",
    "\n",
    "Híbrido: combinación de varias estrategiasy fuentes de datos"
   ]
  },
  {
   "cell_type": "markdown",
   "metadata": {},
   "source": [
    "Preferencias del usuario en un sistema de recomendación basado en contenido"
   ]
  },
  {
   "cell_type": "markdown",
   "metadata": {},
   "source": [
    "Para estimar las preferencias del usuario en un sistema de recomendación basado en contenido, podemos calcular la frecuencia de compra de cada artículo por el usuario.\n"
   ]
  },
  {
   "cell_type": "code",
   "execution_count": 3,
   "metadata": {},
   "outputs": [
    {
     "name": "stdout",
     "output_type": "stream",
     "text": [
      "    milk  bread  butter  beer  diapers\n",
      "ID                                    \n",
      "1      1      1       0     0        0\n",
      "2      0      0       1     0        0\n",
      "3      0      0       0     1        1\n",
      "4      1      1       1     0        0\n",
      "5      0      1       0     0        0\n",
      "milk       0.222222\n",
      "bread      0.333333\n",
      "butter     0.222222\n",
      "beer       0.111111\n",
      "diapers    0.111111\n",
      "dtype: float64\n"
     ]
    }
   ],
   "source": [
    "import pandas as pd\n",
    "# Ruta al archivo XLSX\n",
    "file_path = './TT_dataset_compras.xlsx'\n",
    "\n",
    "# Cargar los datos desde el archivo XLSX\n",
    "df = pd.read_excel(file_path)\n",
    "# df = pd.read_csv(file_path_csv)\n",
    "\n",
    "# Asegurarnos de que la columna índice sea la correcta\n",
    "df.set_index('ID', inplace=True)\n",
    "\n",
    "# Mostrar las primeras filas del dataframe para confirmar la carga\n",
    "print(df.head())\n",
    "\n",
    "# Calculamos las preferencias del usuario basado en las compras\n",
    "def calcular_preferencias_usuario(df):\n",
    "    # Sumar todas las transacciones para obtener el total de compras de cada producto\n",
    "    total_compras = df.sum()\n",
    "    \n",
    "    # Calcular la proporción de cada producto en relación al total de compras del usuario\n",
    "    preferencias_usuario = total_compras / total_compras.sum()\n",
    "    \n",
    "    return preferencias_usuario\n",
    "\n",
    "# Calculamos las preferencias del usuario\n",
    "preferencias_usuario = calcular_preferencias_usuario(df)\n",
    "\n",
    "# Mostramos las preferencias del usuario\n",
    "print(preferencias_usuario)"
   ]
  },
  {
   "cell_type": "markdown",
   "metadata": {},
   "source": [
    "# Utilidad\n",
    "\n",
    "La utilidad es una medida de satisfacción o valor que un individuo asigna a diferentes resultados posibles de una decisión. En el marco de la Teoría de la Utilidad, se utilizan varias herramientas y conceptos para estimar y aplicar esta medida\n",
    "\n",
    "Una forma de calcularlo es la Teoria de Utilidad Esperada, donde la utilidad de una opcion es la suma de las probabilidades de los elementos por su utilidad esperada.\n",
    "\n",
    "Por ejemplo:\n",
    "\n",
    "Opción A:\n",
    "2500 euros con probabilidad 0.33\n",
    "2400 euros con probabilidad 0.66\n",
    "0 con probabilidad 0.1 \n",
    "\n",
    "Opción B:\n",
    "2400 euros con probabilidad 0.34\n",
    "0 con probabilidad 0.66 \n",
    "\n",
    "Utilidad Esperada A =(2500×0.33)+(2400×0.66)+(0×0.1) = 2409\n",
    "Utilidad Esperada A =(2400×0.34)+(0×0.66) = 816\n",
    "\n",
    "Dependiendo del problema se puede modificar el calculo, como en el caso del convexo que es mas conservador y se usaria log(2500 + 1)"
   ]
  },
  {
   "cell_type": "markdown",
   "metadata": {},
   "source": [
    "¿Qué es la Utilidad?:\n",
    "1. Perspectiva de Marshall:\n",
    "• Funcionalidad de una alternativa.\n",
    "• Se estima comparando los atributos de una alternativa con Teoría de la Utilidad\n",
    "las preferencias del sujeto.\n",
    "• Concepto de Utilidad estándar.\n",
    "2. Perspectiva de Bentham:\n",
    "• Satisfacción que se espera obtener de una alternativa.\n",
    "• Concepto original de Utilidad."
   ]
  },
  {
   "cell_type": "markdown",
   "metadata": {},
   "source": [
    "# Modelo RISP-DM (Cross-Industry Standard Process for Data Mining)\n",
    "(1) **Fase más importante**: Business Understanding\n",
    "Justificación: La fase de entendimiento del negocio es crucial porque establece las bases y objetivos del proyecto. Sin una comprensión clara del problema de negocio y de lo que se quiere lograr, es muy probable que el proyecto no entregue el valor esperado o incluso que falle. Esta fase involucra definir los objetivos del negocio, entender las restricciones, identificar las variables clave y formular las preguntas que el análisis de datos intentará responder. Es aquí donde se alinean las expectativas del negocio con las capacidades técnicas del equipo de Data Science.\n",
    "\n",
    "(2) **Fase que requiere más tiempo de trabajo**: Data Preparation\n",
    "Justificación: La preparación de datos tiende a ser la fase más laboriosa y que consume más tiempo en un proyecto de Data Science. Este proceso incluye la recolección de datos, limpieza, transformación, y la integración de diferentes fuentes de datos. A menudo, los datos brutos están incompletos, sucios o en formatos no compatibles, lo cual requiere un esfuerzo considerable para preparar un dataset que sea apto para el análisis y modelado. Según estudios y experiencias de la industria, esta fase puede consumir hasta el 80% del tiempo total del proyecto.\n",
    "\n",
    "Perfiles más idóneos para cada fase del proyecto\n",
    "1. Business Understanding\n",
    "Perfil más idóneo: Economista, Analista de Negocios\n",
    "Justificación: Los economistas y analistas de negocios son ideales para esta fase porque tienen una comprensión profunda de los procesos y objetivos del negocio. Son capaces de traducir problemas de negocio en términos técnicos y analíticos que puedan ser abordados por el equipo de Data Science. Además, tienen la habilidad de identificar oportunidades y restricciones desde una perspectiva estratégica.\n",
    "\n",
    "2. Data Understanding\n",
    "Perfil más idóneo: Estadístico, Científico de Datos\n",
    "Justificación: Los estadísticos y científicos de datos tienen las habilidades necesarias para explorar y analizar los datos de manera inicial. Pueden identificar patrones, tendencias y anomalías, y evaluar la calidad y relevancia de los datos para el proyecto. Su conocimiento en técnicas exploratorias y estadísticas es esencial para esta fase.\n",
    "\n",
    "3. Data Preparation\n",
    "Perfil más idóneo: Ingeniero Informático, Científico de Datos\n",
    "Justificación: Los ingenieros informáticos son expertos en manejar grandes volúmenes de datos, escribir scripts de limpieza, y transformar datos de diferentes fuentes y formatos. Los científicos de datos también juegan un papel importante aquí, ya que entienden los requisitos del modelado y pueden preparar los datos de manera adecuada para los algoritmos de machine learning.\n",
    "\n",
    "4. Modeling\n",
    "Perfil más idóneo: Matemático, Estadístico, Científico de Datos\n",
    "Justificación: Los matemáticos y estadísticos tienen una sólida formación en teorías y métodos analíticos que son fundamentales para construir modelos precisos y robustos. Los científicos de datos, con su conocimiento práctico de los algoritmos de machine learning y herramientas de software, también son esenciales para esta fase.\n",
    "\n",
    "5. Evaluation\n",
    "Perfil más idóneo: Estadístico, Científico de Datos\n",
    "Justificación: La evaluación de los modelos requiere una comprensión profunda de las métricas de desempeño y la capacidad de interpretar los resultados de manera significativa. Los estadísticos y científicos de datos están capacitados para realizar estas evaluaciones, ajustar los modelos y validar su efectividad.\n",
    "\n",
    "6. Deployment\n",
    "Perfil más idóneo: Ingeniero Informático, Científico de Datos\n",
    "Justificación: El despliegue de modelos en producción necesita conocimientos de ingeniería de software, infraestructuras de TI y DevOps. Los ingenieros informáticos son esenciales para esta fase debido a su experiencia en estos campos. Los científicos de datos también contribuyen asegurando que los modelos se integren correctamente y funcionen como se espera en un entorno real."
   ]
  },
  {
   "cell_type": "markdown",
   "metadata": {},
   "source": []
  }
 ],
 "metadata": {
  "kernelspec": {
   "display_name": "Python 3",
   "language": "python",
   "name": "python3"
  },
  "language_info": {
   "codemirror_mode": {
    "name": "ipython",
    "version": 3
   },
   "file_extension": ".py",
   "mimetype": "text/x-python",
   "name": "python",
   "nbconvert_exporter": "python",
   "pygments_lexer": "ipython3",
   "version": "3.12.0"
  }
 },
 "nbformat": 4,
 "nbformat_minor": 2
}
