{
 "cells": [
  {
   "cell_type": "code",
   "execution_count": 1,
   "id": "1bcb01ab",
   "metadata": {},
   "outputs": [],
   "source": [
    "import pandas as pd\n",
    "import numpy as np\n",
    "from sklearn import datasets"
   ]
  },
  {
   "cell_type": "code",
   "execution_count": 2,
   "id": "3e87797c",
   "metadata": {},
   "outputs": [
    {
     "data": {
      "text/html": [
       "<div>\n",
       "<style scoped>\n",
       "    .dataframe tbody tr th:only-of-type {\n",
       "        vertical-align: middle;\n",
       "    }\n",
       "\n",
       "    .dataframe tbody tr th {\n",
       "        vertical-align: top;\n",
       "    }\n",
       "\n",
       "    .dataframe thead th {\n",
       "        text-align: right;\n",
       "    }\n",
       "</style>\n",
       "<table border=\"1\" class=\"dataframe\">\n",
       "  <thead>\n",
       "    <tr style=\"text-align: right;\">\n",
       "      <th></th>\n",
       "      <th>id</th>\n",
       "      <th>diagnosis</th>\n",
       "      <th>radius_mean</th>\n",
       "      <th>texture_mean</th>\n",
       "      <th>perimeter_mean</th>\n",
       "      <th>area_mean</th>\n",
       "      <th>smoothness_mean</th>\n",
       "      <th>compactness_mean</th>\n",
       "      <th>concavity_mean</th>\n",
       "      <th>concave points_mean</th>\n",
       "      <th>...</th>\n",
       "      <th>texture_worst</th>\n",
       "      <th>perimeter_worst</th>\n",
       "      <th>area_worst</th>\n",
       "      <th>smoothness_worst</th>\n",
       "      <th>compactness_worst</th>\n",
       "      <th>concavity_worst</th>\n",
       "      <th>concave points_worst</th>\n",
       "      <th>symmetry_worst</th>\n",
       "      <th>fractal_dimension_worst</th>\n",
       "      <th>Unnamed: 32</th>\n",
       "    </tr>\n",
       "  </thead>\n",
       "  <tbody>\n",
       "    <tr>\n",
       "      <th>0</th>\n",
       "      <td>842302</td>\n",
       "      <td>M</td>\n",
       "      <td>17.99</td>\n",
       "      <td>10.38</td>\n",
       "      <td>122.80</td>\n",
       "      <td>1001.0</td>\n",
       "      <td>0.11840</td>\n",
       "      <td>0.27760</td>\n",
       "      <td>0.3001</td>\n",
       "      <td>0.14710</td>\n",
       "      <td>...</td>\n",
       "      <td>17.33</td>\n",
       "      <td>184.60</td>\n",
       "      <td>2019.0</td>\n",
       "      <td>0.1622</td>\n",
       "      <td>0.6656</td>\n",
       "      <td>0.7119</td>\n",
       "      <td>0.2654</td>\n",
       "      <td>0.4601</td>\n",
       "      <td>0.11890</td>\n",
       "      <td>NaN</td>\n",
       "    </tr>\n",
       "    <tr>\n",
       "      <th>1</th>\n",
       "      <td>842517</td>\n",
       "      <td>M</td>\n",
       "      <td>20.57</td>\n",
       "      <td>17.77</td>\n",
       "      <td>132.90</td>\n",
       "      <td>1326.0</td>\n",
       "      <td>0.08474</td>\n",
       "      <td>0.07864</td>\n",
       "      <td>0.0869</td>\n",
       "      <td>0.07017</td>\n",
       "      <td>...</td>\n",
       "      <td>23.41</td>\n",
       "      <td>158.80</td>\n",
       "      <td>1956.0</td>\n",
       "      <td>0.1238</td>\n",
       "      <td>0.1866</td>\n",
       "      <td>0.2416</td>\n",
       "      <td>0.1860</td>\n",
       "      <td>0.2750</td>\n",
       "      <td>0.08902</td>\n",
       "      <td>NaN</td>\n",
       "    </tr>\n",
       "    <tr>\n",
       "      <th>2</th>\n",
       "      <td>84300903</td>\n",
       "      <td>M</td>\n",
       "      <td>19.69</td>\n",
       "      <td>21.25</td>\n",
       "      <td>130.00</td>\n",
       "      <td>1203.0</td>\n",
       "      <td>0.10960</td>\n",
       "      <td>0.15990</td>\n",
       "      <td>0.1974</td>\n",
       "      <td>0.12790</td>\n",
       "      <td>...</td>\n",
       "      <td>25.53</td>\n",
       "      <td>152.50</td>\n",
       "      <td>1709.0</td>\n",
       "      <td>0.1444</td>\n",
       "      <td>0.4245</td>\n",
       "      <td>0.4504</td>\n",
       "      <td>0.2430</td>\n",
       "      <td>0.3613</td>\n",
       "      <td>0.08758</td>\n",
       "      <td>NaN</td>\n",
       "    </tr>\n",
       "    <tr>\n",
       "      <th>3</th>\n",
       "      <td>84348301</td>\n",
       "      <td>M</td>\n",
       "      <td>11.42</td>\n",
       "      <td>20.38</td>\n",
       "      <td>77.58</td>\n",
       "      <td>386.1</td>\n",
       "      <td>0.14250</td>\n",
       "      <td>0.28390</td>\n",
       "      <td>0.2414</td>\n",
       "      <td>0.10520</td>\n",
       "      <td>...</td>\n",
       "      <td>26.50</td>\n",
       "      <td>98.87</td>\n",
       "      <td>567.7</td>\n",
       "      <td>0.2098</td>\n",
       "      <td>0.8663</td>\n",
       "      <td>0.6869</td>\n",
       "      <td>0.2575</td>\n",
       "      <td>0.6638</td>\n",
       "      <td>0.17300</td>\n",
       "      <td>NaN</td>\n",
       "    </tr>\n",
       "    <tr>\n",
       "      <th>4</th>\n",
       "      <td>84358402</td>\n",
       "      <td>M</td>\n",
       "      <td>20.29</td>\n",
       "      <td>14.34</td>\n",
       "      <td>135.10</td>\n",
       "      <td>1297.0</td>\n",
       "      <td>0.10030</td>\n",
       "      <td>0.13280</td>\n",
       "      <td>0.1980</td>\n",
       "      <td>0.10430</td>\n",
       "      <td>...</td>\n",
       "      <td>16.67</td>\n",
       "      <td>152.20</td>\n",
       "      <td>1575.0</td>\n",
       "      <td>0.1374</td>\n",
       "      <td>0.2050</td>\n",
       "      <td>0.4000</td>\n",
       "      <td>0.1625</td>\n",
       "      <td>0.2364</td>\n",
       "      <td>0.07678</td>\n",
       "      <td>NaN</td>\n",
       "    </tr>\n",
       "  </tbody>\n",
       "</table>\n",
       "<p>5 rows × 33 columns</p>\n",
       "</div>"
      ],
      "text/plain": [
       "         id diagnosis  radius_mean  texture_mean  perimeter_mean  area_mean  \\\n",
       "0    842302         M        17.99         10.38          122.80     1001.0   \n",
       "1    842517         M        20.57         17.77          132.90     1326.0   \n",
       "2  84300903         M        19.69         21.25          130.00     1203.0   \n",
       "3  84348301         M        11.42         20.38           77.58      386.1   \n",
       "4  84358402         M        20.29         14.34          135.10     1297.0   \n",
       "\n",
       "   smoothness_mean  compactness_mean  concavity_mean  concave points_mean  \\\n",
       "0          0.11840           0.27760          0.3001              0.14710   \n",
       "1          0.08474           0.07864          0.0869              0.07017   \n",
       "2          0.10960           0.15990          0.1974              0.12790   \n",
       "3          0.14250           0.28390          0.2414              0.10520   \n",
       "4          0.10030           0.13280          0.1980              0.10430   \n",
       "\n",
       "   ...  texture_worst  perimeter_worst  area_worst  smoothness_worst  \\\n",
       "0  ...          17.33           184.60      2019.0            0.1622   \n",
       "1  ...          23.41           158.80      1956.0            0.1238   \n",
       "2  ...          25.53           152.50      1709.0            0.1444   \n",
       "3  ...          26.50            98.87       567.7            0.2098   \n",
       "4  ...          16.67           152.20      1575.0            0.1374   \n",
       "\n",
       "   compactness_worst  concavity_worst  concave points_worst  symmetry_worst  \\\n",
       "0             0.6656           0.7119                0.2654          0.4601   \n",
       "1             0.1866           0.2416                0.1860          0.2750   \n",
       "2             0.4245           0.4504                0.2430          0.3613   \n",
       "3             0.8663           0.6869                0.2575          0.6638   \n",
       "4             0.2050           0.4000                0.1625          0.2364   \n",
       "\n",
       "   fractal_dimension_worst  Unnamed: 32  \n",
       "0                  0.11890          NaN  \n",
       "1                  0.08902          NaN  \n",
       "2                  0.08758          NaN  \n",
       "3                  0.17300          NaN  \n",
       "4                  0.07678          NaN  \n",
       "\n",
       "[5 rows x 33 columns]"
      ]
     },
     "execution_count": 2,
     "metadata": {},
     "output_type": "execute_result"
    }
   ],
   "source": [
    "df = pd.read_csv('data.csv')\n",
    "df.head()"
   ]
  },
  {
   "cell_type": "code",
   "execution_count": 3,
   "id": "735d18fb",
   "metadata": {},
   "outputs": [
    {
     "name": "stdout",
     "output_type": "stream",
     "text": [
      "<class 'pandas.core.frame.DataFrame'>\n",
      "RangeIndex: 569 entries, 0 to 568\n",
      "Data columns (total 33 columns):\n",
      " #   Column                   Non-Null Count  Dtype  \n",
      "---  ------                   --------------  -----  \n",
      " 0   id                       569 non-null    int64  \n",
      " 1   diagnosis                569 non-null    object \n",
      " 2   radius_mean              569 non-null    float64\n",
      " 3   texture_mean             569 non-null    float64\n",
      " 4   perimeter_mean           569 non-null    float64\n",
      " 5   area_mean                569 non-null    float64\n",
      " 6   smoothness_mean          569 non-null    float64\n",
      " 7   compactness_mean         569 non-null    float64\n",
      " 8   concavity_mean           569 non-null    float64\n",
      " 9   concave points_mean      569 non-null    float64\n",
      " 10  symmetry_mean            569 non-null    float64\n",
      " 11  fractal_dimension_mean   569 non-null    float64\n",
      " 12  radius_se                569 non-null    float64\n",
      " 13  texture_se               569 non-null    float64\n",
      " 14  perimeter_se             569 non-null    float64\n",
      " 15  area_se                  569 non-null    float64\n",
      " 16  smoothness_se            569 non-null    float64\n",
      " 17  compactness_se           569 non-null    float64\n",
      " 18  concavity_se             569 non-null    float64\n",
      " 19  concave points_se        569 non-null    float64\n",
      " 20  symmetry_se              569 non-null    float64\n",
      " 21  fractal_dimension_se     569 non-null    float64\n",
      " 22  radius_worst             569 non-null    float64\n",
      " 23  texture_worst            569 non-null    float64\n",
      " 24  perimeter_worst          569 non-null    float64\n",
      " 25  area_worst               569 non-null    float64\n",
      " 26  smoothness_worst         569 non-null    float64\n",
      " 27  compactness_worst        569 non-null    float64\n",
      " 28  concavity_worst          569 non-null    float64\n",
      " 29  concave points_worst     569 non-null    float64\n",
      " 30  symmetry_worst           569 non-null    float64\n",
      " 31  fractal_dimension_worst  569 non-null    float64\n",
      " 32  Unnamed: 32              0 non-null      float64\n",
      "dtypes: float64(31), int64(1), object(1)\n",
      "memory usage: 146.8+ KB\n"
     ]
    }
   ],
   "source": [
    "df.info()"
   ]
  },
  {
   "cell_type": "code",
   "execution_count": 4,
   "id": "48bf9c8b",
   "metadata": {},
   "outputs": [
    {
     "data": {
      "text/plain": [
       "array(['M', 'B'], dtype=object)"
      ]
     },
     "execution_count": 4,
     "metadata": {},
     "output_type": "execute_result"
    }
   ],
   "source": [
    "pd.unique(df['diagnosis'])"
   ]
  },
  {
   "cell_type": "code",
   "execution_count": 5,
   "id": "e662355a",
   "metadata": {},
   "outputs": [],
   "source": [
    "del df['id']\n",
    "del df['Unnamed: 32']"
   ]
  },
  {
   "cell_type": "code",
   "execution_count": 6,
   "id": "661eee6f",
   "metadata": {},
   "outputs": [],
   "source": [
    "X = df.loc[:, 'radius_mean':'fractal_dimension_worst']\n",
    "y = df['diagnosis']"
   ]
  },
  {
   "cell_type": "code",
   "execution_count": 7,
   "id": "a5ec00fd",
   "metadata": {},
   "outputs": [
    {
     "name": "stdout",
     "output_type": "stream",
     "text": [
      "0      1\n",
      "1      1\n",
      "2      1\n",
      "3      1\n",
      "4      1\n",
      "      ..\n",
      "564    1\n",
      "565    1\n",
      "566    1\n",
      "567    1\n",
      "568    0\n",
      "Name: diagnosis, Length: 569, dtype: int64\n"
     ]
    }
   ],
   "source": [
    "di = {'M': 1, 'B': 0}\n",
    "y = y.map(di)\n",
    "print(y)"
   ]
  },
  {
   "cell_type": "code",
   "execution_count": null,
   "id": "63268f0c",
   "metadata": {},
   "outputs": [],
   "source": []
  },
  {
   "cell_type": "code",
   "execution_count": 8,
   "id": "596ffe0f",
   "metadata": {},
   "outputs": [],
   "source": [
    "from sklearn.model_selection import train_test_split"
   ]
  },
  {
   "cell_type": "code",
   "execution_count": 9,
   "id": "127c4cec",
   "metadata": {},
   "outputs": [],
   "source": [
    "X_train, X_test, y_train, y_test = train_test_split(X, y, test_size=0.4)"
   ]
  },
  {
   "cell_type": "code",
   "execution_count": 10,
   "id": "d6f0f0af",
   "metadata": {},
   "outputs": [],
   "source": [
    "from sklearn.preprocessing import StandardScaler\n",
    "from sklearn.svm import SVC\n",
    "from sklearn.ensemble import RandomForestClassifier\n",
    "from sklearn.ensemble import GradientBoostingClassifier\n",
    "from sklearn.neighbors import KNeighborsClassifier\n",
    "from sklearn.tree import DecisionTreeClassifier"
   ]
  },
  {
   "cell_type": "code",
   "execution_count": 11,
   "id": "990e8367",
   "metadata": {},
   "outputs": [],
   "source": [
    "# Estandarizar los datos\n",
    "sc = StandardScaler()\n",
    "sc.fit(X_train)\n",
    "X_train_std = sc.transform(X_train)\n",
    "X_test_std = sc.transform(X_test)"
   ]
  },
  {
   "cell_type": "code",
   "execution_count": 12,
   "id": "fba3e0db",
   "metadata": {},
   "outputs": [],
   "source": [
    "# Ajustamos el svm\n",
    "svc = SVC(kernel='linear', C=10.0, random_state=1)\n",
    "svc.fit(X_train_std, y_train)\n",
    "# Obtener la predicción\n",
    "y_pred_svc = svc.predict(X_test_std)\n",
    "\n",
    "# Ajustamos el Random Forest\n",
    "rf = RandomForestClassifier(n_estimators=100)\n",
    "rff = rf.fit(X_train_std, y_train)\n",
    "# Obtener la predicción\n",
    "y_pred_rf = rff.predict(X_test_std)\n",
    "\n",
    "# Ajustamos el GradientBoosting\n",
    "gb = GradientBoostingClassifier()\n",
    "gbf = gb.fit(X_train_std, y_train)\n",
    "# Obtener la predicción\n",
    "y_pred_gb = gbf.predict(X_test_std)\n",
    "\n",
    "# Ajustamos el GradientBoosting\n",
    "knn = KNeighborsClassifier()\n",
    "knnf = knn.fit(X_train_std, y_train)\n",
    "# Obtener la predicción\n",
    "y_pred_knn = knnf.predict(X_test_std)\n",
    "\n",
    "# Ajustamos el GradientBoosting\n",
    "dt = DecisionTreeClassifier()\n",
    "dtf = dt.fit(X_train_std, y_train)\n",
    "# Obtener la predicción\n",
    "y_pred_dt = dtf.predict(X_test_std)"
   ]
  },
  {
   "cell_type": "code",
   "execution_count": 13,
   "id": "6db99cee",
   "metadata": {},
   "outputs": [
    {
     "name": "stdout",
     "output_type": "stream",
     "text": [
      "La matriz de confusión del SVC es: \n",
      "[[138   4]\n",
      " [  2  84]]\n",
      "La matriz de confusión del RF es: \n",
      "[[139   3]\n",
      " [  7  79]]\n",
      "La matriz de confusión del GB es: \n",
      "[[141   1]\n",
      " [  6  80]]\n",
      "La matriz de confusión del KNN es: \n",
      "[[139   3]\n",
      " [  4  82]]\n",
      "La matriz de confusión del DT es: \n",
      "[[134   8]\n",
      " [  9  77]]\n"
     ]
    }
   ],
   "source": [
    "from sklearn.metrics import confusion_matrix\n",
    "matriz = confusion_matrix(y_true=y_test, y_pred=y_pred_svc)\n",
    "print('La matriz de confusión del SVC es: \\n{}'.format(matriz))\n",
    "\n",
    "matriz = confusion_matrix(y_true=y_test, y_pred=y_pred_rf)\n",
    "print('La matriz de confusión del RF es: \\n{}'.format(matriz))\n",
    "\n",
    "matriz = confusion_matrix(y_true=y_test, y_pred=y_pred_gb)\n",
    "print('La matriz de confusión del GB es: \\n{}'.format(matriz))\n",
    "\n",
    "matriz = confusion_matrix(y_true=y_test, y_pred=y_pred_knn)\n",
    "print('La matriz de confusión del KNN es: \\n{}'.format(matriz))\n",
    "\n",
    "matriz = confusion_matrix(y_true=y_test, y_pred=y_pred_dt)\n",
    "print('La matriz de confusión del DT es: \\n{}'.format(matriz))"
   ]
  },
  {
   "cell_type": "code",
   "execution_count": 14,
   "id": "6f16cc5a",
   "metadata": {},
   "outputs": [
    {
     "name": "stdout",
     "output_type": "stream",
     "text": [
      "La precisión es del SVC: 0.9545454545454546\n",
      "El recall es del SVC: 0.9767441860465116\n",
      "El f1-score es del SVC: 0.9655172413793104\n",
      "La accuracy es del SVC: 0.9736842105263158\n",
      "La precisión es del RF: 0.9634146341463414\n",
      "El recall es del RF: 0.9186046511627907\n",
      "El f1-score es del RF: 0.9404761904761905\n",
      "La accuracy es del RF: 0.956140350877193\n"
     ]
    }
   ],
   "source": [
    "from sklearn.metrics import precision_score, recall_score, f1_score, accuracy_score\n",
    "precision = precision_score(y_test, y_pred_svc)\n",
    "recall = recall_score(y_test, y_pred_svc)\n",
    "f1 = f1_score(y_test, y_pred_svc)\n",
    "accuracy = accuracy_score(y_test, y_pred_svc)\n",
    "print('La precisión es del SVC: {}'.format(precision))\n",
    "print('El recall es del SVC: {}'.format(recall))\n",
    "print('El f1-score es del SVC: {}'.format(f1))\n",
    "print('La accuracy es del SVC: {}'.format(accuracy))\n",
    "\n",
    "precision = precision_score(y_test, y_pred_rf)\n",
    "recall = recall_score(y_test, y_pred_rf)\n",
    "f1 = f1_score(y_test, y_pred_rf)\n",
    "accuracy = accuracy_score(y_test, y_pred_rf)\n",
    "print('La precisión es del RF: {}'.format(precision))\n",
    "print('El recall es del RF: {}'.format(recall))\n",
    "print('El f1-score es del RF: {}'.format(f1))\n",
    "print('La accuracy es del RF: {}'.format(accuracy))"
   ]
  },
  {
   "cell_type": "code",
   "execution_count": 15,
   "id": "5a036e7a",
   "metadata": {},
   "outputs": [],
   "source": [
    "from sklearn.metrics import auc, roc_curve\n",
    "fpr_svc, tpr_svc, thresholds = roc_curve(y_test, y_pred_svc, pos_label=1)\n",
    "fpr_rf, tpr_rf, thresholds = roc_curve(y_test, y_pred_rf, pos_label=1)\n",
    "fpr_gb, tpr_gb, thresholds = roc_curve(y_test, y_pred_gb, pos_label=1)\n",
    "fpr_knn, tpr_knn, thresholds = roc_curve(y_test, y_pred_knn, pos_label=1)\n",
    "fpr_dt, tpr_dt, thresholds = roc_curve(y_test, y_pred_dt, pos_label=1)"
   ]
  },
  {
   "cell_type": "code",
   "execution_count": 16,
   "id": "eeab95d4",
   "metadata": {},
   "outputs": [
    {
     "name": "stdout",
     "output_type": "stream",
     "text": [
      "El área bajo la curva es del SVC: 0.9742875859810023\n",
      "El área bajo la curva es del RF: 0.9487389452997051\n",
      "El área bajo la curva es del GB: 0.961595152309204\n",
      "El área bajo la curva es del KNN: 0.9661808057648215\n",
      "El área bajo la curva es del DT: 0.9195054045201442\n"
     ]
    }
   ],
   "source": [
    "print('El área bajo la curva es del SVC: {}'.format(auc(fpr_svc, tpr_svc)))\n",
    "print('El área bajo la curva es del RF: {}'.format(auc(fpr_rf, tpr_rf)))\n",
    "print('El área bajo la curva es del GB: {}'.format(auc(fpr_gb, tpr_gb)))\n",
    "print('El área bajo la curva es del KNN: {}'.format(auc(fpr_knn, tpr_knn)))\n",
    "print('El área bajo la curva es del DT: {}'.format(auc(fpr_dt, tpr_dt)))"
   ]
  },
  {
   "cell_type": "code",
   "execution_count": 17,
   "id": "d010c2ff",
   "metadata": {},
   "outputs": [
    {
     "data": {
      "image/png": "[encoded data removed]",
      "text/plain": [
       "<Figure size 1200x1000 with 1 Axes>"
      ]
     },
     "metadata": {},
     "output_type": "display_data"
    }
   ],
   "source": [
    "import matplotlib.pyplot as plt\n",
    "# Crear figura\n",
    "fig = plt.figure(figsize=(12,10))\n",
    "ax = fig.add_subplot(111)\n",
    "\n",
    "# Pintar la diagonal\n",
    "ax.plot([0,1],[0,1],ls='--')\n",
    "\n",
    "# Pintar los ejes\n",
    "ax.set_xlabel('Ratio de falsos positivos')\n",
    "ax.set_ylabel('Ratio de verdaderos positivos')\n",
    "ax.set_title('Curva ROC')\n",
    "\n",
    "# Delimitar los ejes\n",
    "ax.set_xlim([0.0, 1.0])\n",
    "ax.set_ylim([0.0, 1.0])\n",
    "\n",
    "# Pintar la curva\n",
    "ax.plot(fpr_svc, tpr_svc, label='svm')\n",
    "ax.plot(fpr_rf, tpr_rf, label='rf')\n",
    "ax.plot(fpr_gb, tpr_gb, label='gb')\n",
    "ax.plot(fpr_knn, tpr_knn, label='knn')\n",
    "ax.plot(fpr_dt, tpr_dt, label='dt')\n",
    "\n",
    "# Mostrar plot\n",
    "ax.legend(loc='lower right')\n",
    "plt.show()"
   ]
  }
 ],
 "metadata": {
  "kernelspec": {
   "display_name": "Python 3 (ipykernel)",
   "language": "python",
   "name": "python3"
  },
  "language_info": {
   "codemirror_mode": {
    "name": "ipython",
    "version": 3
   },
   "file_extension": ".py",
   "mimetype": "text/x-python",
   "name": "python",
   "nbconvert_exporter": "python",
   "pygments_lexer": "ipython3",
   "version": "3.12.0"
  }
 },
 "nbformat": 4,
 "nbformat_minor": 5
}
