{
 "cells": [
  {
   "cell_type": "markdown",
   "metadata": {},
   "source": [
    "## Imputación de datos"
   ]
  },
  {
   "cell_type": "code",
   "execution_count": 1,
   "metadata": {},
   "outputs": [],
   "source": [
    "from sklearn.impute import SimpleImputer\n",
    "import pandas as pd"
   ]
  },
  {
   "cell_type": "code",
   "execution_count": 17,
   "metadata": {},
   "outputs": [
    {
     "data": {
      "text/html": [
       "<div>\n",
       "<style scoped>\n",
       "    .dataframe tbody tr th:only-of-type {\n",
       "        vertical-align: middle;\n",
       "    }\n",
       "\n",
       "    .dataframe tbody tr th {\n",
       "        vertical-align: top;\n",
       "    }\n",
       "\n",
       "    .dataframe thead th {\n",
       "        text-align: right;\n",
       "    }\n",
       "</style>\n",
       "<table border=\"1\" class=\"dataframe\">\n",
       "  <thead>\n",
       "    <tr style=\"text-align: right;\">\n",
       "      <th></th>\n",
       "      <th>EDAD</th>\n",
       "      <th>SEXO</th>\n",
       "      <th>ESTEROIDES</th>\n",
       "      <th>ANTIVIRALES</th>\n",
       "      <th>FATIGA</th>\n",
       "      <th>MALAISE</th>\n",
       "      <th>ANOREXIA</th>\n",
       "      <th>HIGgrande</th>\n",
       "      <th>HIGfirme</th>\n",
       "      <th>BAZOpalpa</th>\n",
       "      <th>ARANIAVASC</th>\n",
       "      <th>ASCITIS</th>\n",
       "      <th>VARICES</th>\n",
       "      <th>BILIRRUBINA</th>\n",
       "      <th>FOSFATOalc</th>\n",
       "      <th>SGOT</th>\n",
       "      <th>ALBUMIA</th>\n",
       "      <th>PROTIME</th>\n",
       "      <th>HISTIOLOGIA</th>\n",
       "      <th>PRONOSTICO</th>\n",
       "    </tr>\n",
       "  </thead>\n",
       "  <tbody>\n",
       "    <tr>\n",
       "      <th>0</th>\n",
       "      <td>50</td>\n",
       "      <td>0</td>\n",
       "      <td>0</td>\n",
       "      <td>0</td>\n",
       "      <td>1</td>\n",
       "      <td>0</td>\n",
       "      <td>0</td>\n",
       "      <td>0</td>\n",
       "      <td>0</td>\n",
       "      <td>0</td>\n",
       "      <td>0</td>\n",
       "      <td>0</td>\n",
       "      <td>0</td>\n",
       "      <td>0.9</td>\n",
       "      <td>135</td>\n",
       "      <td>42</td>\n",
       "      <td>3.5</td>\n",
       "      <td>*</td>\n",
       "      <td>0</td>\n",
       "      <td>1</td>\n",
       "    </tr>\n",
       "    <tr>\n",
       "      <th>1</th>\n",
       "      <td>78</td>\n",
       "      <td>0</td>\n",
       "      <td>1</td>\n",
       "      <td>0</td>\n",
       "      <td>1</td>\n",
       "      <td>0</td>\n",
       "      <td>0</td>\n",
       "      <td>1</td>\n",
       "      <td>0</td>\n",
       "      <td>0</td>\n",
       "      <td>0</td>\n",
       "      <td>0</td>\n",
       "      <td>0</td>\n",
       "      <td>0.7</td>\n",
       "      <td>96</td>\n",
       "      <td>32</td>\n",
       "      <td>4.0</td>\n",
       "      <td>*</td>\n",
       "      <td>0</td>\n",
       "      <td>1</td>\n",
       "    </tr>\n",
       "    <tr>\n",
       "      <th>2</th>\n",
       "      <td>31</td>\n",
       "      <td>0</td>\n",
       "      <td>*</td>\n",
       "      <td>1</td>\n",
       "      <td>0</td>\n",
       "      <td>0</td>\n",
       "      <td>0</td>\n",
       "      <td>1</td>\n",
       "      <td>0</td>\n",
       "      <td>0</td>\n",
       "      <td>0</td>\n",
       "      <td>0</td>\n",
       "      <td>0</td>\n",
       "      <td>0.7</td>\n",
       "      <td>46</td>\n",
       "      <td>52</td>\n",
       "      <td>4.0</td>\n",
       "      <td>80</td>\n",
       "      <td>0</td>\n",
       "      <td>1</td>\n",
       "    </tr>\n",
       "    <tr>\n",
       "      <th>3</th>\n",
       "      <td>34</td>\n",
       "      <td>0</td>\n",
       "      <td>1</td>\n",
       "      <td>0</td>\n",
       "      <td>0</td>\n",
       "      <td>0</td>\n",
       "      <td>0</td>\n",
       "      <td>1</td>\n",
       "      <td>0</td>\n",
       "      <td>0</td>\n",
       "      <td>0</td>\n",
       "      <td>0</td>\n",
       "      <td>0</td>\n",
       "      <td>1.0</td>\n",
       "      <td>*</td>\n",
       "      <td>200</td>\n",
       "      <td>4.0</td>\n",
       "      <td>*</td>\n",
       "      <td>0</td>\n",
       "      <td>1</td>\n",
       "    </tr>\n",
       "    <tr>\n",
       "      <th>4</th>\n",
       "      <td>34</td>\n",
       "      <td>0</td>\n",
       "      <td>1</td>\n",
       "      <td>0</td>\n",
       "      <td>0</td>\n",
       "      <td>0</td>\n",
       "      <td>0</td>\n",
       "      <td>1</td>\n",
       "      <td>0</td>\n",
       "      <td>0</td>\n",
       "      <td>0</td>\n",
       "      <td>0</td>\n",
       "      <td>0</td>\n",
       "      <td>0.9</td>\n",
       "      <td>95</td>\n",
       "      <td>28</td>\n",
       "      <td>4.0</td>\n",
       "      <td>75</td>\n",
       "      <td>0</td>\n",
       "      <td>1</td>\n",
       "    </tr>\n",
       "  </tbody>\n",
       "</table>\n",
       "</div>"
      ],
      "text/plain": [
       "   EDAD  SEXO ESTEROIDES  ANTIVIRALES FATIGA MALAISE ANOREXIA HIGgrande  \\\n",
       "0    50     0          0            0      1       0        0         0   \n",
       "1    78     0          1            0      1       0        0         1   \n",
       "2    31     0          *            1      0       0        0         1   \n",
       "3    34     0          1            0      0       0        0         1   \n",
       "4    34     0          1            0      0       0        0         1   \n",
       "\n",
       "  HIGfirme BAZOpalpa ARANIAVASC ASCITIS VARICES  BILIRRUBINA FOSFATOalc SGOT  \\\n",
       "0        0         0          0       0       0          0.9        135   42   \n",
       "1        0         0          0       0       0          0.7         96   32   \n",
       "2        0         0          0       0       0          0.7         46   52   \n",
       "3        0         0          0       0       0          1.0          *  200   \n",
       "4        0         0          0       0       0          0.9         95   28   \n",
       "\n",
       "  ALBUMIA PROTIME  HISTIOLOGIA  PRONOSTICO  \n",
       "0     3.5       *            0           1  \n",
       "1     4.0       *            0           1  \n",
       "2     4.0      80            0           1  \n",
       "3     4.0       *            0           1  \n",
       "4     4.0      75            0           1  "
      ]
     },
     "execution_count": 17,
     "metadata": {},
     "output_type": "execute_result"
    }
   ],
   "source": [
    "df = pd.read_csv('hepatitis.csv')\n",
    "columnas = ['EDAD', 'SEXO', 'ESTEROIDES', 'ANTIVIRALES', 'FATIGA', 'MALAISE', 'ANOREXIA', 'HIGgrande', 'HIGfirme', 'BAZOpalpa', 'ARANIAVASC',\n",
    "            'ASCITIS', 'VARICES', 'BILIRRUBINA', 'FOSFATOalc', 'SGOT', 'ALBUMIA', 'PROTIME', 'HISTIOLOGIA', 'PRONOSTICO']\n",
    "df.columns = columnas\n",
    "df['BILIRRUBINA'] = pd.to_numeric(df['BILIRRUBINA'], errors='coerce')\n",
    "df.head()"
   ]
  },
  {
   "cell_type": "code",
   "execution_count": 18,
   "metadata": {},
   "outputs": [],
   "source": [
    "df_imp = df.copy()\n",
    "si = SimpleImputer(strategy='mean')"
   ]
  },
  {
   "cell_type": "code",
   "execution_count": 19,
   "metadata": {},
   "outputs": [
    {
     "data": {
      "text/plain": [
       "0      0.9\n",
       "1      0.7\n",
       "2      0.7\n",
       "3      1.0\n",
       "4      0.9\n",
       "      ... \n",
       "149    7.6\n",
       "150    0.9\n",
       "151    0.8\n",
       "152    1.5\n",
       "153    1.2\n",
       "Name: BILIRRUBINA, Length: 154, dtype: float64"
      ]
     },
     "execution_count": 19,
     "metadata": {},
     "output_type": "execute_result"
    }
   ],
   "source": [
    "# Usamos reshape porque el SimpleImputer recibe columnas y no filas\n",
    "df_imp['BILIRRUBINA'] = si.fit_transform(df_imp['BILIRRUBINA'].values.reshape(-1, 1))\n",
    "df_imp['BILIRRUBINA']"
   ]
  },
  {
   "cell_type": "code",
   "execution_count": 20,
   "metadata": {},
   "outputs": [
    {
     "data": {
      "text/plain": [
       "<Axes: xlabel='EDAD', ylabel='BILIRRUBINA'>"
      ]
     },
     "execution_count": 20,
     "metadata": {},
     "output_type": "execute_result"
    },
    {
     "data": {
      "image/png": "[encoded data removed]",
      "text/plain": [
       "<Figure size 640x480 with 2 Axes>"
      ]
     },
     "metadata": {},
     "output_type": "display_data"
    }
   ],
   "source": [
    "null_values = df['BILIRRUBINA'].isnull()\n",
    "df_imp.plot(x='EDAD', y='BILIRRUBINA', kind='scatter', c=null_values, cmap='viridis')"
   ]
  },
  {
   "cell_type": "code",
   "execution_count": null,
   "metadata": {},
   "outputs": [],
   "source": [
    "df_imp2 = df.copy()\n",
    "si = SimpleImputer(strategy='median')\n",
    "df_imp2['BILIRRUBINA'] = si.fit_transform(df_imp2['BILIRRUBINA'].values.reshape(-1, 1))\n",
    "df_imp2.plot(x='EDAD', y='BILIRRUBINA', kind='scatter', c=null_values, cmap='viridis')\n"
   ]
  }
 ],
 "metadata": {
  "kernelspec": {
   "display_name": "Python 3",
   "language": "python",
   "name": "python3"
  },
  "language_info": {
   "codemirror_mode": {
    "name": "ipython",
    "version": 3
   },
   "file_extension": ".py",
   "mimetype": "text/x-python",
   "name": "python",
   "nbconvert_exporter": "python",
   "pygments_lexer": "ipython3",
   "version": "3.12.0"
  }
 },
 "nbformat": 4,
 "nbformat_minor": 2
}
