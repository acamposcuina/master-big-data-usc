{
 "cells": [
  {
   "cell_type": "markdown",
   "id": "7f93d5d0",
   "metadata": {},
   "source": [
    "\n",
    "\n",
    "# Preprocesamiento de datos\n",
    "\n",
    "## Introducción\n",
    "\n",
    "En esta sesión vamos a ver los aspectos básicos y herramientas que nos va a permitir desarrollar técnicas de preprocesamiento de datos en `python`. \n",
    "\n",
    "<div class='alert-warning'>\n",
    "  <strong>Librerías necesarias:</strong> `pandas`, `math`, `numpy`, `missingno`, `seaborn`, `sklearn`, `imbalanced-learn` y `ROSE`.\n",
    "</div>\n"
   ]
  },
  {
   "cell_type": "code",
   "execution_count": 1,
   "id": "9b5212d2",
   "metadata": {},
   "outputs": [],
   "source": [
    "import math\n",
    "import pandas as pd\n",
    "import numpy as np"
   ]
  },
  {
   "cell_type": "markdown",
   "id": "d227fac4",
   "metadata": {},
   "source": [
    "\n",
    "## Valores ausentes\n",
    "\n",
    "Al igual que en la mayoría de los lenguajes de programación, en `python` también podemos encontrar valores especiales que indican alguna excepción respecto a los valores normales. En lo que se refiere a los valores ausentes, pandas indica los valores ausentes principalmente por `NaN` (del inglés, not a number) o por el símbolo `None`. En `python`, el `NaN` se puede especificar de dos formas con `math.nan` o con `numpy.NaN`.\n",
    "\n",
    "Ejemplo de datos ausentes. Dado el siguiente dataframe:"
   ]
  },
  {
   "cell_type": "code",
   "execution_count": 2,
   "id": "7329be84",
   "metadata": {},
   "outputs": [
    {
     "name": "stdout",
     "output_type": "stream",
     "text": [
      "     a    b\n",
      "0  NaN  3.0\n",
      "1  1.0  NaN\n",
      "2  2.0  1.0\n"
     ]
    }
   ],
   "source": [
    "df = pd.DataFrame({\"a\": [None, 1, 2], \"b\": [3, np.NaN, 1]})  \n",
    "print(df)"
   ]
  },
  {
   "cell_type": "markdown",
   "id": "bfb5e7e0",
   "metadata": {},
   "source": [
    "Podemos ver que `python` convierte el `None` a `NaN`, uniformizando la representación de los datos ausentes. \n",
    "\n",
    "¿Qué pasaría si le añadimos dos columnas, de tipo entero y real, pero sin ningún valor?"
   ]
  },
  {
   "cell_type": "code",
   "execution_count": 3,
   "id": "aad95933",
   "metadata": {},
   "outputs": [
    {
     "name": "stdout",
     "output_type": "stream",
     "text": [
      "     a    b   c   d\n",
      "0  NaN  3.0 NaN NaN\n",
      "1  1.0  NaN NaN NaN\n",
      "2  2.0  1.0 NaN NaN\n"
     ]
    }
   ],
   "source": [
    "df['c'] = pd.Series(dtype='int32')\n",
    "df['d'] = pd.Series(dtype='float32')\n",
    "print(df)"
   ]
  },
  {
   "cell_type": "markdown",
   "id": "2e7a08bc",
   "metadata": {},
   "source": [
    "Otros valores especiales como una cadena de caracteres vacía o un infinito (`math.inf` o `numpy.Inf`) no se consideran valores perdidos:"
   ]
  },
  {
   "cell_type": "code",
   "execution_count": 4,
   "id": "384ce655",
   "metadata": {},
   "outputs": [
    {
     "name": "stdout",
     "output_type": "stream",
     "text": [
      "     a    b   c   d e    f\n",
      "0  NaN  3.0 NaN NaN    inf\n",
      "1  1.0  NaN NaN NaN    inf\n",
      "2  2.0  1.0 NaN NaN    inf\n"
     ]
    }
   ],
   "source": [
    "df['e'] = ''\n",
    "df['f'] = np.Inf\n",
    "print(df)"
   ]
  },
  {
   "cell_type": "markdown",
   "id": "f6e3bce4",
   "metadata": {},
   "source": [
    "Esto último lo podemos comprobar mediante el método `isnull()`:"
   ]
  },
  {
   "cell_type": "code",
   "execution_count": 5,
   "id": "69b093df",
   "metadata": {},
   "outputs": [
    {
     "data": {
      "text/html": [
       "<div>\n",
       "<style scoped>\n",
       "    .dataframe tbody tr th:only-of-type {\n",
       "        vertical-align: middle;\n",
       "    }\n",
       "\n",
       "    .dataframe tbody tr th {\n",
       "        vertical-align: top;\n",
       "    }\n",
       "\n",
       "    .dataframe thead th {\n",
       "        text-align: right;\n",
       "    }\n",
       "</style>\n",
       "<table border=\"1\" class=\"dataframe\">\n",
       "  <thead>\n",
       "    <tr style=\"text-align: right;\">\n",
       "      <th></th>\n",
       "      <th>a</th>\n",
       "      <th>b</th>\n",
       "      <th>c</th>\n",
       "      <th>d</th>\n",
       "      <th>e</th>\n",
       "      <th>f</th>\n",
       "    </tr>\n",
       "  </thead>\n",
       "  <tbody>\n",
       "    <tr>\n",
       "      <th>0</th>\n",
       "      <td>True</td>\n",
       "      <td>False</td>\n",
       "      <td>True</td>\n",
       "      <td>True</td>\n",
       "      <td>False</td>\n",
       "      <td>False</td>\n",
       "    </tr>\n",
       "    <tr>\n",
       "      <th>1</th>\n",
       "      <td>False</td>\n",
       "      <td>True</td>\n",
       "      <td>True</td>\n",
       "      <td>True</td>\n",
       "      <td>False</td>\n",
       "      <td>False</td>\n",
       "    </tr>\n",
       "    <tr>\n",
       "      <th>2</th>\n",
       "      <td>False</td>\n",
       "      <td>False</td>\n",
       "      <td>True</td>\n",
       "      <td>True</td>\n",
       "      <td>False</td>\n",
       "      <td>False</td>\n",
       "    </tr>\n",
       "  </tbody>\n",
       "</table>\n",
       "</div>"
      ],
      "text/plain": [
       "       a      b     c     d      e      f\n",
       "0   True  False  True  True  False  False\n",
       "1  False   True  True  True  False  False\n",
       "2  False  False  True  True  False  False"
      ]
     },
     "execution_count": 5,
     "metadata": {},
     "output_type": "execute_result"
    }
   ],
   "source": [
    "df.isnull()"
   ]
  },
  {
   "cell_type": "markdown",
   "id": "85aabe17",
   "metadata": {},
   "source": [
    "Un último valor especial es el NA, que se especifica en python mediante `pd.NA`. Éste es un valor experimental (a partir de pandas 1.4.0), por lo que muchos algoritmos de aprendizaje no pueden gestionarlo. Se recomienda no usarlo, por ahora. "
   ]
  },
  {
   "cell_type": "code",
   "execution_count": 6,
   "id": "408fcd23",
   "metadata": {},
   "outputs": [
    {
     "name": "stdout",
     "output_type": "stream",
     "text": [
      "     a    b   c   d e    f     g\n",
      "0  NaN  3.0 NaN NaN    inf    10\n",
      "1  1.0  NaN NaN NaN    inf  <NA>\n",
      "2  2.0  1.0 NaN NaN    inf    12\n"
     ]
    }
   ],
   "source": [
    "df['g'] = pd.Series([10, pd.NA, 12])\n",
    "print(df)"
   ]
  },
  {
   "cell_type": "code",
   "execution_count": 7,
   "id": "70dcd25c",
   "metadata": {},
   "outputs": [],
   "source": [
    "df = pd.DataFrame({\"a\": [0, pd.NA, 2], \"b\": [0, 3, 2]})"
   ]
  },
  {
   "cell_type": "markdown",
   "id": "4ff605cb",
   "metadata": {},
   "source": [
    "Algunas curiosidades de los números especiales: "
   ]
  },
  {
   "cell_type": "code",
   "execution_count": 8,
   "id": "c9660de3",
   "metadata": {},
   "outputs": [
    {
     "data": {
      "text/plain": [
       "False"
      ]
     },
     "execution_count": 8,
     "metadata": {},
     "output_type": "execute_result"
    }
   ],
   "source": [
    "np.NaN == math.nan  # Igual que en otros lenguajes de programación, p.e. R"
   ]
  },
  {
   "cell_type": "code",
   "execution_count": 9,
   "id": "180b9809",
   "metadata": {},
   "outputs": [
    {
     "data": {
      "text/plain": [
       "False"
      ]
     },
     "execution_count": 9,
     "metadata": {},
     "output_type": "execute_result"
    }
   ],
   "source": [
    "np.NaN == np.NaN"
   ]
  },
  {
   "cell_type": "code",
   "execution_count": 10,
   "id": "85114181",
   "metadata": {},
   "outputs": [
    {
     "data": {
      "text/plain": [
       "<NA>"
      ]
     },
     "execution_count": 10,
     "metadata": {},
     "output_type": "execute_result"
    }
   ],
   "source": [
    "pd.NA == pd.NA  # Igual que en otros lenguajes de programación, p.e. R"
   ]
  },
  {
   "cell_type": "markdown",
   "id": "c5a074aa",
   "metadata": {},
   "source": [
    "Teniendo en cuenta las anteriores definiciones, intenta descubrir el resultado de las siguientes operaciones y porqué se produce dicho resultado:\n",
    "\n",
    "- `pd.NA+1`\n",
    "- `sum([pd.NA, 1, 2])`\n",
    "- `len([pd.NA, 1, 2, 3])`\n",
    "- `3 == pd.NA`\n",
    "- `sum([2,3,np.NaN,4])`\n",
    "- `math.nan == None`\n",
    "- `None == None`\n",
    "- `2 * np.Inf`\n",
    "- `p.Inf - 10e+10`\n",
    "- `np.Inf + np.Inf`\n",
    "- `math.exp(np.Inf)`\n",
    "- `math.exp(math.nan)`"
   ]
  },
  {
   "cell_type": "markdown",
   "id": "44f77b66",
   "metadata": {},
   "source": [
    "## Lectura de datos\n",
    "\n",
    "`python` es capaz de leer y procesar datos en multitud de formatos. Aquí nos vamos a centrar en datos en forma de tabla y en formato texto (la mayoría de las aplicaciones pueden exportar a este formato). A groso modo podemos decir que un dataset es técnicamente correcto cuando:\n",
    "\n",
    "- está almacenado en un `Dataframe` con los nombres adecuados para las columnas (atributos), y \n",
    "- cada columna es del tipo de dato acorde con el domino de la variable que representa. Por ejemplo, los datos categóricos deben estar definidos como `category` y los números como `float` o `int`.\n",
    "\n",
    "\n",
    "<div class='alert alert-danger'>\n",
    "En tareas de clasificación, hay que asegurarse de que la variable que indica la clase esté definida como `category`. Esto se debe a que hay casos en que las clases se etiquetan con números $(0, 1, ..)$. Al importar esta información, \\textsf{python} entiende que la variable es numérica, y cuando intentemos crear modelos de clasificación, puede que genere modelos de regresión. \n",
    "</div>\n",
    "\n",
    "\n",
    "<div class='alert alert-info'>\n",
    "<strong>Ejercicio:</strong> \n",
    "  \n",
    "Abre con algún editor el fichero `hepatitis.csv` que podrás encontrar en el campus virtual.\n",
    "\n",
    "1. ¿Cuáles crees que deben ser los tipos asociados a cada columna?\n",
    "2. ¿Existen valores desconocidos? ¿Cómo están representados?\n",
    "3. ¿Qué información crees que falta?\n",
    "</div>\n"
   ]
  },
  {
   "cell_type": "markdown",
   "id": "de6e7be0",
   "metadata": {},
   "source": [
    "Las función más básicas que ofrece `pandas` para leer datos en formato texto son:\n",
    "\n",
    "- `read_csv()` para valores separados por comas con el punto para separar decimales         \n",
    "- `read_table()` para valores separados por tabuladores u otros delimitadores  \n",
    "\n",
    "Todas estas funciones aceptan entre otros los siguientes parámetros:\n",
    "\n",
    "- `header` para indicar si la primera fila contiene los nombres de las columnas\n",
    "- `names` para indicar en un array de strings con los nombres de las columnas\n",
    "- `na_values` para indicar con un array cómo se representan los valores ausentes\n",
    "- `delimiter` para indicar el caracter con el que se separan las celdas  \n",
    "- `decimal` para indicar el caracter de punto decimal      \n",
    "- `quotechar` para indicar el caracter que indica una cadena de texto\n",
    "\n",
    "\n",
    "<div class='alert-warning'>\n",
    "Cuando importes unos datos con algunas de estas funciones, examínalos primero con funciones como \n",
    "`head()` o `info()`.\n",
    "</div>\n",
    "\n",
    "\n",
    "<div class='alert alert-info'>\n",
    "<strong>Ejercicio:</strong> \n",
    "Lee el fichero `hepatitis.csv` y guárdalo en la variable `df`. Examina su cabecera. ¿Qué sucede? \n",
    "</div>"
   ]
  },
  {
   "cell_type": "code",
   "execution_count": 11,
   "id": "8e7a257e",
   "metadata": {},
   "outputs": [
    {
     "data": {
      "text/html": [
       "<div>\n",
       "<style scoped>\n",
       "    .dataframe tbody tr th:only-of-type {\n",
       "        vertical-align: middle;\n",
       "    }\n",
       "\n",
       "    .dataframe tbody tr th {\n",
       "        vertical-align: top;\n",
       "    }\n",
       "\n",
       "    .dataframe thead th {\n",
       "        text-align: right;\n",
       "    }\n",
       "</style>\n",
       "<table border=\"1\" class=\"dataframe\">\n",
       "  <thead>\n",
       "    <tr style=\"text-align: right;\">\n",
       "      <th></th>\n",
       "      <th>30</th>\n",
       "      <th>1</th>\n",
       "      <th>0</th>\n",
       "      <th>0.1</th>\n",
       "      <th>0.2</th>\n",
       "      <th>0.3</th>\n",
       "      <th>0.4</th>\n",
       "      <th>0.5</th>\n",
       "      <th>0.6</th>\n",
       "      <th>0.7</th>\n",
       "      <th>0.8</th>\n",
       "      <th>0.9</th>\n",
       "      <th>0.10</th>\n",
       "      <th>1.0</th>\n",
       "      <th>85</th>\n",
       "      <th>18</th>\n",
       "      <th>4.0</th>\n",
       "      <th>*</th>\n",
       "      <th>0.11</th>\n",
       "      <th>1.1</th>\n",
       "    </tr>\n",
       "  </thead>\n",
       "  <tbody>\n",
       "    <tr>\n",
       "      <th>0</th>\n",
       "      <td>50</td>\n",
       "      <td>0</td>\n",
       "      <td>0</td>\n",
       "      <td>0</td>\n",
       "      <td>1</td>\n",
       "      <td>0</td>\n",
       "      <td>0</td>\n",
       "      <td>0</td>\n",
       "      <td>0</td>\n",
       "      <td>0</td>\n",
       "      <td>0</td>\n",
       "      <td>0</td>\n",
       "      <td>0</td>\n",
       "      <td>0.9</td>\n",
       "      <td>135</td>\n",
       "      <td>42</td>\n",
       "      <td>3.5</td>\n",
       "      <td>*</td>\n",
       "      <td>0</td>\n",
       "      <td>1</td>\n",
       "    </tr>\n",
       "    <tr>\n",
       "      <th>1</th>\n",
       "      <td>78</td>\n",
       "      <td>0</td>\n",
       "      <td>1</td>\n",
       "      <td>0</td>\n",
       "      <td>1</td>\n",
       "      <td>0</td>\n",
       "      <td>0</td>\n",
       "      <td>1</td>\n",
       "      <td>0</td>\n",
       "      <td>0</td>\n",
       "      <td>0</td>\n",
       "      <td>0</td>\n",
       "      <td>0</td>\n",
       "      <td>0.7</td>\n",
       "      <td>96</td>\n",
       "      <td>32</td>\n",
       "      <td>4.0</td>\n",
       "      <td>*</td>\n",
       "      <td>0</td>\n",
       "      <td>1</td>\n",
       "    </tr>\n",
       "    <tr>\n",
       "      <th>2</th>\n",
       "      <td>31</td>\n",
       "      <td>0</td>\n",
       "      <td>*</td>\n",
       "      <td>1</td>\n",
       "      <td>0</td>\n",
       "      <td>0</td>\n",
       "      <td>0</td>\n",
       "      <td>1</td>\n",
       "      <td>0</td>\n",
       "      <td>0</td>\n",
       "      <td>0</td>\n",
       "      <td>0</td>\n",
       "      <td>0</td>\n",
       "      <td>0.7</td>\n",
       "      <td>46</td>\n",
       "      <td>52</td>\n",
       "      <td>4.0</td>\n",
       "      <td>80</td>\n",
       "      <td>0</td>\n",
       "      <td>1</td>\n",
       "    </tr>\n",
       "    <tr>\n",
       "      <th>3</th>\n",
       "      <td>34</td>\n",
       "      <td>0</td>\n",
       "      <td>1</td>\n",
       "      <td>0</td>\n",
       "      <td>0</td>\n",
       "      <td>0</td>\n",
       "      <td>0</td>\n",
       "      <td>1</td>\n",
       "      <td>0</td>\n",
       "      <td>0</td>\n",
       "      <td>0</td>\n",
       "      <td>0</td>\n",
       "      <td>0</td>\n",
       "      <td>1.0</td>\n",
       "      <td>*</td>\n",
       "      <td>200</td>\n",
       "      <td>4.0</td>\n",
       "      <td>*</td>\n",
       "      <td>0</td>\n",
       "      <td>1</td>\n",
       "    </tr>\n",
       "    <tr>\n",
       "      <th>4</th>\n",
       "      <td>34</td>\n",
       "      <td>0</td>\n",
       "      <td>1</td>\n",
       "      <td>0</td>\n",
       "      <td>0</td>\n",
       "      <td>0</td>\n",
       "      <td>0</td>\n",
       "      <td>1</td>\n",
       "      <td>0</td>\n",
       "      <td>0</td>\n",
       "      <td>0</td>\n",
       "      <td>0</td>\n",
       "      <td>0</td>\n",
       "      <td>0.9</td>\n",
       "      <td>95</td>\n",
       "      <td>28</td>\n",
       "      <td>4.0</td>\n",
       "      <td>75</td>\n",
       "      <td>0</td>\n",
       "      <td>1</td>\n",
       "    </tr>\n",
       "  </tbody>\n",
       "</table>\n",
       "</div>"
      ],
      "text/plain": [
       "   30  1  0  0.1 0.2 0.3 0.4 0.5 0.6 0.7 0.8 0.9 0.10  1.0   85   18  4.0   *  \\\n",
       "0  50  0  0    0   1   0   0   0   0   0   0   0    0  0.9  135   42  3.5   *   \n",
       "1  78  0  1    0   1   0   0   1   0   0   0   0    0  0.7   96   32  4.0   *   \n",
       "2  31  0  *    1   0   0   0   1   0   0   0   0    0  0.7   46   52  4.0  80   \n",
       "3  34  0  1    0   0   0   0   1   0   0   0   0    0  1.0    *  200  4.0   *   \n",
       "4  34  0  1    0   0   0   0   1   0   0   0   0    0  0.9   95   28  4.0  75   \n",
       "\n",
       "   0.11  1.1  \n",
       "0     0    1  \n",
       "1     0    1  \n",
       "2     0    1  \n",
       "3     0    1  \n",
       "4     0    1  "
      ]
     },
     "execution_count": 11,
     "metadata": {},
     "output_type": "execute_result"
    }
   ],
   "source": [
    "df = pd.read_csv('./hepatitis.csv')\n",
    "df.head()"
   ]
  },
  {
   "cell_type": "markdown",
   "id": "ac0f71ee",
   "metadata": {},
   "source": [
    "Como puedes ver, el fichero no tiene cabecera, por lo que habría que cargarlo con la opción `header=None`"
   ]
  },
  {
   "cell_type": "code",
   "execution_count": 12,
   "id": "81dd612e",
   "metadata": {},
   "outputs": [
    {
     "data": {
      "text/html": [
       "<div>\n",
       "<style scoped>\n",
       "    .dataframe tbody tr th:only-of-type {\n",
       "        vertical-align: middle;\n",
       "    }\n",
       "\n",
       "    .dataframe tbody tr th {\n",
       "        vertical-align: top;\n",
       "    }\n",
       "\n",
       "    .dataframe thead th {\n",
       "        text-align: right;\n",
       "    }\n",
       "</style>\n",
       "<table border=\"1\" class=\"dataframe\">\n",
       "  <thead>\n",
       "    <tr style=\"text-align: right;\">\n",
       "      <th></th>\n",
       "      <th>0</th>\n",
       "      <th>1</th>\n",
       "      <th>2</th>\n",
       "      <th>3</th>\n",
       "      <th>4</th>\n",
       "      <th>5</th>\n",
       "      <th>6</th>\n",
       "      <th>7</th>\n",
       "      <th>8</th>\n",
       "      <th>9</th>\n",
       "      <th>10</th>\n",
       "      <th>11</th>\n",
       "      <th>12</th>\n",
       "      <th>13</th>\n",
       "      <th>14</th>\n",
       "      <th>15</th>\n",
       "      <th>16</th>\n",
       "      <th>17</th>\n",
       "      <th>18</th>\n",
       "      <th>19</th>\n",
       "    </tr>\n",
       "  </thead>\n",
       "  <tbody>\n",
       "    <tr>\n",
       "      <th>0</th>\n",
       "      <td>30</td>\n",
       "      <td>1</td>\n",
       "      <td>0</td>\n",
       "      <td>0</td>\n",
       "      <td>0</td>\n",
       "      <td>0</td>\n",
       "      <td>0</td>\n",
       "      <td>0</td>\n",
       "      <td>0</td>\n",
       "      <td>0</td>\n",
       "      <td>0</td>\n",
       "      <td>0</td>\n",
       "      <td>0</td>\n",
       "      <td>1.0</td>\n",
       "      <td>85</td>\n",
       "      <td>18</td>\n",
       "      <td>4.0</td>\n",
       "      <td>*</td>\n",
       "      <td>0</td>\n",
       "      <td>1</td>\n",
       "    </tr>\n",
       "    <tr>\n",
       "      <th>1</th>\n",
       "      <td>50</td>\n",
       "      <td>0</td>\n",
       "      <td>0</td>\n",
       "      <td>0</td>\n",
       "      <td>1</td>\n",
       "      <td>0</td>\n",
       "      <td>0</td>\n",
       "      <td>0</td>\n",
       "      <td>0</td>\n",
       "      <td>0</td>\n",
       "      <td>0</td>\n",
       "      <td>0</td>\n",
       "      <td>0</td>\n",
       "      <td>0.9</td>\n",
       "      <td>135</td>\n",
       "      <td>42</td>\n",
       "      <td>3.5</td>\n",
       "      <td>*</td>\n",
       "      <td>0</td>\n",
       "      <td>1</td>\n",
       "    </tr>\n",
       "    <tr>\n",
       "      <th>2</th>\n",
       "      <td>78</td>\n",
       "      <td>0</td>\n",
       "      <td>1</td>\n",
       "      <td>0</td>\n",
       "      <td>1</td>\n",
       "      <td>0</td>\n",
       "      <td>0</td>\n",
       "      <td>1</td>\n",
       "      <td>0</td>\n",
       "      <td>0</td>\n",
       "      <td>0</td>\n",
       "      <td>0</td>\n",
       "      <td>0</td>\n",
       "      <td>0.7</td>\n",
       "      <td>96</td>\n",
       "      <td>32</td>\n",
       "      <td>4.0</td>\n",
       "      <td>*</td>\n",
       "      <td>0</td>\n",
       "      <td>1</td>\n",
       "    </tr>\n",
       "    <tr>\n",
       "      <th>3</th>\n",
       "      <td>31</td>\n",
       "      <td>0</td>\n",
       "      <td>*</td>\n",
       "      <td>1</td>\n",
       "      <td>0</td>\n",
       "      <td>0</td>\n",
       "      <td>0</td>\n",
       "      <td>1</td>\n",
       "      <td>0</td>\n",
       "      <td>0</td>\n",
       "      <td>0</td>\n",
       "      <td>0</td>\n",
       "      <td>0</td>\n",
       "      <td>0.7</td>\n",
       "      <td>46</td>\n",
       "      <td>52</td>\n",
       "      <td>4.0</td>\n",
       "      <td>80</td>\n",
       "      <td>0</td>\n",
       "      <td>1</td>\n",
       "    </tr>\n",
       "    <tr>\n",
       "      <th>4</th>\n",
       "      <td>34</td>\n",
       "      <td>0</td>\n",
       "      <td>1</td>\n",
       "      <td>0</td>\n",
       "      <td>0</td>\n",
       "      <td>0</td>\n",
       "      <td>0</td>\n",
       "      <td>1</td>\n",
       "      <td>0</td>\n",
       "      <td>0</td>\n",
       "      <td>0</td>\n",
       "      <td>0</td>\n",
       "      <td>0</td>\n",
       "      <td>1.0</td>\n",
       "      <td>*</td>\n",
       "      <td>200</td>\n",
       "      <td>4.0</td>\n",
       "      <td>*</td>\n",
       "      <td>0</td>\n",
       "      <td>1</td>\n",
       "    </tr>\n",
       "  </tbody>\n",
       "</table>\n",
       "</div>"
      ],
      "text/plain": [
       "   0   1  2   3  4  5  6  7  8  9  10 11 12   13   14   15   16  17  18  19\n",
       "0  30   1  0   0  0  0  0  0  0  0  0  0  0  1.0   85   18  4.0   *   0   1\n",
       "1  50   0  0   0  1  0  0  0  0  0  0  0  0  0.9  135   42  3.5   *   0   1\n",
       "2  78   0  1   0  1  0  0  1  0  0  0  0  0  0.7   96   32  4.0   *   0   1\n",
       "3  31   0  *   1  0  0  0  1  0  0  0  0  0  0.7   46   52  4.0  80   0   1\n",
       "4  34   0  1   0  0  0  0  1  0  0  0  0  0  1.0    *  200  4.0   *   0   1"
      ]
     },
     "execution_count": 12,
     "metadata": {},
     "output_type": "execute_result"
    }
   ],
   "source": [
    "df = pd.read_csv('./hepatitis.csv', header=None)\n",
    "df.head()"
   ]
  },
  {
   "cell_type": "markdown",
   "id": "f6853fc2",
   "metadata": {},
   "source": [
    "Podemos obtener más detalle de nuestro conjunto de datos a través de la función `info`:"
   ]
  },
  {
   "cell_type": "code",
   "execution_count": 13,
   "id": "72a81c53",
   "metadata": {},
   "outputs": [
    {
     "name": "stdout",
     "output_type": "stream",
     "text": [
      "<class 'pandas.core.frame.DataFrame'>\n",
      "RangeIndex: 155 entries, 0 to 154\n",
      "Data columns (total 20 columns):\n",
      " #   Column  Non-Null Count  Dtype \n",
      "---  ------  --------------  ----- \n",
      " 0   0       155 non-null    int64 \n",
      " 1   1       155 non-null    int64 \n",
      " 2   2       155 non-null    object\n",
      " 3   3       155 non-null    int64 \n",
      " 4   4       155 non-null    object\n",
      " 5   5       155 non-null    object\n",
      " 6   6       155 non-null    object\n",
      " 7   7       155 non-null    object\n",
      " 8   8       155 non-null    object\n",
      " 9   9       155 non-null    object\n",
      " 10  10      155 non-null    object\n",
      " 11  11      155 non-null    object\n",
      " 12  12      155 non-null    object\n",
      " 13  13      155 non-null    object\n",
      " 14  14      155 non-null    object\n",
      " 15  15      155 non-null    object\n",
      " 16  16      155 non-null    object\n",
      " 17  17      155 non-null    object\n",
      " 18  18      155 non-null    int64 \n",
      " 19  19      155 non-null    int64 \n",
      "dtypes: int64(5), object(15)\n",
      "memory usage: 24.3+ KB\n"
     ]
    }
   ],
   "source": [
    "df.info()"
   ]
  },
  {
   "cell_type": "markdown",
   "id": "09cd7b45",
   "metadata": {},
   "source": [
    "Una vez cargado el fichero correctamente, el siguiente paso consiste en nombrar de forma correcta sus columnas. Este paso nos lo podemos saltar en el caso que el conjunto de datos incluya dichos nombres en la primera línea y colocando el parámetro `header=0` al llamar a la función `read_csv`. En nuestro caso, el nombre de cada una de las columnas aparece como información adicional y deberían nombrarse como: EDAD, SEXO, ESTEROIDES, ANTIVIRALES, FATIGA, MALAISE, ANOREXIA, HIGgrande, HIGfirme, BAZOpalpa, ARANIASvac., ASCITIS, VARICES, BILIRRUBINA, FOSFATOalc, SGOT, ALBUMINA, PROTIME, HISTIOLOGIA y PRONOSTICO. Para que las columnas de nuestro conjunto de datos adopten estos nombres debemos ejecutar lo siguiente:"
   ]
  },
  {
   "cell_type": "code",
   "execution_count": 14,
   "id": "167b15ee",
   "metadata": {},
   "outputs": [
    {
     "data": {
      "text/html": [
       "<div>\n",
       "<style scoped>\n",
       "    .dataframe tbody tr th:only-of-type {\n",
       "        vertical-align: middle;\n",
       "    }\n",
       "\n",
       "    .dataframe tbody tr th {\n",
       "        vertical-align: top;\n",
       "    }\n",
       "\n",
       "    .dataframe thead th {\n",
       "        text-align: right;\n",
       "    }\n",
       "</style>\n",
       "<table border=\"1\" class=\"dataframe\">\n",
       "  <thead>\n",
       "    <tr style=\"text-align: right;\">\n",
       "      <th></th>\n",
       "      <th>EDAD</th>\n",
       "      <th>SEXO</th>\n",
       "      <th>ESTEROIDES</th>\n",
       "      <th>ANTIVIRALES</th>\n",
       "      <th>FATIGA</th>\n",
       "      <th>MALAISE</th>\n",
       "      <th>ANOREXIA</th>\n",
       "      <th>HIGgrande</th>\n",
       "      <th>HIGfirme</th>\n",
       "      <th>BAZOpalpa</th>\n",
       "      <th>ARANIASvac</th>\n",
       "      <th>ASCITIS</th>\n",
       "      <th>VARICES</th>\n",
       "      <th>BILIRRUBINA</th>\n",
       "      <th>FOSFATOalc</th>\n",
       "      <th>SGOT</th>\n",
       "      <th>ALBUMINA</th>\n",
       "      <th>PROTIME</th>\n",
       "      <th>HISTIOLOGIA</th>\n",
       "      <th>PRONOSTICO</th>\n",
       "    </tr>\n",
       "  </thead>\n",
       "  <tbody>\n",
       "    <tr>\n",
       "      <th>0</th>\n",
       "      <td>30</td>\n",
       "      <td>1</td>\n",
       "      <td>0</td>\n",
       "      <td>0</td>\n",
       "      <td>0</td>\n",
       "      <td>0</td>\n",
       "      <td>0</td>\n",
       "      <td>0</td>\n",
       "      <td>0</td>\n",
       "      <td>0</td>\n",
       "      <td>0</td>\n",
       "      <td>0</td>\n",
       "      <td>0</td>\n",
       "      <td>1.0</td>\n",
       "      <td>85</td>\n",
       "      <td>18</td>\n",
       "      <td>4.0</td>\n",
       "      <td>*</td>\n",
       "      <td>0</td>\n",
       "      <td>1</td>\n",
       "    </tr>\n",
       "    <tr>\n",
       "      <th>1</th>\n",
       "      <td>50</td>\n",
       "      <td>0</td>\n",
       "      <td>0</td>\n",
       "      <td>0</td>\n",
       "      <td>1</td>\n",
       "      <td>0</td>\n",
       "      <td>0</td>\n",
       "      <td>0</td>\n",
       "      <td>0</td>\n",
       "      <td>0</td>\n",
       "      <td>0</td>\n",
       "      <td>0</td>\n",
       "      <td>0</td>\n",
       "      <td>0.9</td>\n",
       "      <td>135</td>\n",
       "      <td>42</td>\n",
       "      <td>3.5</td>\n",
       "      <td>*</td>\n",
       "      <td>0</td>\n",
       "      <td>1</td>\n",
       "    </tr>\n",
       "    <tr>\n",
       "      <th>2</th>\n",
       "      <td>78</td>\n",
       "      <td>0</td>\n",
       "      <td>1</td>\n",
       "      <td>0</td>\n",
       "      <td>1</td>\n",
       "      <td>0</td>\n",
       "      <td>0</td>\n",
       "      <td>1</td>\n",
       "      <td>0</td>\n",
       "      <td>0</td>\n",
       "      <td>0</td>\n",
       "      <td>0</td>\n",
       "      <td>0</td>\n",
       "      <td>0.7</td>\n",
       "      <td>96</td>\n",
       "      <td>32</td>\n",
       "      <td>4.0</td>\n",
       "      <td>*</td>\n",
       "      <td>0</td>\n",
       "      <td>1</td>\n",
       "    </tr>\n",
       "    <tr>\n",
       "      <th>3</th>\n",
       "      <td>31</td>\n",
       "      <td>0</td>\n",
       "      <td>*</td>\n",
       "      <td>1</td>\n",
       "      <td>0</td>\n",
       "      <td>0</td>\n",
       "      <td>0</td>\n",
       "      <td>1</td>\n",
       "      <td>0</td>\n",
       "      <td>0</td>\n",
       "      <td>0</td>\n",
       "      <td>0</td>\n",
       "      <td>0</td>\n",
       "      <td>0.7</td>\n",
       "      <td>46</td>\n",
       "      <td>52</td>\n",
       "      <td>4.0</td>\n",
       "      <td>80</td>\n",
       "      <td>0</td>\n",
       "      <td>1</td>\n",
       "    </tr>\n",
       "    <tr>\n",
       "      <th>4</th>\n",
       "      <td>34</td>\n",
       "      <td>0</td>\n",
       "      <td>1</td>\n",
       "      <td>0</td>\n",
       "      <td>0</td>\n",
       "      <td>0</td>\n",
       "      <td>0</td>\n",
       "      <td>1</td>\n",
       "      <td>0</td>\n",
       "      <td>0</td>\n",
       "      <td>0</td>\n",
       "      <td>0</td>\n",
       "      <td>0</td>\n",
       "      <td>1.0</td>\n",
       "      <td>*</td>\n",
       "      <td>200</td>\n",
       "      <td>4.0</td>\n",
       "      <td>*</td>\n",
       "      <td>0</td>\n",
       "      <td>1</td>\n",
       "    </tr>\n",
       "  </tbody>\n",
       "</table>\n",
       "</div>"
      ],
      "text/plain": [
       "   EDAD  SEXO ESTEROIDES  ANTIVIRALES FATIGA MALAISE ANOREXIA HIGgrande  \\\n",
       "0    30     1          0            0      0       0        0         0   \n",
       "1    50     0          0            0      1       0        0         0   \n",
       "2    78     0          1            0      1       0        0         1   \n",
       "3    31     0          *            1      0       0        0         1   \n",
       "4    34     0          1            0      0       0        0         1   \n",
       "\n",
       "  HIGfirme BAZOpalpa ARANIASvac ASCITIS VARICES BILIRRUBINA FOSFATOalc SGOT  \\\n",
       "0        0         0          0       0       0         1.0         85   18   \n",
       "1        0         0          0       0       0         0.9        135   42   \n",
       "2        0         0          0       0       0         0.7         96   32   \n",
       "3        0         0          0       0       0         0.7         46   52   \n",
       "4        0         0          0       0       0         1.0          *  200   \n",
       "\n",
       "  ALBUMINA PROTIME  HISTIOLOGIA  PRONOSTICO  \n",
       "0      4.0       *            0           1  \n",
       "1      3.5       *            0           1  \n",
       "2      4.0       *            0           1  \n",
       "3      4.0      80            0           1  \n",
       "4      4.0       *            0           1  "
      ]
     },
     "execution_count": 14,
     "metadata": {},
     "output_type": "execute_result"
    }
   ],
   "source": [
    "colnames = [\"EDAD\", \"SEXO\", \"ESTEROIDES\", \"ANTIVIRALES\",\"FATIGA\", \"MALAISE\", \n",
    "            \"ANOREXIA\", \"HIGgrande\", \"HIGfirme\", \"BAZOpalpa\", \"ARANIASvac\", \n",
    "            \"ASCITIS\", \"VARICES\", \"BILIRRUBINA\", \"FOSFATOalc\", \"SGOT\", \n",
    "            \"ALBUMINA\", \"PROTIME\", \"HISTIOLOGIA\", \"PRONOSTICO\"]\n",
    "df.columns = colnames\n",
    "df.head()"
   ]
  },
  {
   "cell_type": "markdown",
   "id": "b9d5e265",
   "metadata": {},
   "source": [
    "Este paso podría hacerse directamente al llamar la función `read_csv` indicando las columnas en el parámetro `names`:"
   ]
  },
  {
   "cell_type": "code",
   "execution_count": 15,
   "id": "828f026b",
   "metadata": {},
   "outputs": [
    {
     "data": {
      "text/html": [
       "<div>\n",
       "<style scoped>\n",
       "    .dataframe tbody tr th:only-of-type {\n",
       "        vertical-align: middle;\n",
       "    }\n",
       "\n",
       "    .dataframe tbody tr th {\n",
       "        vertical-align: top;\n",
       "    }\n",
       "\n",
       "    .dataframe thead th {\n",
       "        text-align: right;\n",
       "    }\n",
       "</style>\n",
       "<table border=\"1\" class=\"dataframe\">\n",
       "  <thead>\n",
       "    <tr style=\"text-align: right;\">\n",
       "      <th></th>\n",
       "      <th>EDAD</th>\n",
       "      <th>SEXO</th>\n",
       "      <th>ESTEROIDES</th>\n",
       "      <th>ANTIVIRALES</th>\n",
       "      <th>FATIGA</th>\n",
       "      <th>MALAISE</th>\n",
       "      <th>ANOREXIA</th>\n",
       "      <th>HIGgrande</th>\n",
       "      <th>HIGfirme</th>\n",
       "      <th>BAZOpalpa</th>\n",
       "      <th>ARANIASvac</th>\n",
       "      <th>ASCITIS</th>\n",
       "      <th>VARICES</th>\n",
       "      <th>BILIRRUBINA</th>\n",
       "      <th>FOSFATOalc</th>\n",
       "      <th>SGOT</th>\n",
       "      <th>ALBUMINA</th>\n",
       "      <th>PROTIME</th>\n",
       "      <th>HISTIOLOGIA</th>\n",
       "      <th>PRONOSTICO</th>\n",
       "    </tr>\n",
       "  </thead>\n",
       "  <tbody>\n",
       "    <tr>\n",
       "      <th>0</th>\n",
       "      <td>30</td>\n",
       "      <td>1</td>\n",
       "      <td>0</td>\n",
       "      <td>0</td>\n",
       "      <td>0</td>\n",
       "      <td>0</td>\n",
       "      <td>0</td>\n",
       "      <td>0</td>\n",
       "      <td>0</td>\n",
       "      <td>0</td>\n",
       "      <td>0</td>\n",
       "      <td>0</td>\n",
       "      <td>0</td>\n",
       "      <td>1.0</td>\n",
       "      <td>85</td>\n",
       "      <td>18</td>\n",
       "      <td>4.0</td>\n",
       "      <td>*</td>\n",
       "      <td>0</td>\n",
       "      <td>1</td>\n",
       "    </tr>\n",
       "    <tr>\n",
       "      <th>1</th>\n",
       "      <td>50</td>\n",
       "      <td>0</td>\n",
       "      <td>0</td>\n",
       "      <td>0</td>\n",
       "      <td>1</td>\n",
       "      <td>0</td>\n",
       "      <td>0</td>\n",
       "      <td>0</td>\n",
       "      <td>0</td>\n",
       "      <td>0</td>\n",
       "      <td>0</td>\n",
       "      <td>0</td>\n",
       "      <td>0</td>\n",
       "      <td>0.9</td>\n",
       "      <td>135</td>\n",
       "      <td>42</td>\n",
       "      <td>3.5</td>\n",
       "      <td>*</td>\n",
       "      <td>0</td>\n",
       "      <td>1</td>\n",
       "    </tr>\n",
       "    <tr>\n",
       "      <th>2</th>\n",
       "      <td>78</td>\n",
       "      <td>0</td>\n",
       "      <td>1</td>\n",
       "      <td>0</td>\n",
       "      <td>1</td>\n",
       "      <td>0</td>\n",
       "      <td>0</td>\n",
       "      <td>1</td>\n",
       "      <td>0</td>\n",
       "      <td>0</td>\n",
       "      <td>0</td>\n",
       "      <td>0</td>\n",
       "      <td>0</td>\n",
       "      <td>0.7</td>\n",
       "      <td>96</td>\n",
       "      <td>32</td>\n",
       "      <td>4.0</td>\n",
       "      <td>*</td>\n",
       "      <td>0</td>\n",
       "      <td>1</td>\n",
       "    </tr>\n",
       "    <tr>\n",
       "      <th>3</th>\n",
       "      <td>31</td>\n",
       "      <td>0</td>\n",
       "      <td>*</td>\n",
       "      <td>1</td>\n",
       "      <td>0</td>\n",
       "      <td>0</td>\n",
       "      <td>0</td>\n",
       "      <td>1</td>\n",
       "      <td>0</td>\n",
       "      <td>0</td>\n",
       "      <td>0</td>\n",
       "      <td>0</td>\n",
       "      <td>0</td>\n",
       "      <td>0.7</td>\n",
       "      <td>46</td>\n",
       "      <td>52</td>\n",
       "      <td>4.0</td>\n",
       "      <td>80</td>\n",
       "      <td>0</td>\n",
       "      <td>1</td>\n",
       "    </tr>\n",
       "    <tr>\n",
       "      <th>4</th>\n",
       "      <td>34</td>\n",
       "      <td>0</td>\n",
       "      <td>1</td>\n",
       "      <td>0</td>\n",
       "      <td>0</td>\n",
       "      <td>0</td>\n",
       "      <td>0</td>\n",
       "      <td>1</td>\n",
       "      <td>0</td>\n",
       "      <td>0</td>\n",
       "      <td>0</td>\n",
       "      <td>0</td>\n",
       "      <td>0</td>\n",
       "      <td>1.0</td>\n",
       "      <td>*</td>\n",
       "      <td>200</td>\n",
       "      <td>4.0</td>\n",
       "      <td>*</td>\n",
       "      <td>0</td>\n",
       "      <td>1</td>\n",
       "    </tr>\n",
       "  </tbody>\n",
       "</table>\n",
       "</div>"
      ],
      "text/plain": [
       "   EDAD  SEXO ESTEROIDES  ANTIVIRALES FATIGA MALAISE ANOREXIA HIGgrande  \\\n",
       "0    30     1          0            0      0       0        0         0   \n",
       "1    50     0          0            0      1       0        0         0   \n",
       "2    78     0          1            0      1       0        0         1   \n",
       "3    31     0          *            1      0       0        0         1   \n",
       "4    34     0          1            0      0       0        0         1   \n",
       "\n",
       "  HIGfirme BAZOpalpa ARANIASvac ASCITIS VARICES BILIRRUBINA FOSFATOalc SGOT  \\\n",
       "0        0         0          0       0       0         1.0         85   18   \n",
       "1        0         0          0       0       0         0.9        135   42   \n",
       "2        0         0          0       0       0         0.7         96   32   \n",
       "3        0         0          0       0       0         0.7         46   52   \n",
       "4        0         0          0       0       0         1.0          *  200   \n",
       "\n",
       "  ALBUMINA PROTIME  HISTIOLOGIA  PRONOSTICO  \n",
       "0      4.0       *            0           1  \n",
       "1      3.5       *            0           1  \n",
       "2      4.0       *            0           1  \n",
       "3      4.0      80            0           1  \n",
       "4      4.0       *            0           1  "
      ]
     },
     "execution_count": 15,
     "metadata": {},
     "output_type": "execute_result"
    }
   ],
   "source": [
    "df = pd.read_csv('./hepatitis.csv', header=None, names=colnames)\n",
    "df.head()"
   ]
  },
  {
   "cell_type": "markdown",
   "id": "b110de04",
   "metadata": {},
   "source": [
    "Podemos obtener más detalle de nuestro conjunto de datos a través de la función `info`:"
   ]
  },
  {
   "cell_type": "code",
   "execution_count": 16,
   "id": "e1ee76cf",
   "metadata": {},
   "outputs": [
    {
     "name": "stdout",
     "output_type": "stream",
     "text": [
      "<class 'pandas.core.frame.DataFrame'>\n",
      "RangeIndex: 155 entries, 0 to 154\n",
      "Data columns (total 20 columns):\n",
      " #   Column       Non-Null Count  Dtype \n",
      "---  ------       --------------  ----- \n",
      " 0   EDAD         155 non-null    int64 \n",
      " 1   SEXO         155 non-null    int64 \n",
      " 2   ESTEROIDES   155 non-null    object\n",
      " 3   ANTIVIRALES  155 non-null    int64 \n",
      " 4   FATIGA       155 non-null    object\n",
      " 5   MALAISE      155 non-null    object\n",
      " 6   ANOREXIA     155 non-null    object\n",
      " 7   HIGgrande    155 non-null    object\n",
      " 8   HIGfirme     155 non-null    object\n",
      " 9   BAZOpalpa    155 non-null    object\n",
      " 10  ARANIASvac   155 non-null    object\n",
      " 11  ASCITIS      155 non-null    object\n",
      " 12  VARICES      155 non-null    object\n",
      " 13  BILIRRUBINA  155 non-null    object\n",
      " 14  FOSFATOalc   155 non-null    object\n",
      " 15  SGOT         155 non-null    object\n",
      " 16  ALBUMINA     155 non-null    object\n",
      " 17  PROTIME      155 non-null    object\n",
      " 18  HISTIOLOGIA  155 non-null    int64 \n",
      " 19  PRONOSTICO   155 non-null    int64 \n",
      "dtypes: int64(5), object(15)\n",
      "memory usage: 24.3+ KB\n"
     ]
    }
   ],
   "source": [
    "df.info()"
   ]
  },
  {
   "cell_type": "markdown",
   "id": "c636165d",
   "metadata": {},
   "source": [
    "El último paso sería sustituir los `*` que representan los valores ausentes en el fichero que acabamos de cargar. Si lo queremos hacer de forma manual, podríamos ejecutar la función `replace` indicando el valor a reemplazar y su valor sustituto:"
   ]
  },
  {
   "cell_type": "code",
   "execution_count": 17,
   "id": "59790ca6",
   "metadata": {},
   "outputs": [
    {
     "data": {
      "text/html": [
       "<div>\n",
       "<style scoped>\n",
       "    .dataframe tbody tr th:only-of-type {\n",
       "        vertical-align: middle;\n",
       "    }\n",
       "\n",
       "    .dataframe tbody tr th {\n",
       "        vertical-align: top;\n",
       "    }\n",
       "\n",
       "    .dataframe thead th {\n",
       "        text-align: right;\n",
       "    }\n",
       "</style>\n",
       "<table border=\"1\" class=\"dataframe\">\n",
       "  <thead>\n",
       "    <tr style=\"text-align: right;\">\n",
       "      <th></th>\n",
       "      <th>EDAD</th>\n",
       "      <th>SEXO</th>\n",
       "      <th>ESTEROIDES</th>\n",
       "      <th>ANTIVIRALES</th>\n",
       "      <th>FATIGA</th>\n",
       "      <th>MALAISE</th>\n",
       "      <th>ANOREXIA</th>\n",
       "      <th>HIGgrande</th>\n",
       "      <th>HIGfirme</th>\n",
       "      <th>BAZOpalpa</th>\n",
       "      <th>ARANIASvac</th>\n",
       "      <th>ASCITIS</th>\n",
       "      <th>VARICES</th>\n",
       "      <th>BILIRRUBINA</th>\n",
       "      <th>FOSFATOalc</th>\n",
       "      <th>SGOT</th>\n",
       "      <th>ALBUMINA</th>\n",
       "      <th>PROTIME</th>\n",
       "      <th>HISTIOLOGIA</th>\n",
       "      <th>PRONOSTICO</th>\n",
       "    </tr>\n",
       "  </thead>\n",
       "  <tbody>\n",
       "    <tr>\n",
       "      <th>0</th>\n",
       "      <td>30</td>\n",
       "      <td>1</td>\n",
       "      <td>0</td>\n",
       "      <td>0</td>\n",
       "      <td>0</td>\n",
       "      <td>0</td>\n",
       "      <td>0</td>\n",
       "      <td>0</td>\n",
       "      <td>0</td>\n",
       "      <td>0</td>\n",
       "      <td>0</td>\n",
       "      <td>0</td>\n",
       "      <td>0</td>\n",
       "      <td>1.0</td>\n",
       "      <td>85</td>\n",
       "      <td>18</td>\n",
       "      <td>4.0</td>\n",
       "      <td>NaN</td>\n",
       "      <td>0</td>\n",
       "      <td>1</td>\n",
       "    </tr>\n",
       "    <tr>\n",
       "      <th>1</th>\n",
       "      <td>50</td>\n",
       "      <td>0</td>\n",
       "      <td>0</td>\n",
       "      <td>0</td>\n",
       "      <td>1</td>\n",
       "      <td>0</td>\n",
       "      <td>0</td>\n",
       "      <td>0</td>\n",
       "      <td>0</td>\n",
       "      <td>0</td>\n",
       "      <td>0</td>\n",
       "      <td>0</td>\n",
       "      <td>0</td>\n",
       "      <td>0.9</td>\n",
       "      <td>135</td>\n",
       "      <td>42</td>\n",
       "      <td>3.5</td>\n",
       "      <td>NaN</td>\n",
       "      <td>0</td>\n",
       "      <td>1</td>\n",
       "    </tr>\n",
       "    <tr>\n",
       "      <th>2</th>\n",
       "      <td>78</td>\n",
       "      <td>0</td>\n",
       "      <td>1</td>\n",
       "      <td>0</td>\n",
       "      <td>1</td>\n",
       "      <td>0</td>\n",
       "      <td>0</td>\n",
       "      <td>1</td>\n",
       "      <td>0</td>\n",
       "      <td>0</td>\n",
       "      <td>0</td>\n",
       "      <td>0</td>\n",
       "      <td>0</td>\n",
       "      <td>0.7</td>\n",
       "      <td>96</td>\n",
       "      <td>32</td>\n",
       "      <td>4.0</td>\n",
       "      <td>NaN</td>\n",
       "      <td>0</td>\n",
       "      <td>1</td>\n",
       "    </tr>\n",
       "    <tr>\n",
       "      <th>3</th>\n",
       "      <td>31</td>\n",
       "      <td>0</td>\n",
       "      <td>NaN</td>\n",
       "      <td>1</td>\n",
       "      <td>0</td>\n",
       "      <td>0</td>\n",
       "      <td>0</td>\n",
       "      <td>1</td>\n",
       "      <td>0</td>\n",
       "      <td>0</td>\n",
       "      <td>0</td>\n",
       "      <td>0</td>\n",
       "      <td>0</td>\n",
       "      <td>0.7</td>\n",
       "      <td>46</td>\n",
       "      <td>52</td>\n",
       "      <td>4.0</td>\n",
       "      <td>80</td>\n",
       "      <td>0</td>\n",
       "      <td>1</td>\n",
       "    </tr>\n",
       "    <tr>\n",
       "      <th>4</th>\n",
       "      <td>34</td>\n",
       "      <td>0</td>\n",
       "      <td>1</td>\n",
       "      <td>0</td>\n",
       "      <td>0</td>\n",
       "      <td>0</td>\n",
       "      <td>0</td>\n",
       "      <td>1</td>\n",
       "      <td>0</td>\n",
       "      <td>0</td>\n",
       "      <td>0</td>\n",
       "      <td>0</td>\n",
       "      <td>0</td>\n",
       "      <td>1.0</td>\n",
       "      <td>NaN</td>\n",
       "      <td>200</td>\n",
       "      <td>4.0</td>\n",
       "      <td>NaN</td>\n",
       "      <td>0</td>\n",
       "      <td>1</td>\n",
       "    </tr>\n",
       "  </tbody>\n",
       "</table>\n",
       "</div>"
      ],
      "text/plain": [
       "   EDAD  SEXO ESTEROIDES  ANTIVIRALES FATIGA MALAISE ANOREXIA HIGgrande  \\\n",
       "0    30     1          0            0      0       0        0         0   \n",
       "1    50     0          0            0      1       0        0         0   \n",
       "2    78     0          1            0      1       0        0         1   \n",
       "3    31     0        NaN            1      0       0        0         1   \n",
       "4    34     0          1            0      0       0        0         1   \n",
       "\n",
       "  HIGfirme BAZOpalpa ARANIASvac ASCITIS VARICES BILIRRUBINA FOSFATOalc SGOT  \\\n",
       "0        0         0          0       0       0         1.0         85   18   \n",
       "1        0         0          0       0       0         0.9        135   42   \n",
       "2        0         0          0       0       0         0.7         96   32   \n",
       "3        0         0          0       0       0         0.7         46   52   \n",
       "4        0         0          0       0       0         1.0        NaN  200   \n",
       "\n",
       "  ALBUMINA PROTIME  HISTIOLOGIA  PRONOSTICO  \n",
       "0      4.0     NaN            0           1  \n",
       "1      3.5     NaN            0           1  \n",
       "2      4.0     NaN            0           1  \n",
       "3      4.0      80            0           1  \n",
       "4      4.0     NaN            0           1  "
      ]
     },
     "execution_count": 17,
     "metadata": {},
     "output_type": "execute_result"
    }
   ],
   "source": [
    "df = df.replace('*', math.nan)\n",
    "df.head()"
   ]
  },
  {
   "cell_type": "markdown",
   "id": "cc91d0b1",
   "metadata": {},
   "source": [
    "Otra opción sería indicarlo directamente durante la carga del fichero:"
   ]
  },
  {
   "cell_type": "code",
   "execution_count": 18,
   "id": "d6817903",
   "metadata": {},
   "outputs": [
    {
     "data": {
      "text/html": [
       "<div>\n",
       "<style scoped>\n",
       "    .dataframe tbody tr th:only-of-type {\n",
       "        vertical-align: middle;\n",
       "    }\n",
       "\n",
       "    .dataframe tbody tr th {\n",
       "        vertical-align: top;\n",
       "    }\n",
       "\n",
       "    .dataframe thead th {\n",
       "        text-align: right;\n",
       "    }\n",
       "</style>\n",
       "<table border=\"1\" class=\"dataframe\">\n",
       "  <thead>\n",
       "    <tr style=\"text-align: right;\">\n",
       "      <th></th>\n",
       "      <th>EDAD</th>\n",
       "      <th>SEXO</th>\n",
       "      <th>ESTEROIDES</th>\n",
       "      <th>ANTIVIRALES</th>\n",
       "      <th>FATIGA</th>\n",
       "      <th>MALAISE</th>\n",
       "      <th>ANOREXIA</th>\n",
       "      <th>HIGgrande</th>\n",
       "      <th>HIGfirme</th>\n",
       "      <th>BAZOpalpa</th>\n",
       "      <th>ARANIASvac</th>\n",
       "      <th>ASCITIS</th>\n",
       "      <th>VARICES</th>\n",
       "      <th>BILIRRUBINA</th>\n",
       "      <th>FOSFATOalc</th>\n",
       "      <th>SGOT</th>\n",
       "      <th>ALBUMINA</th>\n",
       "      <th>PROTIME</th>\n",
       "      <th>HISTIOLOGIA</th>\n",
       "      <th>PRONOSTICO</th>\n",
       "    </tr>\n",
       "  </thead>\n",
       "  <tbody>\n",
       "    <tr>\n",
       "      <th>0</th>\n",
       "      <td>30</td>\n",
       "      <td>1</td>\n",
       "      <td>0.0</td>\n",
       "      <td>0</td>\n",
       "      <td>0.0</td>\n",
       "      <td>0.0</td>\n",
       "      <td>0.0</td>\n",
       "      <td>0.0</td>\n",
       "      <td>0.0</td>\n",
       "      <td>0.0</td>\n",
       "      <td>0.0</td>\n",
       "      <td>0.0</td>\n",
       "      <td>0.0</td>\n",
       "      <td>1.0</td>\n",
       "      <td>85.0</td>\n",
       "      <td>18.0</td>\n",
       "      <td>4.0</td>\n",
       "      <td>NaN</td>\n",
       "      <td>0</td>\n",
       "      <td>1</td>\n",
       "    </tr>\n",
       "    <tr>\n",
       "      <th>1</th>\n",
       "      <td>50</td>\n",
       "      <td>0</td>\n",
       "      <td>0.0</td>\n",
       "      <td>0</td>\n",
       "      <td>1.0</td>\n",
       "      <td>0.0</td>\n",
       "      <td>0.0</td>\n",
       "      <td>0.0</td>\n",
       "      <td>0.0</td>\n",
       "      <td>0.0</td>\n",
       "      <td>0.0</td>\n",
       "      <td>0.0</td>\n",
       "      <td>0.0</td>\n",
       "      <td>0.9</td>\n",
       "      <td>135.0</td>\n",
       "      <td>42.0</td>\n",
       "      <td>3.5</td>\n",
       "      <td>NaN</td>\n",
       "      <td>0</td>\n",
       "      <td>1</td>\n",
       "    </tr>\n",
       "    <tr>\n",
       "      <th>2</th>\n",
       "      <td>78</td>\n",
       "      <td>0</td>\n",
       "      <td>1.0</td>\n",
       "      <td>0</td>\n",
       "      <td>1.0</td>\n",
       "      <td>0.0</td>\n",
       "      <td>0.0</td>\n",
       "      <td>1.0</td>\n",
       "      <td>0.0</td>\n",
       "      <td>0.0</td>\n",
       "      <td>0.0</td>\n",
       "      <td>0.0</td>\n",
       "      <td>0.0</td>\n",
       "      <td>0.7</td>\n",
       "      <td>96.0</td>\n",
       "      <td>32.0</td>\n",
       "      <td>4.0</td>\n",
       "      <td>NaN</td>\n",
       "      <td>0</td>\n",
       "      <td>1</td>\n",
       "    </tr>\n",
       "    <tr>\n",
       "      <th>3</th>\n",
       "      <td>31</td>\n",
       "      <td>0</td>\n",
       "      <td>NaN</td>\n",
       "      <td>1</td>\n",
       "      <td>0.0</td>\n",
       "      <td>0.0</td>\n",
       "      <td>0.0</td>\n",
       "      <td>1.0</td>\n",
       "      <td>0.0</td>\n",
       "      <td>0.0</td>\n",
       "      <td>0.0</td>\n",
       "      <td>0.0</td>\n",
       "      <td>0.0</td>\n",
       "      <td>0.7</td>\n",
       "      <td>46.0</td>\n",
       "      <td>52.0</td>\n",
       "      <td>4.0</td>\n",
       "      <td>80.0</td>\n",
       "      <td>0</td>\n",
       "      <td>1</td>\n",
       "    </tr>\n",
       "    <tr>\n",
       "      <th>4</th>\n",
       "      <td>34</td>\n",
       "      <td>0</td>\n",
       "      <td>1.0</td>\n",
       "      <td>0</td>\n",
       "      <td>0.0</td>\n",
       "      <td>0.0</td>\n",
       "      <td>0.0</td>\n",
       "      <td>1.0</td>\n",
       "      <td>0.0</td>\n",
       "      <td>0.0</td>\n",
       "      <td>0.0</td>\n",
       "      <td>0.0</td>\n",
       "      <td>0.0</td>\n",
       "      <td>1.0</td>\n",
       "      <td>NaN</td>\n",
       "      <td>200.0</td>\n",
       "      <td>4.0</td>\n",
       "      <td>NaN</td>\n",
       "      <td>0</td>\n",
       "      <td>1</td>\n",
       "    </tr>\n",
       "  </tbody>\n",
       "</table>\n",
       "</div>"
      ],
      "text/plain": [
       "   EDAD  SEXO  ESTEROIDES  ANTIVIRALES  FATIGA  MALAISE  ANOREXIA  HIGgrande  \\\n",
       "0    30     1         0.0            0     0.0      0.0       0.0        0.0   \n",
       "1    50     0         0.0            0     1.0      0.0       0.0        0.0   \n",
       "2    78     0         1.0            0     1.0      0.0       0.0        1.0   \n",
       "3    31     0         NaN            1     0.0      0.0       0.0        1.0   \n",
       "4    34     0         1.0            0     0.0      0.0       0.0        1.0   \n",
       "\n",
       "   HIGfirme  BAZOpalpa  ARANIASvac  ASCITIS  VARICES  BILIRRUBINA  FOSFATOalc  \\\n",
       "0       0.0        0.0         0.0      0.0      0.0          1.0        85.0   \n",
       "1       0.0        0.0         0.0      0.0      0.0          0.9       135.0   \n",
       "2       0.0        0.0         0.0      0.0      0.0          0.7        96.0   \n",
       "3       0.0        0.0         0.0      0.0      0.0          0.7        46.0   \n",
       "4       0.0        0.0         0.0      0.0      0.0          1.0         NaN   \n",
       "\n",
       "    SGOT  ALBUMINA  PROTIME  HISTIOLOGIA  PRONOSTICO  \n",
       "0   18.0       4.0      NaN            0           1  \n",
       "1   42.0       3.5      NaN            0           1  \n",
       "2   32.0       4.0      NaN            0           1  \n",
       "3   52.0       4.0     80.0            0           1  \n",
       "4  200.0       4.0      NaN            0           1  "
      ]
     },
     "execution_count": 18,
     "metadata": {},
     "output_type": "execute_result"
    }
   ],
   "source": [
    "df = pd.read_csv('./hepatitis.csv', header=None, names=colnames, na_values='*')\n",
    "df.head()"
   ]
  },
  {
   "cell_type": "code",
   "execution_count": 19,
   "id": "4a6fd0f4",
   "metadata": {},
   "outputs": [
    {
     "name": "stdout",
     "output_type": "stream",
     "text": [
      "<class 'pandas.core.frame.DataFrame'>\n",
      "RangeIndex: 155 entries, 0 to 154\n",
      "Data columns (total 20 columns):\n",
      " #   Column       Non-Null Count  Dtype  \n",
      "---  ------       --------------  -----  \n",
      " 0   EDAD         155 non-null    int64  \n",
      " 1   SEXO         155 non-null    int64  \n",
      " 2   ESTEROIDES   154 non-null    float64\n",
      " 3   ANTIVIRALES  155 non-null    int64  \n",
      " 4   FATIGA       154 non-null    float64\n",
      " 5   MALAISE      154 non-null    float64\n",
      " 6   ANOREXIA     154 non-null    float64\n",
      " 7   HIGgrande    145 non-null    float64\n",
      " 8   HIGfirme     144 non-null    float64\n",
      " 9   BAZOpalpa    150 non-null    float64\n",
      " 10  ARANIASvac   150 non-null    float64\n",
      " 11  ASCITIS      150 non-null    float64\n",
      " 12  VARICES      150 non-null    float64\n",
      " 13  BILIRRUBINA  149 non-null    float64\n",
      " 14  FOSFATOalc   126 non-null    float64\n",
      " 15  SGOT         151 non-null    float64\n",
      " 16  ALBUMINA     139 non-null    float64\n",
      " 17  PROTIME      88 non-null     float64\n",
      " 18  HISTIOLOGIA  155 non-null    int64  \n",
      " 19  PRONOSTICO   155 non-null    int64  \n",
      "dtypes: float64(15), int64(5)\n",
      "memory usage: 24.3 KB\n"
     ]
    }
   ],
   "source": [
    "df.info()"
   ]
  },
  {
   "cell_type": "markdown",
   "id": "3fec7058",
   "metadata": {},
   "source": [
    "## Conversión de tipos\n",
    "\n",
    "Una vez interpretados de forma correcta los valores ausentes y haberle dado nombre a las columnas. El siguiente paso en el procesamiento de datos consiste en definir los tipos de datos adecuados para cada columna. Esto lo podemos hacer mediante las funciones `astype` de `python`. Por ejemplo, para convertir la variable `PROTIME` a variable entera, sólo deberíamos ejecutar el siguiente comando:"
   ]
  },
  {
   "cell_type": "code",
   "execution_count": 20,
   "id": "f5752c4b",
   "metadata": {},
   "outputs": [
    {
     "name": "stdout",
     "output_type": "stream",
     "text": [
      "<class 'pandas.core.frame.DataFrame'>\n",
      "RangeIndex: 155 entries, 0 to 154\n",
      "Data columns (total 20 columns):\n",
      " #   Column       Non-Null Count  Dtype  \n",
      "---  ------       --------------  -----  \n",
      " 0   EDAD         155 non-null    int64  \n",
      " 1   SEXO         155 non-null    int64  \n",
      " 2   ESTEROIDES   154 non-null    float64\n",
      " 3   ANTIVIRALES  155 non-null    int64  \n",
      " 4   FATIGA       154 non-null    float64\n",
      " 5   MALAISE      154 non-null    float64\n",
      " 6   ANOREXIA     154 non-null    float64\n",
      " 7   HIGgrande    145 non-null    float64\n",
      " 8   HIGfirme     144 non-null    float64\n",
      " 9   BAZOpalpa    150 non-null    float64\n",
      " 10  ARANIASvac   150 non-null    float64\n",
      " 11  ASCITIS      150 non-null    float64\n",
      " 12  VARICES      150 non-null    float64\n",
      " 13  BILIRRUBINA  149 non-null    float64\n",
      " 14  FOSFATOalc   126 non-null    float64\n",
      " 15  SGOT         151 non-null    float64\n",
      " 16  ALBUMINA     139 non-null    float64\n",
      " 17  PROTIME      88 non-null     Int64  \n",
      " 18  HISTIOLOGIA  155 non-null    int64  \n",
      " 19  PRONOSTICO   155 non-null    int64  \n",
      "dtypes: Int64(1), float64(14), int64(5)\n",
      "memory usage: 24.5 KB\n"
     ]
    }
   ],
   "source": [
    "df['PROTIME'] = df['PROTIME'].astype('Int64')   # Int64 es un tipo especial de entero que soporta el NaN \n",
    "df.info()"
   ]
  },
  {
   "cell_type": "markdown",
   "id": "3fa0b49a",
   "metadata": {},
   "source": [
    "Se podría hacer lo mismo con atributos de otros tipos. Por ejemplo, el atributo ANTIVIRALES es de tipo lógico, indicados por 0s y 1s: "
   ]
  },
  {
   "cell_type": "code",
   "execution_count": 21,
   "id": "3cfbe215",
   "metadata": {},
   "outputs": [
    {
     "name": "stdout",
     "output_type": "stream",
     "text": [
      "<class 'pandas.core.frame.DataFrame'>\n",
      "RangeIndex: 155 entries, 0 to 154\n",
      "Data columns (total 20 columns):\n",
      " #   Column       Non-Null Count  Dtype  \n",
      "---  ------       --------------  -----  \n",
      " 0   EDAD         155 non-null    int64  \n",
      " 1   SEXO         155 non-null    int64  \n",
      " 2   ESTEROIDES   154 non-null    float64\n",
      " 3   ANTIVIRALES  155 non-null    boolean\n",
      " 4   FATIGA       154 non-null    float64\n",
      " 5   MALAISE      154 non-null    float64\n",
      " 6   ANOREXIA     154 non-null    float64\n",
      " 7   HIGgrande    145 non-null    float64\n",
      " 8   HIGfirme     144 non-null    float64\n",
      " 9   BAZOpalpa    150 non-null    float64\n",
      " 10  ARANIASvac   150 non-null    float64\n",
      " 11  ASCITIS      150 non-null    float64\n",
      " 12  VARICES      150 non-null    float64\n",
      " 13  BILIRRUBINA  149 non-null    float64\n",
      " 14  FOSFATOalc   126 non-null    float64\n",
      " 15  SGOT         151 non-null    float64\n",
      " 16  ALBUMINA     139 non-null    float64\n",
      " 17  PROTIME      88 non-null     Int64  \n",
      " 18  HISTIOLOGIA  155 non-null    int64  \n",
      " 19  PRONOSTICO   155 non-null    int64  \n",
      "dtypes: Int64(1), boolean(1), float64(14), int64(4)\n",
      "memory usage: 23.6 KB\n"
     ]
    }
   ],
   "source": [
    "df['ANTIVIRALES'] = df['ANTIVIRALES'].astype('boolean')\n",
    "df.info()"
   ]
  },
  {
   "cell_type": "markdown",
   "id": "4c19cabc",
   "metadata": {},
   "source": [
    "<div class='alert alert-info'>\n",
    "<strong>Ejercicio:</strong> \n",
    "    \n",
    "- Convierte los atributos ESTEROIDES, ANOREXIA, VARICES, HISTIOLOGIA, HIGgrande, HIGfirme, BAZOpalpa, FATIGA, ARANIASvac, ASCITIS, MALAISE a valores lógicos. \n",
    "\n",
    "- Convierte FOSFATOalc y SGOT a enteros.  \n",
    "    \n",
    "¿Qué pasa con los NaN de esas columnas?\n",
    "    \n",
    "</div>"
   ]
  },
  {
   "cell_type": "code",
   "execution_count": 22,
   "id": "26c38543",
   "metadata": {},
   "outputs": [
    {
     "data": {
      "text/html": [
       "<div>\n",
       "<style scoped>\n",
       "    .dataframe tbody tr th:only-of-type {\n",
       "        vertical-align: middle;\n",
       "    }\n",
       "\n",
       "    .dataframe tbody tr th {\n",
       "        vertical-align: top;\n",
       "    }\n",
       "\n",
       "    .dataframe thead th {\n",
       "        text-align: right;\n",
       "    }\n",
       "</style>\n",
       "<table border=\"1\" class=\"dataframe\">\n",
       "  <thead>\n",
       "    <tr style=\"text-align: right;\">\n",
       "      <th></th>\n",
       "      <th>EDAD</th>\n",
       "      <th>SEXO</th>\n",
       "      <th>ESTEROIDES</th>\n",
       "      <th>ANTIVIRALES</th>\n",
       "      <th>FATIGA</th>\n",
       "      <th>MALAISE</th>\n",
       "      <th>ANOREXIA</th>\n",
       "      <th>HIGgrande</th>\n",
       "      <th>HIGfirme</th>\n",
       "      <th>BAZOpalpa</th>\n",
       "      <th>ARANIASvac</th>\n",
       "      <th>ASCITIS</th>\n",
       "      <th>VARICES</th>\n",
       "      <th>BILIRRUBINA</th>\n",
       "      <th>FOSFATOalc</th>\n",
       "      <th>SGOT</th>\n",
       "      <th>ALBUMINA</th>\n",
       "      <th>PROTIME</th>\n",
       "      <th>HISTIOLOGIA</th>\n",
       "      <th>PRONOSTICO</th>\n",
       "    </tr>\n",
       "  </thead>\n",
       "  <tbody>\n",
       "    <tr>\n",
       "      <th>0</th>\n",
       "      <td>30</td>\n",
       "      <td>1</td>\n",
       "      <td>False</td>\n",
       "      <td>False</td>\n",
       "      <td>False</td>\n",
       "      <td>False</td>\n",
       "      <td>False</td>\n",
       "      <td>False</td>\n",
       "      <td>False</td>\n",
       "      <td>False</td>\n",
       "      <td>False</td>\n",
       "      <td>False</td>\n",
       "      <td>False</td>\n",
       "      <td>1.0</td>\n",
       "      <td>85</td>\n",
       "      <td>18</td>\n",
       "      <td>4.0</td>\n",
       "      <td>&lt;NA&gt;</td>\n",
       "      <td>False</td>\n",
       "      <td>1</td>\n",
       "    </tr>\n",
       "    <tr>\n",
       "      <th>1</th>\n",
       "      <td>50</td>\n",
       "      <td>0</td>\n",
       "      <td>False</td>\n",
       "      <td>False</td>\n",
       "      <td>True</td>\n",
       "      <td>False</td>\n",
       "      <td>False</td>\n",
       "      <td>False</td>\n",
       "      <td>False</td>\n",
       "      <td>False</td>\n",
       "      <td>False</td>\n",
       "      <td>False</td>\n",
       "      <td>False</td>\n",
       "      <td>0.9</td>\n",
       "      <td>135</td>\n",
       "      <td>42</td>\n",
       "      <td>3.5</td>\n",
       "      <td>&lt;NA&gt;</td>\n",
       "      <td>False</td>\n",
       "      <td>1</td>\n",
       "    </tr>\n",
       "    <tr>\n",
       "      <th>2</th>\n",
       "      <td>78</td>\n",
       "      <td>0</td>\n",
       "      <td>True</td>\n",
       "      <td>False</td>\n",
       "      <td>True</td>\n",
       "      <td>False</td>\n",
       "      <td>False</td>\n",
       "      <td>True</td>\n",
       "      <td>False</td>\n",
       "      <td>False</td>\n",
       "      <td>False</td>\n",
       "      <td>False</td>\n",
       "      <td>False</td>\n",
       "      <td>0.7</td>\n",
       "      <td>96</td>\n",
       "      <td>32</td>\n",
       "      <td>4.0</td>\n",
       "      <td>&lt;NA&gt;</td>\n",
       "      <td>False</td>\n",
       "      <td>1</td>\n",
       "    </tr>\n",
       "    <tr>\n",
       "      <th>3</th>\n",
       "      <td>31</td>\n",
       "      <td>0</td>\n",
       "      <td>&lt;NA&gt;</td>\n",
       "      <td>True</td>\n",
       "      <td>False</td>\n",
       "      <td>False</td>\n",
       "      <td>False</td>\n",
       "      <td>True</td>\n",
       "      <td>False</td>\n",
       "      <td>False</td>\n",
       "      <td>False</td>\n",
       "      <td>False</td>\n",
       "      <td>False</td>\n",
       "      <td>0.7</td>\n",
       "      <td>46</td>\n",
       "      <td>52</td>\n",
       "      <td>4.0</td>\n",
       "      <td>80</td>\n",
       "      <td>False</td>\n",
       "      <td>1</td>\n",
       "    </tr>\n",
       "    <tr>\n",
       "      <th>4</th>\n",
       "      <td>34</td>\n",
       "      <td>0</td>\n",
       "      <td>True</td>\n",
       "      <td>False</td>\n",
       "      <td>False</td>\n",
       "      <td>False</td>\n",
       "      <td>False</td>\n",
       "      <td>True</td>\n",
       "      <td>False</td>\n",
       "      <td>False</td>\n",
       "      <td>False</td>\n",
       "      <td>False</td>\n",
       "      <td>False</td>\n",
       "      <td>1.0</td>\n",
       "      <td>&lt;NA&gt;</td>\n",
       "      <td>200</td>\n",
       "      <td>4.0</td>\n",
       "      <td>&lt;NA&gt;</td>\n",
       "      <td>False</td>\n",
       "      <td>1</td>\n",
       "    </tr>\n",
       "  </tbody>\n",
       "</table>\n",
       "</div>"
      ],
      "text/plain": [
       "   EDAD  SEXO  ESTEROIDES  ANTIVIRALES  FATIGA  MALAISE  ANOREXIA  HIGgrande  \\\n",
       "0    30     1       False        False   False    False     False      False   \n",
       "1    50     0       False        False    True    False     False      False   \n",
       "2    78     0        True        False    True    False     False       True   \n",
       "3    31     0        <NA>         True   False    False     False       True   \n",
       "4    34     0        True        False   False    False     False       True   \n",
       "\n",
       "   HIGfirme  BAZOpalpa  ARANIASvac  ASCITIS  VARICES  BILIRRUBINA  FOSFATOalc  \\\n",
       "0     False      False       False    False    False          1.0          85   \n",
       "1     False      False       False    False    False          0.9         135   \n",
       "2     False      False       False    False    False          0.7          96   \n",
       "3     False      False       False    False    False          0.7          46   \n",
       "4     False      False       False    False    False          1.0        <NA>   \n",
       "\n",
       "   SGOT  ALBUMINA  PROTIME  HISTIOLOGIA  PRONOSTICO  \n",
       "0    18       4.0     <NA>        False           1  \n",
       "1    42       3.5     <NA>        False           1  \n",
       "2    32       4.0     <NA>        False           1  \n",
       "3    52       4.0       80        False           1  \n",
       "4   200       4.0     <NA>        False           1  "
      ]
     },
     "execution_count": 22,
     "metadata": {},
     "output_type": "execute_result"
    }
   ],
   "source": [
    "df['FOSFATOalc'] = df['FOSFATOalc'].astype('Int64')\n",
    "df['SGOT'] = df['SGOT'].astype('Int64')\n",
    "df['ESTEROIDES'] = df['ESTEROIDES'].astype('boolean')\n",
    "df['ANOREXIA'] = df['ANOREXIA'].astype('boolean')\n",
    "df['VARICES'] = df['VARICES'].astype('boolean')\n",
    "df['HISTIOLOGIA'] = df['HISTIOLOGIA'].astype('boolean')\n",
    "df['ANOREXIA'] = df['ANOREXIA'].astype('boolean')\n",
    "df['HIGgrande'] = df['HIGgrande'].astype('boolean')\n",
    "df['HIGfirme'] = df['HIGfirme'].astype('boolean')\n",
    "df['BAZOpalpa'] = df['BAZOpalpa'].astype('boolean')\n",
    "df['FATIGA'] = df['FATIGA'].astype('boolean')\n",
    "df['ARANIASvac'] = df['ARANIASvac'].astype('boolean')\n",
    "df['ASCITIS'] = df['ASCITIS'].astype('boolean')\n",
    "df['MALAISE'] = df['MALAISE'].astype('boolean')\n",
    "df.head()"
   ]
  },
  {
   "cell_type": "markdown",
   "id": "d37e6f57",
   "metadata": {},
   "source": [
    "Llegados a este punto, nos queda por tratar de forma correcta los atributos originales. En este caso obsérvese que el atributo PRONOSTICO está definido como entero y, por lo tanto, si se intentasen aplicar técnicas de clasificación, o bien no se podrán realizar o se construiría un modelo de regresión al estar definido dicho atributo como entero. Para solucionar este problema, bastaría con indicar que es una categoría a través de la función `astype()`. "
   ]
  },
  {
   "cell_type": "markdown",
   "id": "b7c61b92",
   "metadata": {},
   "source": [
    "Sin embargo, en estos casos sería más interesante que los elementos de la enumeración fuesen más informativos. En nuestro caso, sería deseable cambiar el 0 y el 1 por FALLECE Y VIVE, respectivamente. Esta recodificación de etiquetas se puede hacer utilizando la función `mask()` del dataframe de la siguiente forma:"
   ]
  },
  {
   "cell_type": "code",
   "execution_count": 23,
   "id": "4b23c844",
   "metadata": {},
   "outputs": [
    {
     "name": "stderr",
     "output_type": "stream",
     "text": [
      "C:\\Users\\acull\\AppData\\Local\\Temp\\ipykernel_7916\\2345304590.py:1: FutureWarning: Setting an item of incompatible dtype is deprecated and will raise in a future error of pandas. Value 'FALLECE' has dtype incompatible with int64, please explicitly cast to a compatible dtype first.\n",
      "  df['PRONOSTICO'].mask(df['PRONOSTICO'] == 0, 'FALLECE', inplace=True)\n"
     ]
    }
   ],
   "source": [
    "df['PRONOSTICO'].mask(df['PRONOSTICO'] == 0, 'FALLECE', inplace=True)\n",
    "df['PRONOSTICO'].mask(df['PRONOSTICO'] == 1, 'VIVE', inplace=True)"
   ]
  },
  {
   "cell_type": "markdown",
   "id": "b14d53a4",
   "metadata": {},
   "source": [
    "Una vez hecho este cambio, ya podríamos indicar que la columna es una categoría:"
   ]
  },
  {
   "cell_type": "code",
   "execution_count": 24,
   "id": "a14f5f64",
   "metadata": {},
   "outputs": [],
   "source": [
    "df['PRONOSTICO'] = df['PRONOSTICO'].astype('category')"
   ]
  },
  {
   "cell_type": "markdown",
   "id": "440f2d65",
   "metadata": {},
   "source": [
    "<div class='alert alert-info'>\n",
    "  <strong>Ejercicio:</strong>\n",
    "  \n",
    "- Transforma el atributo SEXO en una categoría y asigna al 1 la etiqueta MASCULINO y al 0 la etiqueta FEMENINO.\n",
    "\n",
    "</div>"
   ]
  },
  {
   "cell_type": "code",
   "execution_count": 25,
   "id": "b873b21f",
   "metadata": {},
   "outputs": [
    {
     "name": "stdout",
     "output_type": "stream",
     "text": [
      "<class 'pandas.core.frame.DataFrame'>\n",
      "RangeIndex: 155 entries, 0 to 154\n",
      "Data columns (total 20 columns):\n",
      " #   Column       Non-Null Count  Dtype   \n",
      "---  ------       --------------  -----   \n",
      " 0   EDAD         155 non-null    int64   \n",
      " 1   SEXO         155 non-null    category\n",
      " 2   ESTEROIDES   154 non-null    boolean \n",
      " 3   ANTIVIRALES  155 non-null    boolean \n",
      " 4   FATIGA       154 non-null    boolean \n",
      " 5   MALAISE      154 non-null    boolean \n",
      " 6   ANOREXIA     154 non-null    boolean \n",
      " 7   HIGgrande    145 non-null    boolean \n",
      " 8   HIGfirme     144 non-null    boolean \n",
      " 9   BAZOpalpa    150 non-null    boolean \n",
      " 10  ARANIASvac   150 non-null    boolean \n",
      " 11  ASCITIS      150 non-null    boolean \n",
      " 12  VARICES      150 non-null    boolean \n",
      " 13  BILIRRUBINA  149 non-null    float64 \n",
      " 14  FOSFATOalc   126 non-null    Int64   \n",
      " 15  SGOT         151 non-null    Int64   \n",
      " 16  ALBUMINA     139 non-null    float64 \n",
      " 17  PROTIME      88 non-null     Int64   \n",
      " 18  HISTIOLOGIA  155 non-null    boolean \n",
      " 19  PRONOSTICO   155 non-null    category\n",
      "dtypes: Int64(3), boolean(12), category(2), float64(2), int64(1)\n",
      "memory usage: 12.0 KB\n"
     ]
    },
    {
     "name": "stderr",
     "output_type": "stream",
     "text": [
      "C:\\Users\\acull\\AppData\\Local\\Temp\\ipykernel_7916\\3339405181.py:1: FutureWarning: Setting an item of incompatible dtype is deprecated and will raise in a future error of pandas. Value 'FEMENINO' has dtype incompatible with int64, please explicitly cast to a compatible dtype first.\n",
      "  df['SEXO'].mask(df['SEXO'] == 0, 'FEMENINO', inplace=True)\n"
     ]
    }
   ],
   "source": [
    "df['SEXO'].mask(df['SEXO'] == 0, 'FEMENINO', inplace=True)\n",
    "df['SEXO'].mask(df['SEXO'] == 1, 'MASCULINO', inplace=True)\n",
    "df['SEXO'] = df['SEXO'].astype('category')\n",
    "df.info()"
   ]
  },
  {
   "cell_type": "markdown",
   "id": "42ca0e2e",
   "metadata": {},
   "source": [
    "## Análisis de valores ausentes\n",
    "\n",
    "Antes de empezar a imputar los valores ausentes habría que estudiar la distribución de los mismo. En gran medida, ya podemos ver al ejecutar la función `info()` los valores ausentes de cada una de las columnas."
   ]
  },
  {
   "cell_type": "code",
   "execution_count": 26,
   "id": "3bfb130f",
   "metadata": {},
   "outputs": [
    {
     "name": "stdout",
     "output_type": "stream",
     "text": [
      "<class 'pandas.core.frame.DataFrame'>\n",
      "RangeIndex: 155 entries, 0 to 154\n",
      "Data columns (total 20 columns):\n",
      " #   Column       Non-Null Count  Dtype   \n",
      "---  ------       --------------  -----   \n",
      " 0   EDAD         155 non-null    int64   \n",
      " 1   SEXO         155 non-null    category\n",
      " 2   ESTEROIDES   154 non-null    boolean \n",
      " 3   ANTIVIRALES  155 non-null    boolean \n",
      " 4   FATIGA       154 non-null    boolean \n",
      " 5   MALAISE      154 non-null    boolean \n",
      " 6   ANOREXIA     154 non-null    boolean \n",
      " 7   HIGgrande    145 non-null    boolean \n",
      " 8   HIGfirme     144 non-null    boolean \n",
      " 9   BAZOpalpa    150 non-null    boolean \n",
      " 10  ARANIASvac   150 non-null    boolean \n",
      " 11  ASCITIS      150 non-null    boolean \n",
      " 12  VARICES      150 non-null    boolean \n",
      " 13  BILIRRUBINA  149 non-null    float64 \n",
      " 14  FOSFATOalc   126 non-null    Int64   \n",
      " 15  SGOT         151 non-null    Int64   \n",
      " 16  ALBUMINA     139 non-null    float64 \n",
      " 17  PROTIME      88 non-null     Int64   \n",
      " 18  HISTIOLOGIA  155 non-null    boolean \n",
      " 19  PRONOSTICO   155 non-null    category\n",
      "dtypes: Int64(3), boolean(12), category(2), float64(2), int64(1)\n",
      "memory usage: 12.0 KB\n"
     ]
    }
   ],
   "source": [
    "df.info()"
   ]
  },
  {
   "cell_type": "markdown",
   "id": "9ba45399",
   "metadata": {},
   "source": [
    "Pero también podríamos verlo utilizando la función `isnull()`:"
   ]
  },
  {
   "cell_type": "code",
   "execution_count": 27,
   "id": "3932ca41",
   "metadata": {},
   "outputs": [
    {
     "data": {
      "text/plain": [
       "EDAD           False\n",
       "SEXO           False\n",
       "ESTEROIDES      True\n",
       "ANTIVIRALES    False\n",
       "FATIGA          True\n",
       "MALAISE         True\n",
       "ANOREXIA        True\n",
       "HIGgrande       True\n",
       "HIGfirme        True\n",
       "BAZOpalpa       True\n",
       "ARANIASvac      True\n",
       "ASCITIS         True\n",
       "VARICES         True\n",
       "BILIRRUBINA     True\n",
       "FOSFATOalc      True\n",
       "SGOT            True\n",
       "ALBUMINA        True\n",
       "PROTIME         True\n",
       "HISTIOLOGIA    False\n",
       "PRONOSTICO     False\n",
       "dtype: bool"
      ]
     },
     "execution_count": 27,
     "metadata": {},
     "output_type": "execute_result"
    }
   ],
   "source": [
    "df.isnull().any()"
   ]
  },
  {
   "cell_type": "markdown",
   "id": "e2bed855",
   "metadata": {},
   "source": [
    "En este caso, con el `any()` se agrupa por columna (sin él nos devolvería el resultado por celda). Si utilizamos el agregador `sum()` obtendríamos la suma de valores ausentes por columna:"
   ]
  },
  {
   "cell_type": "code",
   "execution_count": 28,
   "id": "a2af4652",
   "metadata": {},
   "outputs": [
    {
     "data": {
      "text/plain": [
       "EDAD            0\n",
       "SEXO            0\n",
       "ESTEROIDES      1\n",
       "ANTIVIRALES     0\n",
       "FATIGA          1\n",
       "MALAISE         1\n",
       "ANOREXIA        1\n",
       "HIGgrande      10\n",
       "HIGfirme       11\n",
       "BAZOpalpa       5\n",
       "ARANIASvac      5\n",
       "ASCITIS         5\n",
       "VARICES         5\n",
       "BILIRRUBINA     6\n",
       "FOSFATOalc     29\n",
       "SGOT            4\n",
       "ALBUMINA       16\n",
       "PROTIME        67\n",
       "HISTIOLOGIA     0\n",
       "PRONOSTICO      0\n",
       "dtype: int64"
      ]
     },
     "execution_count": 28,
     "metadata": {},
     "output_type": "execute_result"
    }
   ],
   "source": [
    "df.isnull().sum()"
   ]
  },
  {
   "cell_type": "markdown",
   "id": "5de30e95",
   "metadata": {},
   "source": [
    "Y si lo volvemos a sumar, obtendríamos el total de valores ausentes de nuestro conjunto de datos:"
   ]
  },
  {
   "cell_type": "code",
   "execution_count": 29,
   "id": "fc241ba2",
   "metadata": {},
   "outputs": [
    {
     "data": {
      "text/plain": [
       "167"
      ]
     },
     "execution_count": 29,
     "metadata": {},
     "output_type": "execute_result"
    }
   ],
   "source": [
    "df.isnull().sum().sum()"
   ]
  },
  {
   "cell_type": "markdown",
   "id": "1977584e",
   "metadata": {},
   "source": [
    "Podemos representar gráficamente los resultados anteriores a través de la librería `missingno`. El primer paso sería instalarla a través del siguiente comando:"
   ]
  },
  {
   "cell_type": "code",
   "execution_count": 30,
   "id": "f2045c7e",
   "metadata": {},
   "outputs": [
    {
     "name": "stdout",
     "output_type": "stream",
     "text": [
      "Requirement already satisfied: missingno in c:\\users\\acull\\appdata\\local\\programs\\python\\python312\\lib\\site-packages (0.5.2)\n",
      "Requirement already satisfied: numpy in c:\\users\\acull\\appdata\\local\\programs\\python\\python312\\lib\\site-packages (from missingno) (1.26.1)\n",
      "Requirement already satisfied: matplotlib in c:\\users\\acull\\appdata\\local\\programs\\python\\python312\\lib\\site-packages (from missingno) (3.8.1)\n",
      "Requirement already satisfied: scipy in c:\\users\\acull\\appdata\\local\\programs\\python\\python312\\lib\\site-packages (from missingno) (1.11.3)\n",
      "Requirement already satisfied: seaborn in c:\\users\\acull\\appdata\\local\\programs\\python\\python312\\lib\\site-packages (from missingno) (0.13.2)\n",
      "Requirement already satisfied: contourpy>=1.0.1 in c:\\users\\acull\\appdata\\local\\programs\\python\\python312\\lib\\site-packages (from matplotlib->missingno) (1.2.0)\n",
      "Requirement already satisfied: cycler>=0.10 in c:\\users\\acull\\appdata\\local\\programs\\python\\python312\\lib\\site-packages (from matplotlib->missingno) (0.12.1)\n",
      "Requirement already satisfied: fonttools>=4.22.0 in c:\\users\\acull\\appdata\\local\\programs\\python\\python312\\lib\\site-packages (from matplotlib->missingno) (4.44.0)\n",
      "Requirement already satisfied: kiwisolver>=1.3.1 in c:\\users\\acull\\appdata\\local\\programs\\python\\python312\\lib\\site-packages (from matplotlib->missingno) (1.4.5)\n",
      "Requirement already satisfied: packaging>=20.0 in c:\\users\\acull\\appdata\\roaming\\python\\python312\\site-packages (from matplotlib->missingno) (23.2)\n",
      "Requirement already satisfied: pillow>=8 in c:\\users\\acull\\appdata\\local\\programs\\python\\python312\\lib\\site-packages (from matplotlib->missingno) (10.1.0)\n",
      "Requirement already satisfied: pyparsing>=2.3.1 in c:\\users\\acull\\appdata\\local\\programs\\python\\python312\\lib\\site-packages (from matplotlib->missingno) (3.1.1)\n",
      "Requirement already satisfied: python-dateutil>=2.7 in c:\\users\\acull\\appdata\\roaming\\python\\python312\\site-packages (from matplotlib->missingno) (2.8.2)\n",
      "Requirement already satisfied: pandas>=1.2 in c:\\users\\acull\\appdata\\local\\programs\\python\\python312\\lib\\site-packages (from seaborn->missingno) (2.1.2)\n",
      "Requirement already satisfied: pytz>=2020.1 in c:\\users\\acull\\appdata\\local\\programs\\python\\python312\\lib\\site-packages (from pandas>=1.2->seaborn->missingno) (2023.3.post1)\n",
      "Requirement already satisfied: tzdata>=2022.1 in c:\\users\\acull\\appdata\\local\\programs\\python\\python312\\lib\\site-packages (from pandas>=1.2->seaborn->missingno) (2023.3)\n",
      "Requirement already satisfied: six>=1.5 in c:\\users\\acull\\appdata\\roaming\\python\\python312\\site-packages (from python-dateutil>=2.7->matplotlib->missingno) (1.16.0)\n",
      "Note: you may need to restart the kernel to use updated packages.\n"
     ]
    },
    {
     "name": "stderr",
     "output_type": "stream",
     "text": [
      "\n",
      "[notice] A new release of pip is available: 23.3.1 -> 24.0\n",
      "[notice] To update, run: python.exe -m pip install --upgrade pip\n"
     ]
    }
   ],
   "source": [
    "pip install missingno"
   ]
  },
  {
   "cell_type": "code",
   "execution_count": 31,
   "id": "aca8682a",
   "metadata": {},
   "outputs": [],
   "source": [
    "import missingno as mi"
   ]
  },
  {
   "cell_type": "markdown",
   "id": "bb49bb9d",
   "metadata": {},
   "source": [
    "La función bar() nos permitiría ver la distribución de datos ausentes en un diagrama de barras agrupado por las variables: "
   ]
  },
  {
   "cell_type": "code",
   "execution_count": 32,
   "id": "d3813103",
   "metadata": {},
   "outputs": [
    {
     "data": {
      "text/plain": [
       "<Axes: >"
      ]
     },
     "execution_count": 32,
     "metadata": {},
     "output_type": "execute_result"
    },
    {
     "data": {
      "image/png": "[encoded data removed]",
      "text/plain": [
       "<Figure size 2500x1000 with 3 Axes>"
      ]
     },
     "metadata": {},
     "output_type": "display_data"
    }
   ],
   "source": [
    "mi.bar(df)"
   ]
  },
  {
   "cell_type": "markdown",
   "id": "2a059993",
   "metadata": {},
   "source": [
    "Otra visualización es en forma matricial, donde cada fila representa uno de los objetos, y los valores ausentes se representan en blanco. "
   ]
  },
  {
   "cell_type": "code",
   "execution_count": 33,
   "id": "9427aac8",
   "metadata": {},
   "outputs": [
    {
     "data": {
      "text/plain": [
       "<Axes: >"
      ]
     },
     "execution_count": 33,
     "metadata": {},
     "output_type": "execute_result"
    },
    {
     "data": {
      "image/png": "[encoded data removed]",
      "text/plain": [
       "<Figure size 2500x1000 with 2 Axes>"
      ]
     },
     "metadata": {},
     "output_type": "display_data"
    }
   ],
   "source": [
    "mi.matrix(df)"
   ]
  },
  {
   "cell_type": "markdown",
   "id": "8d6ca483",
   "metadata": {},
   "source": [
    "En la parte derecha del gráfico hay una línea que va desde 0, a la izquierda, hasta el número total de columnas. Cuando una fila tiene un valor en cada columna, la línea estará en la posición máxima a la derecha. A medida que los valores faltantes comienzan a aumentar dentro de esa fila, la línea se moverá hacia la izquierda. En este caso, el máximo de valores ausentes está en la línea 56:"
   ]
  },
  {
   "cell_type": "code",
   "execution_count": 34,
   "id": "ef00d6c9",
   "metadata": {},
   "outputs": [
    {
     "data": {
      "text/html": [
       "<div>\n",
       "<style scoped>\n",
       "    .dataframe tbody tr th:only-of-type {\n",
       "        vertical-align: middle;\n",
       "    }\n",
       "\n",
       "    .dataframe tbody tr th {\n",
       "        vertical-align: top;\n",
       "    }\n",
       "\n",
       "    .dataframe thead th {\n",
       "        text-align: right;\n",
       "    }\n",
       "</style>\n",
       "<table border=\"1\" class=\"dataframe\">\n",
       "  <thead>\n",
       "    <tr style=\"text-align: right;\">\n",
       "      <th></th>\n",
       "      <th>EDAD</th>\n",
       "      <th>SEXO</th>\n",
       "      <th>ESTEROIDES</th>\n",
       "      <th>ANTIVIRALES</th>\n",
       "      <th>FATIGA</th>\n",
       "      <th>MALAISE</th>\n",
       "      <th>ANOREXIA</th>\n",
       "      <th>HIGgrande</th>\n",
       "      <th>HIGfirme</th>\n",
       "      <th>BAZOpalpa</th>\n",
       "      <th>ARANIASvac</th>\n",
       "      <th>ASCITIS</th>\n",
       "      <th>VARICES</th>\n",
       "      <th>BILIRRUBINA</th>\n",
       "      <th>FOSFATOalc</th>\n",
       "      <th>SGOT</th>\n",
       "      <th>ALBUMINA</th>\n",
       "      <th>PROTIME</th>\n",
       "      <th>HISTIOLOGIA</th>\n",
       "      <th>PRONOSTICO</th>\n",
       "    </tr>\n",
       "  </thead>\n",
       "  <tbody>\n",
       "    <tr>\n",
       "      <th>56</th>\n",
       "      <td>34</td>\n",
       "      <td>FEMENINO</td>\n",
       "      <td>False</td>\n",
       "      <td>False</td>\n",
       "      <td>&lt;NA&gt;</td>\n",
       "      <td>&lt;NA&gt;</td>\n",
       "      <td>&lt;NA&gt;</td>\n",
       "      <td>&lt;NA&gt;</td>\n",
       "      <td>&lt;NA&gt;</td>\n",
       "      <td>&lt;NA&gt;</td>\n",
       "      <td>&lt;NA&gt;</td>\n",
       "      <td>&lt;NA&gt;</td>\n",
       "      <td>&lt;NA&gt;</td>\n",
       "      <td>NaN</td>\n",
       "      <td>&lt;NA&gt;</td>\n",
       "      <td>&lt;NA&gt;</td>\n",
       "      <td>NaN</td>\n",
       "      <td>&lt;NA&gt;</td>\n",
       "      <td>False</td>\n",
       "      <td>VIVE</td>\n",
       "    </tr>\n",
       "  </tbody>\n",
       "</table>\n",
       "</div>"
      ],
      "text/plain": [
       "    EDAD      SEXO  ESTEROIDES  ANTIVIRALES  FATIGA  MALAISE  ANOREXIA  \\\n",
       "56    34  FEMENINO       False        False    <NA>     <NA>      <NA>   \n",
       "\n",
       "    HIGgrande  HIGfirme  BAZOpalpa  ARANIASvac  ASCITIS  VARICES  BILIRRUBINA  \\\n",
       "56       <NA>      <NA>       <NA>        <NA>     <NA>     <NA>          NaN   \n",
       "\n",
       "    FOSFATOalc  SGOT  ALBUMINA  PROTIME  HISTIOLOGIA PRONOSTICO  \n",
       "56        <NA>  <NA>       NaN     <NA>        False       VIVE  "
      ]
     },
     "execution_count": 34,
     "metadata": {},
     "output_type": "execute_result"
    }
   ],
   "source": [
    "df.iloc[[56]]"
   ]
  },
  {
   "cell_type": "markdown",
   "id": "b7896539",
   "metadata": {},
   "source": [
    "Los mapas de calor proporcionan otra forma de representar esta información permitiendo, además, identificar correlaciones de la nulidad entre cada una de las diferentes columnas. En otras palabras, se puede utilizar para identificar si existe una relación en la presencia de valores nulos entre cada una de las columnas.\n",
    "\n",
    "Valores próximos a 1 positivo indican que la presencia de valores nulos en una columna está correlacionada con la presencia de valores nulos en otra columna.\n",
    "\n",
    "Los valores próximos a 1 negativo indican que la presencia de valores nulos en una columna está anticorrelacionada con la presencia de valores nulos en otra columna. En otras palabras, cuando hay valores nulos en una columna, hay valores de datos presentes en la otra columna, y viceversa.\n",
    "\n",
    "Los valores cercanos a 0, indican que hay poca o ninguna relación entre la presencia de valores nulos en una columna en comparación con otra.\n",
    "\n",
    "El mapa de calor se puede generar a través del siguiente comando: "
   ]
  },
  {
   "cell_type": "code",
   "execution_count": 35,
   "id": "c27c56d6",
   "metadata": {},
   "outputs": [
    {
     "data": {
      "text/plain": [
       "<Axes: >"
      ]
     },
     "execution_count": 35,
     "metadata": {},
     "output_type": "execute_result"
    },
    {
     "data": {
      "image/png": "[encoded data removed]",
      "text/plain": [
       "<Figure size 2000x1200 with 2 Axes>"
      ]
     },
     "metadata": {},
     "output_type": "display_data"
    }
   ],
   "source": [
    "mi.heatmap(df)"
   ]
  },
  {
   "cell_type": "markdown",
   "id": "95544a40",
   "metadata": {},
   "source": [
    "La librería `seaborn` ofrece algunas opciones sencillas de visualización. En concreto, los mapas de calor seaborn muestran dónde se encuentran los datos espacialmente dentro del dataframe. El siguiente código produce un mapa de calor seaborn:"
   ]
  },
  {
   "cell_type": "code",
   "execution_count": 36,
   "id": "0a0eb09a",
   "metadata": {},
   "outputs": [],
   "source": [
    "import seaborn as sns\n",
    "import matplotlib.pyplot as plt"
   ]
  },
  {
   "cell_type": "code",
   "execution_count": 37,
   "id": "c97733bc",
   "metadata": {},
   "outputs": [
    {
     "data": {
      "image/png": "[encoded data removed]",
      "text/plain": [
       "<Figure size 1500x500 with 2 Axes>"
      ]
     },
     "metadata": {},
     "output_type": "display_data"
    }
   ],
   "source": [
    "plt.subplots(figsize=(15,5))  \n",
    "sns.heatmap(df.isnull().transpose(), cmap = 'Blues')\n",
    "plt.title(\"Missing Data in MPG Data\")\n",
    "plt.show()"
   ]
  },
  {
   "cell_type": "markdown",
   "id": "c4dd2fa8",
   "metadata": {},
   "source": [
    "\n",
    "## Imputación de valores ausente\n",
    "\n",
    "Como ya se ha visto en teoría el proceso de imputación consiste en la estimación de posibles valores para aquello campos con valores ausentes. Existen muchos métodos de imputación y ninguno destaca sobre los demás. El método elegido dependerá de muchos factores como el tipo de datos (no todos los métodos de imputación admiten valores booleanos o factores), el tipo de problema, rango de la variable, etc. \n",
    "\n",
    "### Imputación con el SimpleInputer\n",
    "\n",
    "En `python` existen multitud de paquetes que ofrecen funciones para implementar distintas técnicas de imputación, aquí vamos a utilizar la librería `sklearn.impute`.\n",
    "\n",
    "Para más información consultar el siguiente enlace: https://scikit-learn.org/stable/modules/impute.html"
   ]
  },
  {
   "cell_type": "code",
   "execution_count": 38,
   "id": "4c865653",
   "metadata": {},
   "outputs": [
    {
     "name": "stdout",
     "output_type": "stream",
     "text": [
      "<class 'pandas.core.frame.DataFrame'>\n",
      "RangeIndex: 155 entries, 0 to 154\n",
      "Data columns (total 20 columns):\n",
      " #   Column       Non-Null Count  Dtype   \n",
      "---  ------       --------------  -----   \n",
      " 0   EDAD         155 non-null    int64   \n",
      " 1   SEXO         155 non-null    category\n",
      " 2   ESTEROIDES   154 non-null    boolean \n",
      " 3   ANTIVIRALES  155 non-null    boolean \n",
      " 4   FATIGA       154 non-null    boolean \n",
      " 5   MALAISE      154 non-null    boolean \n",
      " 6   ANOREXIA     154 non-null    boolean \n",
      " 7   HIGgrande    145 non-null    boolean \n",
      " 8   HIGfirme     144 non-null    boolean \n",
      " 9   BAZOpalpa    150 non-null    boolean \n",
      " 10  ARANIASvac   150 non-null    boolean \n",
      " 11  ASCITIS      150 non-null    boolean \n",
      " 12  VARICES      150 non-null    boolean \n",
      " 13  BILIRRUBINA  149 non-null    float64 \n",
      " 14  FOSFATOalc   126 non-null    Int64   \n",
      " 15  SGOT         151 non-null    Int64   \n",
      " 16  ALBUMINA     139 non-null    float64 \n",
      " 17  PROTIME      88 non-null     Int64   \n",
      " 18  HISTIOLOGIA  155 non-null    boolean \n",
      " 19  PRONOSTICO   155 non-null    category\n",
      "dtypes: Int64(3), boolean(12), category(2), float64(2), int64(1)\n",
      "memory usage: 12.0 KB\n"
     ]
    }
   ],
   "source": [
    "df.info()"
   ]
  },
  {
   "cell_type": "markdown",
   "id": "7a4f9097",
   "metadata": {},
   "source": [
    "A continuación se muestra cómo sería la imputación con variables reales. En este caso, se puede seleccionar como estrategia de imputación la media, la mediana, el valor más frecuente o una constante:"
   ]
  },
  {
   "cell_type": "code",
   "execution_count": 39,
   "id": "296f9b20",
   "metadata": {},
   "outputs": [
    {
     "data": {
      "text/html": [
       "<div>\n",
       "<style scoped>\n",
       "    .dataframe tbody tr th:only-of-type {\n",
       "        vertical-align: middle;\n",
       "    }\n",
       "\n",
       "    .dataframe tbody tr th {\n",
       "        vertical-align: top;\n",
       "    }\n",
       "\n",
       "    .dataframe thead th {\n",
       "        text-align: right;\n",
       "    }\n",
       "</style>\n",
       "<table border=\"1\" class=\"dataframe\">\n",
       "  <thead>\n",
       "    <tr style=\"text-align: right;\">\n",
       "      <th></th>\n",
       "      <th>EDAD</th>\n",
       "      <th>SEXO</th>\n",
       "      <th>ESTEROIDES</th>\n",
       "      <th>ANTIVIRALES</th>\n",
       "      <th>FATIGA</th>\n",
       "      <th>MALAISE</th>\n",
       "      <th>ANOREXIA</th>\n",
       "      <th>HIGgrande</th>\n",
       "      <th>HIGfirme</th>\n",
       "      <th>BAZOpalpa</th>\n",
       "      <th>ARANIASvac</th>\n",
       "      <th>ASCITIS</th>\n",
       "      <th>VARICES</th>\n",
       "      <th>BILIRRUBINA</th>\n",
       "      <th>FOSFATOalc</th>\n",
       "      <th>SGOT</th>\n",
       "      <th>ALBUMINA</th>\n",
       "      <th>PROTIME</th>\n",
       "      <th>HISTIOLOGIA</th>\n",
       "      <th>PRONOSTICO</th>\n",
       "    </tr>\n",
       "  </thead>\n",
       "  <tbody>\n",
       "    <tr>\n",
       "      <th>0</th>\n",
       "      <td>30</td>\n",
       "      <td>MASCULINO</td>\n",
       "      <td>False</td>\n",
       "      <td>False</td>\n",
       "      <td>False</td>\n",
       "      <td>False</td>\n",
       "      <td>False</td>\n",
       "      <td>False</td>\n",
       "      <td>False</td>\n",
       "      <td>False</td>\n",
       "      <td>False</td>\n",
       "      <td>False</td>\n",
       "      <td>False</td>\n",
       "      <td>1.0</td>\n",
       "      <td>85</td>\n",
       "      <td>18</td>\n",
       "      <td>4.0</td>\n",
       "      <td>&lt;NA&gt;</td>\n",
       "      <td>False</td>\n",
       "      <td>VIVE</td>\n",
       "    </tr>\n",
       "    <tr>\n",
       "      <th>1</th>\n",
       "      <td>50</td>\n",
       "      <td>FEMENINO</td>\n",
       "      <td>False</td>\n",
       "      <td>False</td>\n",
       "      <td>True</td>\n",
       "      <td>False</td>\n",
       "      <td>False</td>\n",
       "      <td>False</td>\n",
       "      <td>False</td>\n",
       "      <td>False</td>\n",
       "      <td>False</td>\n",
       "      <td>False</td>\n",
       "      <td>False</td>\n",
       "      <td>0.9</td>\n",
       "      <td>135</td>\n",
       "      <td>42</td>\n",
       "      <td>3.5</td>\n",
       "      <td>&lt;NA&gt;</td>\n",
       "      <td>False</td>\n",
       "      <td>VIVE</td>\n",
       "    </tr>\n",
       "    <tr>\n",
       "      <th>2</th>\n",
       "      <td>78</td>\n",
       "      <td>FEMENINO</td>\n",
       "      <td>True</td>\n",
       "      <td>False</td>\n",
       "      <td>True</td>\n",
       "      <td>False</td>\n",
       "      <td>False</td>\n",
       "      <td>True</td>\n",
       "      <td>False</td>\n",
       "      <td>False</td>\n",
       "      <td>False</td>\n",
       "      <td>False</td>\n",
       "      <td>False</td>\n",
       "      <td>0.7</td>\n",
       "      <td>96</td>\n",
       "      <td>32</td>\n",
       "      <td>4.0</td>\n",
       "      <td>&lt;NA&gt;</td>\n",
       "      <td>False</td>\n",
       "      <td>VIVE</td>\n",
       "    </tr>\n",
       "    <tr>\n",
       "      <th>3</th>\n",
       "      <td>31</td>\n",
       "      <td>FEMENINO</td>\n",
       "      <td>&lt;NA&gt;</td>\n",
       "      <td>True</td>\n",
       "      <td>False</td>\n",
       "      <td>False</td>\n",
       "      <td>False</td>\n",
       "      <td>True</td>\n",
       "      <td>False</td>\n",
       "      <td>False</td>\n",
       "      <td>False</td>\n",
       "      <td>False</td>\n",
       "      <td>False</td>\n",
       "      <td>0.7</td>\n",
       "      <td>46</td>\n",
       "      <td>52</td>\n",
       "      <td>4.0</td>\n",
       "      <td>80</td>\n",
       "      <td>False</td>\n",
       "      <td>VIVE</td>\n",
       "    </tr>\n",
       "    <tr>\n",
       "      <th>4</th>\n",
       "      <td>34</td>\n",
       "      <td>FEMENINO</td>\n",
       "      <td>True</td>\n",
       "      <td>False</td>\n",
       "      <td>False</td>\n",
       "      <td>False</td>\n",
       "      <td>False</td>\n",
       "      <td>True</td>\n",
       "      <td>False</td>\n",
       "      <td>False</td>\n",
       "      <td>False</td>\n",
       "      <td>False</td>\n",
       "      <td>False</td>\n",
       "      <td>1.0</td>\n",
       "      <td>&lt;NA&gt;</td>\n",
       "      <td>200</td>\n",
       "      <td>4.0</td>\n",
       "      <td>&lt;NA&gt;</td>\n",
       "      <td>False</td>\n",
       "      <td>VIVE</td>\n",
       "    </tr>\n",
       "  </tbody>\n",
       "</table>\n",
       "</div>"
      ],
      "text/plain": [
       "   EDAD       SEXO  ESTEROIDES  ANTIVIRALES  FATIGA  MALAISE  ANOREXIA  \\\n",
       "0    30  MASCULINO       False        False   False    False     False   \n",
       "1    50   FEMENINO       False        False    True    False     False   \n",
       "2    78   FEMENINO        True        False    True    False     False   \n",
       "3    31   FEMENINO        <NA>         True   False    False     False   \n",
       "4    34   FEMENINO        True        False   False    False     False   \n",
       "\n",
       "   HIGgrande  HIGfirme  BAZOpalpa  ARANIASvac  ASCITIS  VARICES  BILIRRUBINA  \\\n",
       "0      False     False      False       False    False    False          1.0   \n",
       "1      False     False      False       False    False    False          0.9   \n",
       "2       True     False      False       False    False    False          0.7   \n",
       "3       True     False      False       False    False    False          0.7   \n",
       "4       True     False      False       False    False    False          1.0   \n",
       "\n",
       "   FOSFATOalc  SGOT  ALBUMINA  PROTIME  HISTIOLOGIA PRONOSTICO  \n",
       "0          85    18       4.0     <NA>        False       VIVE  \n",
       "1         135    42       3.5     <NA>        False       VIVE  \n",
       "2          96    32       4.0     <NA>        False       VIVE  \n",
       "3          46    52       4.0       80        False       VIVE  \n",
       "4        <NA>   200       4.0     <NA>        False       VIVE  "
      ]
     },
     "execution_count": 39,
     "metadata": {},
     "output_type": "execute_result"
    }
   ],
   "source": [
    "from sklearn.impute import SimpleImputer\n",
    "\n",
    "# Mean Imputation\n",
    "df_imp = df.copy()\n",
    "si = SimpleImputer(strategy='mean')\n",
    "df_imp['BILIRRUBINA'] = si.fit_transform(df_imp['BILIRRUBINA'].values.reshape(-1,1))\n",
    "df_imp['ALBUMINA'] = si.fit_transform(df_imp['ALBUMINA'].values.reshape(-1,1))\n",
    "df_imp.head()"
   ]
  },
  {
   "cell_type": "markdown",
   "id": "00bce8d7",
   "metadata": {},
   "source": [
    "Probemos imputar la BILIRRUBINA con la mediana y veamos las diferencias: "
   ]
  },
  {
   "cell_type": "code",
   "execution_count": 40,
   "id": "214e63b2",
   "metadata": {},
   "outputs": [
    {
     "data": {
      "image/png": "[encoded data removed]",
      "text/plain": [
       "<Figure size 640x480 with 1 Axes>"
      ]
     },
     "metadata": {},
     "output_type": "display_data"
    },
    {
     "data": {
      "image/png": "[encoded data removed]",
      "text/plain": [
       "<Figure size 640x480 with 1 Axes>"
      ]
     },
     "metadata": {},
     "output_type": "display_data"
    }
   ],
   "source": [
    "si = SimpleImputer(strategy='median')\n",
    "df_imp2 = df.copy()\n",
    "df_imp2['BILIRRUBINA'] = si.fit_transform(df_imp2['BILIRRUBINA'].values.reshape(-1,1))\n",
    "\n",
    "null_values = df['BILIRRUBINA'].isnull()\n",
    "fig = plt.Figure()\n",
    "fig = df_imp.plot(x=\"EDAD\", y='BILIRRUBINA', kind='scatter', c=null_values, cmap='winter', title='Mean Imputation', colorbar=False)\n",
    "\n",
    "fig = plt.Figure()\n",
    "fig = df_imp2.plot(x=\"EDAD\", y='BILIRRUBINA', kind='scatter', c=null_values, cmap='winter', title='Median Imputation', colorbar=False)"
   ]
  },
  {
   "cell_type": "markdown",
   "id": "9ab0c14f",
   "metadata": {},
   "source": [
    "<div class='alert alert-info'>\n",
    "  <strong>Ejercicio:</strong>\n",
    "  \n",
    "- Imputa la variable ALBUMNIA utilizando la mediana.\n",
    "</div>\n",
    "\n",
    "Sin embargo, cuando la imputación se realiza a variables no-reales, solo se puede imputar por el valor más frecuente (moda) o con una constante:"
   ]
  },
  {
   "cell_type": "code",
   "execution_count": 41,
   "id": "361883dd",
   "metadata": {},
   "outputs": [
    {
     "name": "stdout",
     "output_type": "stream",
     "text": [
      "Note: you may need to restart the kernel to use updated packages.\n"
     ]
    },
    {
     "name": "stderr",
     "output_type": "stream",
     "text": [
      "ERROR: Invalid requirement: '#'\n",
      "\n",
      "[notice] A new release of pip is available: 23.3.1 -> 24.0\n",
      "[notice] To update, run: python.exe -m pip install --upgrade pip\n"
     ]
    }
   ],
   "source": [
    "pip install -U scikit-learn  # Es necesario actualizar el sklearn para dar soporte a los pd.NA"
   ]
  },
  {
   "cell_type": "code",
   "execution_count": 42,
   "id": "8d263501",
   "metadata": {},
   "outputs": [
    {
     "data": {
      "text/html": [
       "<div>\n",
       "<style scoped>\n",
       "    .dataframe tbody tr th:only-of-type {\n",
       "        vertical-align: middle;\n",
       "    }\n",
       "\n",
       "    .dataframe tbody tr th {\n",
       "        vertical-align: top;\n",
       "    }\n",
       "\n",
       "    .dataframe thead th {\n",
       "        text-align: right;\n",
       "    }\n",
       "</style>\n",
       "<table border=\"1\" class=\"dataframe\">\n",
       "  <thead>\n",
       "    <tr style=\"text-align: right;\">\n",
       "      <th></th>\n",
       "      <th>EDAD</th>\n",
       "      <th>SEXO</th>\n",
       "      <th>ESTEROIDES</th>\n",
       "      <th>ANTIVIRALES</th>\n",
       "      <th>FATIGA</th>\n",
       "      <th>MALAISE</th>\n",
       "      <th>ANOREXIA</th>\n",
       "      <th>HIGgrande</th>\n",
       "      <th>HIGfirme</th>\n",
       "      <th>BAZOpalpa</th>\n",
       "      <th>ARANIASvac</th>\n",
       "      <th>ASCITIS</th>\n",
       "      <th>VARICES</th>\n",
       "      <th>BILIRRUBINA</th>\n",
       "      <th>FOSFATOalc</th>\n",
       "      <th>SGOT</th>\n",
       "      <th>ALBUMINA</th>\n",
       "      <th>PROTIME</th>\n",
       "      <th>HISTIOLOGIA</th>\n",
       "      <th>PRONOSTICO</th>\n",
       "    </tr>\n",
       "  </thead>\n",
       "  <tbody>\n",
       "    <tr>\n",
       "      <th>0</th>\n",
       "      <td>30</td>\n",
       "      <td>MASCULINO</td>\n",
       "      <td>False</td>\n",
       "      <td>False</td>\n",
       "      <td>False</td>\n",
       "      <td>False</td>\n",
       "      <td>False</td>\n",
       "      <td>False</td>\n",
       "      <td>False</td>\n",
       "      <td>False</td>\n",
       "      <td>False</td>\n",
       "      <td>False</td>\n",
       "      <td>False</td>\n",
       "      <td>1.0</td>\n",
       "      <td>85.0</td>\n",
       "      <td>18.0</td>\n",
       "      <td>4.0</td>\n",
       "      <td>100.0</td>\n",
       "      <td>False</td>\n",
       "      <td>VIVE</td>\n",
       "    </tr>\n",
       "    <tr>\n",
       "      <th>1</th>\n",
       "      <td>50</td>\n",
       "      <td>FEMENINO</td>\n",
       "      <td>False</td>\n",
       "      <td>False</td>\n",
       "      <td>True</td>\n",
       "      <td>False</td>\n",
       "      <td>False</td>\n",
       "      <td>False</td>\n",
       "      <td>False</td>\n",
       "      <td>False</td>\n",
       "      <td>False</td>\n",
       "      <td>False</td>\n",
       "      <td>False</td>\n",
       "      <td>0.9</td>\n",
       "      <td>135.0</td>\n",
       "      <td>42.0</td>\n",
       "      <td>3.5</td>\n",
       "      <td>100.0</td>\n",
       "      <td>False</td>\n",
       "      <td>VIVE</td>\n",
       "    </tr>\n",
       "    <tr>\n",
       "      <th>2</th>\n",
       "      <td>78</td>\n",
       "      <td>FEMENINO</td>\n",
       "      <td>True</td>\n",
       "      <td>False</td>\n",
       "      <td>True</td>\n",
       "      <td>False</td>\n",
       "      <td>False</td>\n",
       "      <td>True</td>\n",
       "      <td>False</td>\n",
       "      <td>False</td>\n",
       "      <td>False</td>\n",
       "      <td>False</td>\n",
       "      <td>False</td>\n",
       "      <td>0.7</td>\n",
       "      <td>96.0</td>\n",
       "      <td>32.0</td>\n",
       "      <td>4.0</td>\n",
       "      <td>100.0</td>\n",
       "      <td>False</td>\n",
       "      <td>VIVE</td>\n",
       "    </tr>\n",
       "    <tr>\n",
       "      <th>3</th>\n",
       "      <td>31</td>\n",
       "      <td>FEMENINO</td>\n",
       "      <td>&lt;NA&gt;</td>\n",
       "      <td>True</td>\n",
       "      <td>False</td>\n",
       "      <td>False</td>\n",
       "      <td>False</td>\n",
       "      <td>True</td>\n",
       "      <td>False</td>\n",
       "      <td>False</td>\n",
       "      <td>False</td>\n",
       "      <td>False</td>\n",
       "      <td>False</td>\n",
       "      <td>0.7</td>\n",
       "      <td>46.0</td>\n",
       "      <td>52.0</td>\n",
       "      <td>4.0</td>\n",
       "      <td>80.0</td>\n",
       "      <td>False</td>\n",
       "      <td>VIVE</td>\n",
       "    </tr>\n",
       "    <tr>\n",
       "      <th>4</th>\n",
       "      <td>34</td>\n",
       "      <td>FEMENINO</td>\n",
       "      <td>True</td>\n",
       "      <td>False</td>\n",
       "      <td>False</td>\n",
       "      <td>False</td>\n",
       "      <td>False</td>\n",
       "      <td>True</td>\n",
       "      <td>False</td>\n",
       "      <td>False</td>\n",
       "      <td>False</td>\n",
       "      <td>False</td>\n",
       "      <td>False</td>\n",
       "      <td>1.0</td>\n",
       "      <td>85.0</td>\n",
       "      <td>200.0</td>\n",
       "      <td>4.0</td>\n",
       "      <td>100.0</td>\n",
       "      <td>False</td>\n",
       "      <td>VIVE</td>\n",
       "    </tr>\n",
       "  </tbody>\n",
       "</table>\n",
       "</div>"
      ],
      "text/plain": [
       "   EDAD       SEXO  ESTEROIDES  ANTIVIRALES  FATIGA  MALAISE  ANOREXIA  \\\n",
       "0    30  MASCULINO       False        False   False    False     False   \n",
       "1    50   FEMENINO       False        False    True    False     False   \n",
       "2    78   FEMENINO        True        False    True    False     False   \n",
       "3    31   FEMENINO        <NA>         True   False    False     False   \n",
       "4    34   FEMENINO        True        False   False    False     False   \n",
       "\n",
       "   HIGgrande  HIGfirme  BAZOpalpa  ARANIASvac  ASCITIS  VARICES  BILIRRUBINA  \\\n",
       "0      False     False      False       False    False    False          1.0   \n",
       "1      False     False      False       False    False    False          0.9   \n",
       "2       True     False      False       False    False    False          0.7   \n",
       "3       True     False      False       False    False    False          0.7   \n",
       "4       True     False      False       False    False    False          1.0   \n",
       "\n",
       "   FOSFATOalc   SGOT  ALBUMINA  PROTIME  HISTIOLOGIA PRONOSTICO  \n",
       "0        85.0   18.0       4.0    100.0        False       VIVE  \n",
       "1       135.0   42.0       3.5    100.0        False       VIVE  \n",
       "2        96.0   32.0       4.0    100.0        False       VIVE  \n",
       "3        46.0   52.0       4.0     80.0        False       VIVE  \n",
       "4        85.0  200.0       4.0    100.0        False       VIVE  "
      ]
     },
     "execution_count": 42,
     "metadata": {},
     "output_type": "execute_result"
    }
   ],
   "source": [
    "si = SimpleImputer(strategy='most_frequent', missing_values=pd.NA)\n",
    "df_imp['SGOT'] = si.fit_transform(df_imp['SGOT'].values.reshape(-1,1))\n",
    "df_imp['FOSFATOalc'] = si.fit_transform(df_imp['FOSFATOalc'].values.reshape(-1,1))\n",
    "df_imp['PROTIME'] = si.fit_transform(df_imp['PROTIME'].values.reshape(-1,1))\n",
    "df_imp.head()"
   ]
  },
  {
   "cell_type": "markdown",
   "id": "061490d2",
   "metadata": {},
   "source": [
    "Lo mismo sucede con los tipos de datos lógicos:"
   ]
  },
  {
   "cell_type": "code",
   "execution_count": 43,
   "id": "6cc11eb5",
   "metadata": {},
   "outputs": [
    {
     "data": {
      "text/html": [
       "<div>\n",
       "<style scoped>\n",
       "    .dataframe tbody tr th:only-of-type {\n",
       "        vertical-align: middle;\n",
       "    }\n",
       "\n",
       "    .dataframe tbody tr th {\n",
       "        vertical-align: top;\n",
       "    }\n",
       "\n",
       "    .dataframe thead th {\n",
       "        text-align: right;\n",
       "    }\n",
       "</style>\n",
       "<table border=\"1\" class=\"dataframe\">\n",
       "  <thead>\n",
       "    <tr style=\"text-align: right;\">\n",
       "      <th></th>\n",
       "      <th>EDAD</th>\n",
       "      <th>SEXO</th>\n",
       "      <th>ESTEROIDES</th>\n",
       "      <th>ANTIVIRALES</th>\n",
       "      <th>FATIGA</th>\n",
       "      <th>MALAISE</th>\n",
       "      <th>ANOREXIA</th>\n",
       "      <th>HIGgrande</th>\n",
       "      <th>HIGfirme</th>\n",
       "      <th>BAZOpalpa</th>\n",
       "      <th>ARANIASvac</th>\n",
       "      <th>ASCITIS</th>\n",
       "      <th>VARICES</th>\n",
       "      <th>BILIRRUBINA</th>\n",
       "      <th>FOSFATOalc</th>\n",
       "      <th>SGOT</th>\n",
       "      <th>ALBUMINA</th>\n",
       "      <th>PROTIME</th>\n",
       "      <th>HISTIOLOGIA</th>\n",
       "      <th>PRONOSTICO</th>\n",
       "    </tr>\n",
       "  </thead>\n",
       "  <tbody>\n",
       "    <tr>\n",
       "      <th>0</th>\n",
       "      <td>30</td>\n",
       "      <td>MASCULINO</td>\n",
       "      <td>0.0</td>\n",
       "      <td>0.0</td>\n",
       "      <td>0.0</td>\n",
       "      <td>0.0</td>\n",
       "      <td>0.0</td>\n",
       "      <td>0.0</td>\n",
       "      <td>0.0</td>\n",
       "      <td>0.0</td>\n",
       "      <td>0.0</td>\n",
       "      <td>0.0</td>\n",
       "      <td>0.0</td>\n",
       "      <td>1.0</td>\n",
       "      <td>85.0</td>\n",
       "      <td>18.0</td>\n",
       "      <td>4.0</td>\n",
       "      <td>100.0</td>\n",
       "      <td>False</td>\n",
       "      <td>VIVE</td>\n",
       "    </tr>\n",
       "    <tr>\n",
       "      <th>1</th>\n",
       "      <td>50</td>\n",
       "      <td>FEMENINO</td>\n",
       "      <td>0.0</td>\n",
       "      <td>0.0</td>\n",
       "      <td>1.0</td>\n",
       "      <td>0.0</td>\n",
       "      <td>0.0</td>\n",
       "      <td>0.0</td>\n",
       "      <td>0.0</td>\n",
       "      <td>0.0</td>\n",
       "      <td>0.0</td>\n",
       "      <td>0.0</td>\n",
       "      <td>0.0</td>\n",
       "      <td>0.9</td>\n",
       "      <td>135.0</td>\n",
       "      <td>42.0</td>\n",
       "      <td>3.5</td>\n",
       "      <td>100.0</td>\n",
       "      <td>False</td>\n",
       "      <td>VIVE</td>\n",
       "    </tr>\n",
       "    <tr>\n",
       "      <th>2</th>\n",
       "      <td>78</td>\n",
       "      <td>FEMENINO</td>\n",
       "      <td>1.0</td>\n",
       "      <td>0.0</td>\n",
       "      <td>1.0</td>\n",
       "      <td>0.0</td>\n",
       "      <td>0.0</td>\n",
       "      <td>1.0</td>\n",
       "      <td>0.0</td>\n",
       "      <td>0.0</td>\n",
       "      <td>0.0</td>\n",
       "      <td>0.0</td>\n",
       "      <td>0.0</td>\n",
       "      <td>0.7</td>\n",
       "      <td>96.0</td>\n",
       "      <td>32.0</td>\n",
       "      <td>4.0</td>\n",
       "      <td>100.0</td>\n",
       "      <td>False</td>\n",
       "      <td>VIVE</td>\n",
       "    </tr>\n",
       "    <tr>\n",
       "      <th>3</th>\n",
       "      <td>31</td>\n",
       "      <td>FEMENINO</td>\n",
       "      <td>1.0</td>\n",
       "      <td>1.0</td>\n",
       "      <td>0.0</td>\n",
       "      <td>0.0</td>\n",
       "      <td>0.0</td>\n",
       "      <td>1.0</td>\n",
       "      <td>0.0</td>\n",
       "      <td>0.0</td>\n",
       "      <td>0.0</td>\n",
       "      <td>0.0</td>\n",
       "      <td>0.0</td>\n",
       "      <td>0.7</td>\n",
       "      <td>46.0</td>\n",
       "      <td>52.0</td>\n",
       "      <td>4.0</td>\n",
       "      <td>80.0</td>\n",
       "      <td>False</td>\n",
       "      <td>VIVE</td>\n",
       "    </tr>\n",
       "    <tr>\n",
       "      <th>4</th>\n",
       "      <td>34</td>\n",
       "      <td>FEMENINO</td>\n",
       "      <td>1.0</td>\n",
       "      <td>0.0</td>\n",
       "      <td>0.0</td>\n",
       "      <td>0.0</td>\n",
       "      <td>0.0</td>\n",
       "      <td>1.0</td>\n",
       "      <td>0.0</td>\n",
       "      <td>0.0</td>\n",
       "      <td>0.0</td>\n",
       "      <td>0.0</td>\n",
       "      <td>0.0</td>\n",
       "      <td>1.0</td>\n",
       "      <td>85.0</td>\n",
       "      <td>200.0</td>\n",
       "      <td>4.0</td>\n",
       "      <td>100.0</td>\n",
       "      <td>False</td>\n",
       "      <td>VIVE</td>\n",
       "    </tr>\n",
       "  </tbody>\n",
       "</table>\n",
       "</div>"
      ],
      "text/plain": [
       "   EDAD       SEXO  ESTEROIDES  ANTIVIRALES  FATIGA  MALAISE  ANOREXIA  \\\n",
       "0    30  MASCULINO         0.0          0.0     0.0      0.0       0.0   \n",
       "1    50   FEMENINO         0.0          0.0     1.0      0.0       0.0   \n",
       "2    78   FEMENINO         1.0          0.0     1.0      0.0       0.0   \n",
       "3    31   FEMENINO         1.0          1.0     0.0      0.0       0.0   \n",
       "4    34   FEMENINO         1.0          0.0     0.0      0.0       0.0   \n",
       "\n",
       "   HIGgrande  HIGfirme  BAZOpalpa  ARANIASvac  ASCITIS  VARICES  BILIRRUBINA  \\\n",
       "0        0.0       0.0        0.0         0.0      0.0      0.0          1.0   \n",
       "1        0.0       0.0        0.0         0.0      0.0      0.0          0.9   \n",
       "2        1.0       0.0        0.0         0.0      0.0      0.0          0.7   \n",
       "3        1.0       0.0        0.0         0.0      0.0      0.0          0.7   \n",
       "4        1.0       0.0        0.0         0.0      0.0      0.0          1.0   \n",
       "\n",
       "   FOSFATOalc   SGOT  ALBUMINA  PROTIME  HISTIOLOGIA PRONOSTICO  \n",
       "0        85.0   18.0       4.0    100.0        False       VIVE  \n",
       "1       135.0   42.0       3.5    100.0        False       VIVE  \n",
       "2        96.0   32.0       4.0    100.0        False       VIVE  \n",
       "3        46.0   52.0       4.0     80.0        False       VIVE  \n",
       "4        85.0  200.0       4.0    100.0        False       VIVE  "
      ]
     },
     "execution_count": 43,
     "metadata": {},
     "output_type": "execute_result"
    }
   ],
   "source": [
    "si = SimpleImputer(strategy='most_frequent', missing_values=pd.NA)\n",
    "df_imp['ESTEROIDES'] = si.fit_transform(df_imp['ESTEROIDES'].values.reshape(-1,1))\n",
    "df_imp['ANTIVIRALES'] = si.fit_transform(df_imp['ANTIVIRALES'].values.reshape(-1,1))\n",
    "df_imp['FATIGA'] = si.fit_transform(df_imp['FATIGA'].values.reshape(-1,1))\n",
    "df_imp['MALAISE'] = si.fit_transform(df_imp['MALAISE'].values.reshape(-1,1))\n",
    "df_imp['ANOREXIA'] = si.fit_transform(df_imp['ANOREXIA'].values.reshape(-1,1))\n",
    "df_imp['HIGgrande'] = si.fit_transform(df_imp['HIGgrande'].values.reshape(-1,1))\n",
    "df_imp['HIGfirme'] = si.fit_transform(df_imp['HIGfirme'].values.reshape(-1,1))\n",
    "df_imp['BAZOpalpa'] = si.fit_transform(df_imp['BAZOpalpa'].values.reshape(-1,1))\n",
    "df_imp['ARANIASvac'] = si.fit_transform(df_imp['ARANIASvac'].values.reshape(-1,1))\n",
    "df_imp['ASCITIS'] = si.fit_transform(df_imp['ASCITIS'].values.reshape(-1,1))\n",
    "df_imp['VARICES'] = si.fit_transform(df_imp['VARICES'].values.reshape(-1,1))\n",
    "df_imp.head()"
   ]
  },
  {
   "cell_type": "markdown",
   "id": "bd331c60",
   "metadata": {},
   "source": [
    "Y con las variables categóricas: "
   ]
  },
  {
   "cell_type": "code",
   "execution_count": 44,
   "id": "0a2fc39b",
   "metadata": {},
   "outputs": [
    {
     "data": {
      "text/plain": [
       "[['MASCULINO'], ['FEMENINO'], ['FEMENINO'], ['FEMENINO'], ['FEMENINO'], ..., ['FEMENINO'], ['FEMENINO'], ['FEMENINO'], ['MASCULINO'], ['FEMENINO']]\n",
       "Length: 155\n",
       "Categories (2, object): ['FEMENINO', 'MASCULINO']"
      ]
     },
     "execution_count": 44,
     "metadata": {},
     "output_type": "execute_result"
    }
   ],
   "source": [
    "df_imp['SEXO'].values.reshape(-1,1)"
   ]
  },
  {
   "cell_type": "code",
   "execution_count": 45,
   "id": "290b284d",
   "metadata": {},
   "outputs": [
    {
     "name": "stdout",
     "output_type": "stream",
     "text": [
      "<class 'pandas.core.frame.DataFrame'>\n",
      "RangeIndex: 155 entries, 0 to 154\n",
      "Data columns (total 20 columns):\n",
      " #   Column       Non-Null Count  Dtype  \n",
      "---  ------       --------------  -----  \n",
      " 0   EDAD         155 non-null    int64  \n",
      " 1   SEXO         155 non-null    object \n",
      " 2   ESTEROIDES   155 non-null    float64\n",
      " 3   ANTIVIRALES  155 non-null    float64\n",
      " 4   FATIGA       155 non-null    float64\n",
      " 5   MALAISE      155 non-null    float64\n",
      " 6   ANOREXIA     155 non-null    float64\n",
      " 7   HIGgrande    155 non-null    float64\n",
      " 8   HIGfirme     155 non-null    float64\n",
      " 9   BAZOpalpa    155 non-null    float64\n",
      " 10  ARANIASvac   155 non-null    float64\n",
      " 11  ASCITIS      155 non-null    float64\n",
      " 12  VARICES      155 non-null    float64\n",
      " 13  BILIRRUBINA  155 non-null    float64\n",
      " 14  FOSFATOalc   155 non-null    float64\n",
      " 15  SGOT         155 non-null    float64\n",
      " 16  ALBUMINA     155 non-null    float64\n",
      " 17  PROTIME      155 non-null    float64\n",
      " 18  HISTIOLOGIA  155 non-null    boolean\n",
      " 19  PRONOSTICO   155 non-null    object \n",
      "dtypes: boolean(1), float64(16), int64(1), object(2)\n",
      "memory usage: 23.4+ KB\n"
     ]
    }
   ],
   "source": [
    "si = SimpleImputer(strategy='most_frequent', missing_values=pd.NA)\n",
    "imputed_data = si.fit_transform(df_imp['SEXO'].values.reshape(-1, 1))\n",
    "df_imp['SEXO'] = imputed_data.ravel()  # Convierte el resultado a una forma adecuada\n",
    "\n",
    "# Imputar y asignar para 'PRONOSTICO'\n",
    "imputed_data = si.fit_transform(df_imp['PRONOSTICO'].values.reshape(-1, 1))\n",
    "df_imp['PRONOSTICO'] = imputed_data.ravel()  # Convierte el resultado a una forma adecuada\n",
    "\n",
    "df_imp.info()"
   ]
  },
  {
   "cell_type": "code",
   "execution_count": 46,
   "id": "6bf0fa21",
   "metadata": {},
   "outputs": [
    {
     "data": {
      "text/plain": [
       "0"
      ]
     },
     "execution_count": 46,
     "metadata": {},
     "output_type": "execute_result"
    }
   ],
   "source": [
    "df_imp.isnull().sum().sum()"
   ]
  },
  {
   "cell_type": "code",
   "execution_count": 47,
   "id": "f18b6143",
   "metadata": {},
   "outputs": [
    {
     "data": {
      "image/png": "[encoded data removed]",
      "text/plain": [
       "<Figure size 640x480 with 1 Axes>"
      ]
     },
     "metadata": {},
     "output_type": "display_data"
    }
   ],
   "source": [
    "fig = plt.Figure()\n",
    "null_values = df['BILIRRUBINA'].isnull()\n",
    "fig = df_imp.plot(x=\"EDAD\", y='BILIRRUBINA', kind='scatter', c=null_values, cmap='winter', title='Mean Imputation', colorbar=False)"
   ]
  },
  {
   "cell_type": "markdown",
   "id": "3ba455de",
   "metadata": {},
   "source": [
    "### Imputación con KNN\n",
    "\n",
    "Ahora vamos a imputar los valores ausentes a través de otro método, en este caso los k vecinos más cercanos (KNN). Por defecto, este imputador utiliza la una extensión de la distancia euclídea con soporte para valores NaN para medir la distancia entre datos. Para cada valor ausente, su imputación se realiza tomando los k vecinos más cercanos que tienen un valor para la característica.  \n",
    "\n",
    "Para más información consultar el siguiente enlace: https://scikit-learn.org/stable/modules/impute.html"
   ]
  },
  {
   "cell_type": "code",
   "execution_count": 48,
   "id": "b6213b27",
   "metadata": {},
   "outputs": [
    {
     "data": {
      "text/html": [
       "<div>\n",
       "<style scoped>\n",
       "    .dataframe tbody tr th:only-of-type {\n",
       "        vertical-align: middle;\n",
       "    }\n",
       "\n",
       "    .dataframe tbody tr th {\n",
       "        vertical-align: top;\n",
       "    }\n",
       "\n",
       "    .dataframe thead th {\n",
       "        text-align: right;\n",
       "    }\n",
       "</style>\n",
       "<table border=\"1\" class=\"dataframe\">\n",
       "  <thead>\n",
       "    <tr style=\"text-align: right;\">\n",
       "      <th></th>\n",
       "      <th>EDAD</th>\n",
       "      <th>SEXO</th>\n",
       "      <th>ESTEROIDES</th>\n",
       "      <th>ANTIVIRALES</th>\n",
       "      <th>FATIGA</th>\n",
       "      <th>MALAISE</th>\n",
       "      <th>ANOREXIA</th>\n",
       "      <th>HIGgrande</th>\n",
       "      <th>HIGfirme</th>\n",
       "      <th>BAZOpalpa</th>\n",
       "      <th>ARANIASvac</th>\n",
       "      <th>ASCITIS</th>\n",
       "      <th>VARICES</th>\n",
       "      <th>BILIRRUBINA</th>\n",
       "      <th>FOSFATOalc</th>\n",
       "      <th>SGOT</th>\n",
       "      <th>ALBUMINA</th>\n",
       "      <th>PROTIME</th>\n",
       "      <th>HISTIOLOGIA</th>\n",
       "      <th>PRONOSTICO</th>\n",
       "    </tr>\n",
       "  </thead>\n",
       "  <tbody>\n",
       "    <tr>\n",
       "      <th>0</th>\n",
       "      <td>30</td>\n",
       "      <td>MASCULINO</td>\n",
       "      <td>False</td>\n",
       "      <td>False</td>\n",
       "      <td>False</td>\n",
       "      <td>False</td>\n",
       "      <td>False</td>\n",
       "      <td>False</td>\n",
       "      <td>False</td>\n",
       "      <td>False</td>\n",
       "      <td>False</td>\n",
       "      <td>False</td>\n",
       "      <td>False</td>\n",
       "      <td>1.0</td>\n",
       "      <td>85</td>\n",
       "      <td>18</td>\n",
       "      <td>4.0</td>\n",
       "      <td>&lt;NA&gt;</td>\n",
       "      <td>False</td>\n",
       "      <td>VIVE</td>\n",
       "    </tr>\n",
       "    <tr>\n",
       "      <th>1</th>\n",
       "      <td>50</td>\n",
       "      <td>FEMENINO</td>\n",
       "      <td>False</td>\n",
       "      <td>False</td>\n",
       "      <td>True</td>\n",
       "      <td>False</td>\n",
       "      <td>False</td>\n",
       "      <td>False</td>\n",
       "      <td>False</td>\n",
       "      <td>False</td>\n",
       "      <td>False</td>\n",
       "      <td>False</td>\n",
       "      <td>False</td>\n",
       "      <td>0.9</td>\n",
       "      <td>135</td>\n",
       "      <td>42</td>\n",
       "      <td>3.5</td>\n",
       "      <td>&lt;NA&gt;</td>\n",
       "      <td>False</td>\n",
       "      <td>VIVE</td>\n",
       "    </tr>\n",
       "    <tr>\n",
       "      <th>2</th>\n",
       "      <td>78</td>\n",
       "      <td>FEMENINO</td>\n",
       "      <td>True</td>\n",
       "      <td>False</td>\n",
       "      <td>True</td>\n",
       "      <td>False</td>\n",
       "      <td>False</td>\n",
       "      <td>True</td>\n",
       "      <td>False</td>\n",
       "      <td>False</td>\n",
       "      <td>False</td>\n",
       "      <td>False</td>\n",
       "      <td>False</td>\n",
       "      <td>0.7</td>\n",
       "      <td>96</td>\n",
       "      <td>32</td>\n",
       "      <td>4.0</td>\n",
       "      <td>&lt;NA&gt;</td>\n",
       "      <td>False</td>\n",
       "      <td>VIVE</td>\n",
       "    </tr>\n",
       "    <tr>\n",
       "      <th>3</th>\n",
       "      <td>31</td>\n",
       "      <td>FEMENINO</td>\n",
       "      <td>&lt;NA&gt;</td>\n",
       "      <td>True</td>\n",
       "      <td>False</td>\n",
       "      <td>False</td>\n",
       "      <td>False</td>\n",
       "      <td>True</td>\n",
       "      <td>False</td>\n",
       "      <td>False</td>\n",
       "      <td>False</td>\n",
       "      <td>False</td>\n",
       "      <td>False</td>\n",
       "      <td>0.7</td>\n",
       "      <td>46</td>\n",
       "      <td>52</td>\n",
       "      <td>4.0</td>\n",
       "      <td>80</td>\n",
       "      <td>False</td>\n",
       "      <td>VIVE</td>\n",
       "    </tr>\n",
       "    <tr>\n",
       "      <th>4</th>\n",
       "      <td>34</td>\n",
       "      <td>FEMENINO</td>\n",
       "      <td>True</td>\n",
       "      <td>False</td>\n",
       "      <td>False</td>\n",
       "      <td>False</td>\n",
       "      <td>False</td>\n",
       "      <td>True</td>\n",
       "      <td>False</td>\n",
       "      <td>False</td>\n",
       "      <td>False</td>\n",
       "      <td>False</td>\n",
       "      <td>False</td>\n",
       "      <td>1.0</td>\n",
       "      <td>&lt;NA&gt;</td>\n",
       "      <td>200</td>\n",
       "      <td>4.0</td>\n",
       "      <td>&lt;NA&gt;</td>\n",
       "      <td>False</td>\n",
       "      <td>VIVE</td>\n",
       "    </tr>\n",
       "  </tbody>\n",
       "</table>\n",
       "</div>"
      ],
      "text/plain": [
       "   EDAD       SEXO  ESTEROIDES  ANTIVIRALES  FATIGA  MALAISE  ANOREXIA  \\\n",
       "0    30  MASCULINO       False        False   False    False     False   \n",
       "1    50   FEMENINO       False        False    True    False     False   \n",
       "2    78   FEMENINO        True        False    True    False     False   \n",
       "3    31   FEMENINO        <NA>         True   False    False     False   \n",
       "4    34   FEMENINO        True        False   False    False     False   \n",
       "\n",
       "   HIGgrande  HIGfirme  BAZOpalpa  ARANIASvac  ASCITIS  VARICES  BILIRRUBINA  \\\n",
       "0      False     False      False       False    False    False          1.0   \n",
       "1      False     False      False       False    False    False          0.9   \n",
       "2       True     False      False       False    False    False          0.7   \n",
       "3       True     False      False       False    False    False          0.7   \n",
       "4       True     False      False       False    False    False          1.0   \n",
       "\n",
       "   FOSFATOalc  SGOT  ALBUMINA  PROTIME  HISTIOLOGIA PRONOSTICO  \n",
       "0          85    18       4.0     <NA>        False       VIVE  \n",
       "1         135    42       3.5     <NA>        False       VIVE  \n",
       "2          96    32       4.0     <NA>        False       VIVE  \n",
       "3          46    52       4.0       80        False       VIVE  \n",
       "4        <NA>   200       4.0     <NA>        False       VIVE  "
      ]
     },
     "execution_count": 48,
     "metadata": {},
     "output_type": "execute_result"
    }
   ],
   "source": [
    "from sklearn.impute import KNNImputer\n",
    "\n",
    "# Mean Imputation\n",
    "df_imp3 = df.copy()\n",
    "\n",
    "knni = KNNImputer(n_neighbors=2, weights=\"uniform\")\n",
    "df_imp3['BILIRRUBINA'] = knni.fit_transform(df_imp['BILIRRUBINA'].values.reshape(-1,1))\n",
    "df_imp3.head()"
   ]
  },
  {
   "cell_type": "markdown",
   "id": "8b696e2b",
   "metadata": {},
   "source": [
    "### Multivariate Imputation by Chained Equation — MICE\n",
    "\n",
    "Este algoritmo es uno de los más usados. Primero calcula la media de cada columna donde haya un valor ausente y usa el valor medio como marcador. A partir de ahí ejecuta una serie de modelos de regresión (ecuaciones encadenadas) para imputar cada valor ausente de forma secuencial.\n",
    "\n",
    "Para más información consultar el siguiente enlace: https://scikit-learn.org/stable/modules/impute.html"
   ]
  },
  {
   "cell_type": "code",
   "execution_count": 49,
   "id": "24598c5d",
   "metadata": {},
   "outputs": [
    {
     "data": {
      "text/html": [
       "<div>\n",
       "<style scoped>\n",
       "    .dataframe tbody tr th:only-of-type {\n",
       "        vertical-align: middle;\n",
       "    }\n",
       "\n",
       "    .dataframe tbody tr th {\n",
       "        vertical-align: top;\n",
       "    }\n",
       "\n",
       "    .dataframe thead th {\n",
       "        text-align: right;\n",
       "    }\n",
       "</style>\n",
       "<table border=\"1\" class=\"dataframe\">\n",
       "  <thead>\n",
       "    <tr style=\"text-align: right;\">\n",
       "      <th></th>\n",
       "      <th>BILIRRUBINA</th>\n",
       "      <th>ALBUMINA</th>\n",
       "    </tr>\n",
       "  </thead>\n",
       "  <tbody>\n",
       "    <tr>\n",
       "      <th>0</th>\n",
       "      <td>1.0</td>\n",
       "      <td>4.0</td>\n",
       "    </tr>\n",
       "    <tr>\n",
       "      <th>1</th>\n",
       "      <td>0.9</td>\n",
       "      <td>3.5</td>\n",
       "    </tr>\n",
       "    <tr>\n",
       "      <th>2</th>\n",
       "      <td>0.7</td>\n",
       "      <td>4.0</td>\n",
       "    </tr>\n",
       "    <tr>\n",
       "      <th>3</th>\n",
       "      <td>0.7</td>\n",
       "      <td>4.0</td>\n",
       "    </tr>\n",
       "    <tr>\n",
       "      <th>4</th>\n",
       "      <td>1.0</td>\n",
       "      <td>4.0</td>\n",
       "    </tr>\n",
       "  </tbody>\n",
       "</table>\n",
       "</div>"
      ],
      "text/plain": [
       "   BILIRRUBINA  ALBUMINA\n",
       "0          1.0       4.0\n",
       "1          0.9       3.5\n",
       "2          0.7       4.0\n",
       "3          0.7       4.0\n",
       "4          1.0       4.0"
      ]
     },
     "execution_count": 49,
     "metadata": {},
     "output_type": "execute_result"
    }
   ],
   "source": [
    "# Imputing with MICE\n",
    "from sklearn.experimental import enable_iterative_imputer\n",
    "from sklearn.impute import IterativeImputer\n",
    "from sklearn import linear_model\n",
    "\n",
    "df_mice = df.filter(['BILIRRUBINA','ALBUMINA'], axis=1).copy()\n",
    "\n",
    "# Define MICE Imputer and fill missing values\n",
    "mice_imputer = IterativeImputer(estimator=linear_model.BayesianRidge(), n_nearest_features=None, imputation_order='ascending')\n",
    "\n",
    "df_mice_imputed = pd.DataFrame(mice_imputer.fit_transform(df_mice), columns=df_mice.columns)\n",
    "df_mice_imputed.head()"
   ]
  },
  {
   "cell_type": "markdown",
   "id": "86ceb37d",
   "metadata": {},
   "source": [
    "\n",
    "## Clases desbalanceadas \n",
    "\n",
    "En este apartado vamos a analizar cómo aplicar técnicas de muestreo para equilibrar el número de instancias entre las distintas clases en un problema con clases desbalanceadas. Vamos aplicar las técnicas analizadas en clase: submuestreo (down-sampling), sobremuestreo (up-sumpling) y `SMOTE`. \n",
    "\n",
    "Podemos ver que la clase `PRONOSTICO` está claramente desbalanceada hacia las personas que superan la enfermedad:"
   ]
  },
  {
   "cell_type": "code",
   "execution_count": 51,
   "id": "cd93d0a7",
   "metadata": {},
   "outputs": [
    {
     "name": "stdout",
     "output_type": "stream",
     "text": [
      "PRONOSTICO\n",
      "VIVE       123\n",
      "FALLECE     32\n",
      "Name: count, dtype: int64\n"
     ]
    }
   ],
   "source": [
    "print(df['PRONOSTICO'].value_counts())"
   ]
  },
  {
   "cell_type": "markdown",
   "id": "f7cccf3a",
   "metadata": {},
   "source": [
    "Primero, creemos dos conjuntos con los datos de la clase `PRONOSTICO` por separado, uno con las personas que viven y otra con las que mueren: "
   ]
  },
  {
   "cell_type": "code",
   "execution_count": 52,
   "id": "8e1001e7",
   "metadata": {},
   "outputs": [
    {
     "name": "stdout",
     "output_type": "stream",
     "text": [
      "(123, 20)\n",
      "(32, 20)\n"
     ]
    }
   ],
   "source": [
    "viven = df[df['PRONOSTICO'] == \"VIVE\"]\n",
    "mueren  = df[df['PRONOSTICO'] == \"FALLECE\"]\n",
    "print(viven.shape)\n",
    "print(mueren.shape)"
   ]
  },
  {
   "cell_type": "markdown",
   "id": "6fbfcd6a",
   "metadata": {},
   "source": [
    "Podemos balancear el conjunto de datos haciendo un submuestreo a través de la función `resample` de `sklearn.utils`:"
   ]
  },
  {
   "cell_type": "code",
   "execution_count": 53,
   "id": "a63c7a9a",
   "metadata": {},
   "outputs": [
    {
     "name": "stdout",
     "output_type": "stream",
     "text": [
      "(32, 20)\n"
     ]
    }
   ],
   "source": [
    "from sklearn.utils import resample\n",
    "\n",
    "viven_downsample = resample(viven, replace=True, n_samples=len(mueren), random_state=42)\n",
    "\n",
    "print(viven_downsample.shape)"
   ]
  },
  {
   "cell_type": "markdown",
   "id": "7b33d36e",
   "metadata": {},
   "source": [
    "Para generar el conjunto de datos balanceado simplemente concatenamos:"
   ]
  },
  {
   "cell_type": "code",
   "execution_count": 54,
   "id": "10be6bb1",
   "metadata": {},
   "outputs": [],
   "source": [
    "data_downsampled = pd.concat([viven_downsample, mueren])"
   ]
  },
  {
   "cell_type": "markdown",
   "id": "c906ecc1",
   "metadata": {},
   "source": [
    "Se puede hacer un sobremuestreo de una forma similar:"
   ]
  },
  {
   "cell_type": "code",
   "execution_count": 55,
   "id": "c6af7426",
   "metadata": {},
   "outputs": [
    {
     "name": "stdout",
     "output_type": "stream",
     "text": [
      "(123, 20)\n"
     ]
    }
   ],
   "source": [
    "mueren_upsample = resample(mueren, replace=True, n_samples=len(viven), random_state=42)\n",
    "\n",
    "print(mueren_upsample.shape)"
   ]
  },
  {
   "cell_type": "markdown",
   "id": "0583f590",
   "metadata": {},
   "source": [
    "Nuevamente, concatenamos para obtener el conjunto de datos completo: "
   ]
  },
  {
   "cell_type": "code",
   "execution_count": 56,
   "id": "f9f618c8",
   "metadata": {},
   "outputs": [],
   "source": [
    "data_upsampled = pd.concat([viven, mueren_upsample])"
   ]
  },
  {
   "cell_type": "markdown",
   "id": "8a1762ea",
   "metadata": {},
   "source": [
    "Para utilizar `SMOTE`, primero instalamos la librería `imbalanced-learn`:"
   ]
  },
  {
   "cell_type": "code",
   "execution_count": 57,
   "id": "640d8650",
   "metadata": {},
   "outputs": [
    {
     "name": "stdout",
     "output_type": "stream",
     "text": [
      "Requirement already satisfied: imbalanced-learn in c:\\users\\acull\\appdata\\local\\programs\\python\\python312\\lib\\site-packages (0.12.0)\n",
      "Requirement already satisfied: numpy>=1.17.3 in c:\\users\\acull\\appdata\\local\\programs\\python\\python312\\lib\\site-packages (from imbalanced-learn) (1.26.1)\n",
      "Requirement already satisfied: scipy>=1.5.0 in c:\\users\\acull\\appdata\\local\\programs\\python\\python312\\lib\\site-packages (from imbalanced-learn) (1.11.3)\n",
      "Requirement already satisfied: scikit-learn>=1.0.2 in c:\\users\\acull\\appdata\\local\\programs\\python\\python312\\lib\\site-packages (from imbalanced-learn) (1.3.2)\n",
      "Requirement already satisfied: joblib>=1.1.1 in c:\\users\\acull\\appdata\\local\\programs\\python\\python312\\lib\\site-packages (from imbalanced-learn) (1.3.2)\n",
      "Requirement already satisfied: threadpoolctl>=2.0.0 in c:\\users\\acull\\appdata\\local\\programs\\python\\python312\\lib\\site-packages (from imbalanced-learn) (3.2.0)\n",
      "Note: you may need to restart the kernel to use updated packages.\n"
     ]
    },
    {
     "name": "stderr",
     "output_type": "stream",
     "text": [
      "\n",
      "[notice] A new release of pip is available: 23.3.1 -> 24.0\n",
      "[notice] To update, run: python.exe -m pip install --upgrade pip\n"
     ]
    }
   ],
   "source": [
    "pip install imbalanced-learn"
   ]
  },
  {
   "cell_type": "code",
   "execution_count": 58,
   "id": "6e33b5c3",
   "metadata": {},
   "outputs": [],
   "source": [
    "from imblearn.over_sampling import SMOTE\n",
    "from imblearn.combine import SMOTEENN\n",
    "from imblearn.pipeline import make_pipeline"
   ]
  },
  {
   "cell_type": "markdown",
   "id": "ba398bb0",
   "metadata": {},
   "source": [
    "Eliminamos la variable `SEXO`, ya que smote no soporta valores categóricos:"
   ]
  },
  {
   "cell_type": "code",
   "execution_count": 59,
   "id": "7c1d7b68",
   "metadata": {},
   "outputs": [],
   "source": [
    "X = df.filter([\"EDAD\", \"ESTEROIDES\", \"ANTIVIRALES\",\"FATIGA\", \"MALAISE\", \n",
    "            \"ANOREXIA\", \"HIGgrande\", \"HIGfirme\", \"BAZOpalpa\", \"ARANIASvac\", \n",
    "            \"ASCITIS\", \"VARICES\", \"BILIRRUBINA\", \"FOSFATOalc\", \"SGOT\", \n",
    "            \"ALBUMINA\", \"PROTIME\", \"HISTIOLOGIA\"], axis=1).copy()\n",
    "y = df.filter(['PRONOSTICO'], axis=1).copy()"
   ]
  },
  {
   "cell_type": "markdown",
   "id": "7b36c58f",
   "metadata": {},
   "source": [
    "Creamos la instancia de `SMOTE` y transformamos el dataset. Dado que `SMOTE` tampoco soporta valores de tipo `NA` o `NaN` creamos un pipeline en el que primero aplicamos el `SimpleImputer` de `sklearn` y `SMOTE` a continuación:"
   ]
  },
  {
   "cell_type": "code",
   "execution_count": 60,
   "id": "9bf64e05",
   "metadata": {},
   "outputs": [
    {
     "name": "stdout",
     "output_type": "stream",
     "text": [
      "(134, 18)\n",
      "(134, 1)\n"
     ]
    }
   ],
   "source": [
    "# transform the dataset\n",
    "smote = SMOTE()\n",
    "# Es necesario este pipeline para dar soporte a los NaN. Por defecto smote no los soporta.\n",
    "smote_enn = make_pipeline(SimpleImputer(), SMOTEENN(smote=smote))\n",
    "A, b = smote_enn.fit_resample(X, y)\n",
    "print(A.shape)\n",
    "print(b.shape)"
   ]
  },
  {
   "cell_type": "markdown",
   "id": "bf3c7a91",
   "metadata": {},
   "source": [
    "## Normalización y estandarización de los datos\n",
    "\n",
    "Muchos algoritmos de aprendizaje automático funcionan mejor cuando las variables numéricas de entrada se escalan a un rango estándar.\n",
    "\n",
    "Esto incluye algoritmos que utilizan una suma ponderada de la entrada, como la regresión lineal, y algoritmos que utilizan medidas de distancia, como k-vecinos más cercanos.\n",
    "\n",
    "Las dos técnicas más populares para escalar datos numéricos antes de modelarlos son la normalización y la estandarización. La normalización escala cada variable de entrada por separado al intervalo 0-1, que es el intervalo para valores de coma flotante donde tenemos la mayor precisión. La estandarización escala cada variable de entrada por separado restando la media (llamado centrado) y dividiendo por la desviación estándar para cambiar la distribución y tener una media de cero y una desviación estándar de uno.\n",
    "\n",
    "En esta práctica, utilizaremos `sklearn` tanto para la normalización como para la estandarización."
   ]
  },
  {
   "cell_type": "markdown",
   "id": "3a2cd8cc",
   "metadata": {},
   "source": [
    "La normalización consiste en reescalar los datos del intervalo original para que todos los valores se encuentren dentro del nuevo intervalo de 0 y 1. Para ello, es necesario conocer los valores mínimos y máximos observables. Se pueden normalizar los datos utilizando el objeto `MinMaxScaler`, que recibe el conjunto de datos a normalizar y devuelve los datos escalados:"
   ]
  },
  {
   "cell_type": "code",
   "execution_count": 61,
   "id": "70f19299",
   "metadata": {},
   "outputs": [
    {
     "name": "stdout",
     "output_type": "stream",
     "text": [
      "[[0.091]\n",
      " [0.078]\n",
      " [0.052]\n",
      " [0.052]\n",
      " [0.091]\n",
      " [0.078]]\n"
     ]
    }
   ],
   "source": [
    "from sklearn.preprocessing import MinMaxScaler\n",
    "\n",
    "\n",
    "# transofrm data\n",
    "scaler = MinMaxScaler(feature_range=(0, 1))\n",
    "rescaledX = scaler.fit_transform(df_imp['BILIRRUBINA'].values.reshape(-1,1))\n",
    "np.set_printoptions(precision=3)\n",
    "print(rescaledX[0:6,:])"
   ]
  },
  {
   "cell_type": "markdown",
   "id": "d08a94bf",
   "metadata": {},
   "source": [
    "La estandarización de un conjunto de datos consiste en reescalar la distribución de los valores de forma que la media de los valores observados sea 0 y la desviación típica sea 1. Esto puede considerarse como restar el valor medio o centrar los datos.\n",
    "\n",
    "Este proceso supone que sus observaciones se ajustan a una distribución gaussiana (curva de campana) con una media y una desviación estándar bien definidas. Sin embargo, se puede estandarizar los datos si esta expectativa no se cumple, pero los resultados pueden no ser fiables.\n",
    "\n",
    "El objeto `StandardScaler` permite realizar este procedimiento. Al igual que el min-max, recibe el conjunto de datos a estandarizar y devuelve los datos estandarizados:"
   ]
  },
  {
   "cell_type": "code",
   "execution_count": 62,
   "id": "a939770a",
   "metadata": {},
   "outputs": [
    {
     "name": "stdout",
     "output_type": "stream",
     "text": [
      "[[-0.361]\n",
      " [-0.445]\n",
      " [-0.614]\n",
      " [-0.614]\n",
      " [-0.361]\n",
      " [-0.445]]\n"
     ]
    }
   ],
   "source": [
    "from sklearn.preprocessing import StandardScaler\n",
    "\n",
    "# scaler\n",
    "scaler = StandardScaler().fit(df_imp['BILIRRUBINA'].values.reshape(-1,1))\n",
    "rescaledX = scaler.transform(df_imp['BILIRRUBINA'].values.reshape(-1,1))\n",
    "\n",
    "# summarize transformed data\n",
    "np.set_printoptions(precision=3)\n",
    "print(rescaledX[0:6,:])"
   ]
  },
  {
   "cell_type": "markdown",
   "id": "60718d94",
   "metadata": {},
   "source": [
    "## Discretización\n",
    "\n",
    "La discretización permite convertir valores numéricos en nominales ordenados. Este proceso se puede realizar utilizando la librería `sklearn`. Los valores de la variable se agrupan en intervalos discretos y a cada intervalo se le asigna un número entero único de forma que se mantenga la relación ordinal entre los intervalos.\n",
    "\n",
    "El uso de intervalos suele denominarse binning o k-bins, donde k se refiere al número de grupos a los que se asigna una variable numérica.\n",
    "\n",
    "La asignación proporciona una clasificación de alto orden de los valores que puede suavizar las relaciones entre las observaciones. La transformación puede aplicarse a cada variable numérica de entrada en el conjunto de datos de entrenamiento y, a continuación, proporcionarse como entrada a un modelo de aprendizaje automático para aprender una tarea de modelado predictivo.\n",
    "\n",
    "Se pueden utilizar distintos métodos para agrupar los valores en k intervalos discretos:\n",
    "- Uniforme: Cada recipiente tiene la misma anchura en el intervalo de valores posibles para la variable.\n",
    "- Cuantil: Cada intervalo tiene el mismo número de valores, divididos según percentiles.\n",
    "- Clústering: Se identifican grupos y se asignan ejemplos a cada grupo.\n",
    "\n",
    "La discretización se realiza a través de la clase `KBinsDiscretizer`. El parámetro `strategy` controla la forma de dividir la variable de entrada, y puede tomar los valores `uniform`, `quantile`, o `kmeans`."
   ]
  },
  {
   "cell_type": "code",
   "execution_count": 63,
   "id": "79fe3009",
   "metadata": {},
   "outputs": [
    {
     "name": "stdout",
     "output_type": "stream",
     "text": [
      "[[3.]\n",
      " [6.]\n",
      " [9.]\n",
      " [3.]\n",
      " [3.]\n",
      " [3.]\n",
      " [6.]\n",
      " [2.]\n",
      " [4.]\n",
      " [3.]]\n"
     ]
    },
    {
     "name": "stderr",
     "output_type": "stream",
     "text": [
      "c:\\Users\\acull\\AppData\\Local\\Programs\\Python\\Python312\\Lib\\site-packages\\sklearn\\preprocessing\\_discretization.py:248: FutureWarning: In version 1.5 onwards, subsample=200_000 will be used by default. Set subsample explicitly to silence this warning in the mean time. Set subsample=None to disable subsampling explicitly.\n",
      "  warnings.warn(\n"
     ]
    }
   ],
   "source": [
    "from sklearn.preprocessing import KBinsDiscretizer\n",
    "kbins = KBinsDiscretizer(n_bins=10, encode='ordinal', strategy='uniform')\n",
    "data_trans = kbins.fit_transform(df_imp['EDAD'].values.reshape(-1,1))\n",
    "# summarize first few rows\n",
    "print(data_trans[:10, :])"
   ]
  }
 ],
 "metadata": {
  "kernelspec": {
   "display_name": "Python 3 (ipykernel)",
   "language": "python",
   "name": "python3"
  },
  "language_info": {
   "codemirror_mode": {
    "name": "ipython",
    "version": 3
   },
   "file_extension": ".py",
   "mimetype": "text/x-python",
   "name": "python",
   "nbconvert_exporter": "python",
   "pygments_lexer": "ipython3",
   "version": "3.12.0"
  }
 },
 "nbformat": 4,
 "nbformat_minor": 5
}
